{
 "cells": [
  {
   "cell_type": "markdown",
   "metadata": {
    "id": "-nws3ZrtydyM"
   },
   "source": [
    "# Exploratory Data Analysis of Indian Companies Registration #\n",
    "![](https://clockit.io/wp-content/uploads/2016/07/all-companies.png)\n",
    "\n",
    "Exploratory Data Analysis (EDA) is the process of exploring, investigating and gathering insights from data using statistical measures and visualizations. The objective of EDA is to develop and understanding of data, by uncovering trends, relationships and patterns.\n",
    "\n",
    "Companies play an important role in nation's growth. \n",
    "\n",
    "Exploration is the engine that drives innovation. Innovation drives economic growth. So let's all go exploring. -Edith Widder\n",
    "\n",
    "We will explore Indian companies registration from 1857 to 2020. [Dataset](https://www.kaggle.com/datasets/rowhitswami/all-indian-companies-registration-data-1900-2019) that we are going to use in the project is from [Kaggle](https://www.kaggle.com/). \n",
    "\n",
    "Data contains various information like Corporate Identification Number(CIN), Company Name, Company Status, Company Class, Company Category, Authorized Capital in INR, Paid-up Capital in INR, Date of Registration, Registered State, Registrar of Companies, Principal Business Activity, Registered Office Address and Sub Category.\n",
    "\n",
    "There are 1.9+ million rows and 17 columns.\n",
    "\n",
    "In this project we are going to use [Numpy](https://numpy.org/doc/stable/user/index.html), [Pandas](https://pandas.pydata.org/docs/user_guide/index.html), [Matplotlib](https://matplotlib.org/stable/index.html), [Seaborn](https://seaborn.pydata.org/tutorial.html), [Plotly](https://plotly.com/python/), [opendatasets](https://github.com/JovianML/opendatasets) libraries of Python.\n",
    "\n",
    "Here is the outline of the project:\n",
    "* Download the Data\n",
    "* Data Preparation and Cleaning\n",
    "* Exploratory Analysis and Visualization\n",
    "* Ask & Answer Questions\n",
    "* Summary\n",
    "* Conclusion\n",
    "* Future Work Ideas\n",
    "* References"
   ]
  },
  {
   "cell_type": "code",
   "execution_count": null,
   "metadata": {
    "colab": {
     "base_uri": "https://localhost:8080/",
     "height": 122
    },
    "executionInfo": {
     "elapsed": 21125,
     "status": "ok",
     "timestamp": 1663910594365,
     "user": {
      "displayName": "Kshama Singhal",
      "userId": "01290402449884306325"
     },
     "user_tz": -330
    },
    "id": "PSkes-goZliF",
    "outputId": "dcb28fd1-f010-4872-867d-b973ad70ce7d"
   },
   "outputs": [
    {
     "name": "stdout",
     "output_type": "stream",
     "text": [
      "[jovian] Detected Colab notebook...\u001b[0m\n",
      "[jovian] Please enter your API key ( from https://jovian.ai/ ):\u001b[0m\n",
      "API KEY: ··········\n",
      "[jovian] Uploading colab notebook to Jovian...\u001b[0m\n",
      "Committed successfully! https://jovian.ai/singhalkshama4343/exploratory-data-analysis-project\n"
     ]
    },
    {
     "data": {
      "application/vnd.google.colaboratory.intrinsic+json": {
       "type": "string"
      },
      "text/plain": [
       "'https://jovian.ai/singhalkshama4343/exploratory-data-analysis-project'"
      ]
     },
     "execution_count": 2,
     "metadata": {},
     "output_type": "execute_result"
    }
   ],
   "source": [
    "# Execute this to save new versions of the notebook\n",
    "jovian.commit(project=\"exploratory-data-analysis-project\")"
   ]
  },
  {
   "cell_type": "markdown",
   "metadata": {
    "id": "yhKVbbqKj077"
   },
   "source": [
    "First install important libraries that we are going to use i.e. Numpy for numerial calculation, Pandas for handling dataframes and Matplotlib, Plotly, Seaborn for visulization. "
   ]
  },
  {
   "cell_type": "code",
   "execution_count": null,
   "metadata": {
    "colab": {
     "base_uri": "https://localhost:8080/"
    },
    "executionInfo": {
     "elapsed": 58783,
     "status": "ok",
     "timestamp": 1664264252141,
     "user": {
      "displayName": "Kshama Singhal",
      "userId": "01290402449884306325"
     },
     "user_tz": -330
    },
    "id": "Fk6O4uEtAQoj",
    "outputId": "c0190d26-54cd-4b9c-a786-e783b6cf1f82"
   },
   "outputs": [
    {
     "name": "stdout",
     "output_type": "stream",
     "text": [
      "\u001b[K     |████████████████████████████████| 9.5 MB 5.4 MB/s \n",
      "\u001b[K     |████████████████████████████████| 13.1 MB 34.9 MB/s \n",
      "\u001b[K     |████████████████████████████████| 285 kB 41.5 MB/s \n",
      "\u001b[K     |████████████████████████████████| 15.2 MB 45.5 MB/s \n",
      "\u001b[?25h"
     ]
    }
   ],
   "source": [
    "!pip install numpy pandas==1.1.5 wordcloud jovian opendatasets matplotlib==3.1.3 seaborn plotly folium --upgrade --quiet"
   ]
  },
  {
   "cell_type": "markdown",
   "metadata": {
    "id": "2GW2PLFakNWR"
   },
   "source": [
    "Importing libraries."
   ]
  },
  {
   "cell_type": "code",
   "execution_count": null,
   "metadata": {
    "id": "1XI-YTvFAQok"
   },
   "outputs": [],
   "source": [
    "import pandas as pd\n",
    "import numpy as np\n",
    "import seaborn as sns\n",
    "import matplotlib.pyplot as plt\n",
    "import matplotlib\n",
    "import plotly.express as px\n",
    "%matplotlib inline"
   ]
  },
  {
   "cell_type": "markdown",
   "metadata": {
    "id": "EJkqZMR952KZ"
   },
   "source": [
    "## Download the Data"
   ]
  },
  {
   "cell_type": "markdown",
   "metadata": {
    "id": "nP-vZRwzkSsE"
   },
   "source": [
    "We will use opendatasets library for downloading the data. It is effective and easy way to download the data from kaggle.\n",
    "\n",
    "So, first install opendatasets."
   ]
  },
  {
   "cell_type": "code",
   "execution_count": null,
   "metadata": {
    "id": "mTwOISOWbYaY"
   },
   "outputs": [],
   "source": [
    "!pip install opendatasets --upgrade --quiet"
   ]
  },
  {
   "cell_type": "markdown",
   "metadata": {
    "id": "ycCNd2vwlJF-"
   },
   "source": [
    "We have to provide the link for the data in od.download function as an argument.\n",
    "It will ask for username and kaggle key that you can generate by clicking on your kaggle profile. There go to your account and click on 'Create New API Token` available in API. The fill will be downloaded as json file so upload it on the jupyter notebook.\n"
   ]
  },
  {
   "cell_type": "code",
   "execution_count": null,
   "metadata": {
    "colab": {
     "base_uri": "https://localhost:8080/"
    },
    "executionInfo": {
     "elapsed": 434,
     "status": "ok",
     "timestamp": 1664272782440,
     "user": {
      "displayName": "Kshama Singhal",
      "userId": "01290402449884306325"
     },
     "user_tz": -330
    },
    "id": "z_3ItoLNAQol",
    "outputId": "2f1c6825-7df9-44c2-82bd-7959016c3d26"
   },
   "outputs": [
    {
     "name": "stdout",
     "output_type": "stream",
     "text": [
      "Skipping, found downloaded files in \"./all-indian-companies-registration-data-1900-2019\" (use force=True to force download)\n"
     ]
    }
   ],
   "source": [
    "import opendatasets as od\n",
    "\n",
    "download_url=\"https://www.kaggle.com/datasets/rowhitswami/all-indian-companies-registration-data-1900-2019\"\n",
    "\n",
    "od.download(download_url)"
   ]
  },
  {
   "cell_type": "markdown",
   "metadata": {
    "id": "BF2m_6WZmPdq"
   },
   "source": [
    "Now, provide the data file's path. That you can get by following the below method.\n",
    "![](https://i.imgur.com/UaOEye3.png)"
   ]
  },
  {
   "cell_type": "code",
   "execution_count": null,
   "metadata": {
    "id": "96o0p2z8oe_L"
   },
   "outputs": [],
   "source": [
    "data_filename='/content/all-indian-companies-registration-data-1900-2019/registered_companies.csv'"
   ]
  },
  {
   "cell_type": "markdown",
   "metadata": {
    "id": "bZiDvsI7_ZJb"
   },
   "source": [
    "## Data Preparation and Cleaning ##\n",
    "Before starting to analyze and visualize the data we have to look up the file, its colums and their information. We have to go through data to see if there is significant values available. \n"
   ]
  },
  {
   "cell_type": "markdown",
   "metadata": {
    "id": "4uiPJQYWnSFp"
   },
   "source": [
    "We will use Pandas library to read the csv file."
   ]
  },
  {
   "cell_type": "code",
   "execution_count": null,
   "metadata": {
    "colab": {
     "base_uri": "https://localhost:8080/"
    },
    "executionInfo": {
     "elapsed": 19594,
     "status": "ok",
     "timestamp": 1664272814964,
     "user": {
      "displayName": "Kshama Singhal",
      "userId": "01290402449884306325"
     },
     "user_tz": -330
    },
    "id": "QwOmwau06MvD",
    "outputId": "08e45528-28ea-4e50-9d66-e925b623f69b"
   },
   "outputs": [
    {
     "name": "stderr",
     "output_type": "stream",
     "text": [
      "/usr/local/lib/python3.7/dist-packages/IPython/core/interactiveshell.py:3058: DtypeWarning:\n",
      "\n",
      "Columns (10) have mixed types.Specify dtype option on import or set low_memory=False.\n",
      "\n"
     ]
    }
   ],
   "source": [
    "df=pd.read_csv(data_filename)"
   ]
  },
  {
   "cell_type": "code",
   "execution_count": null,
   "metadata": {
    "colab": {
     "base_uri": "https://localhost:8080/",
     "height": 1000
    },
    "executionInfo": {
     "elapsed": 22,
     "status": "ok",
     "timestamp": 1664272814968,
     "user": {
      "displayName": "Kshama Singhal",
      "userId": "01290402449884306325"
     },
     "user_tz": -330
    },
    "id": "ipx--oaO6MsW",
    "outputId": "571e8fbe-2366-431b-b768-1a01fc3a3391"
   },
   "outputs": [
    {
     "data": {
      "text/html": [
       "\n",
       "  <div id=\"df-ec4cf3fa-c490-4652-ae8c-0bae496735d0\">\n",
       "    <div class=\"colab-df-container\">\n",
       "      <div>\n",
       "<style scoped>\n",
       "    .dataframe tbody tr th:only-of-type {\n",
       "        vertical-align: middle;\n",
       "    }\n",
       "\n",
       "    .dataframe tbody tr th {\n",
       "        vertical-align: top;\n",
       "    }\n",
       "\n",
       "    .dataframe thead th {\n",
       "        text-align: right;\n",
       "    }\n",
       "</style>\n",
       "<table border=\"1\" class=\"dataframe\">\n",
       "  <thead>\n",
       "    <tr style=\"text-align: right;\">\n",
       "      <th></th>\n",
       "      <th>CORPORATE_IDENTIFICATION_NUMBER</th>\n",
       "      <th>COMPANY_NAME</th>\n",
       "      <th>COMPANY_STATUS</th>\n",
       "      <th>COMPANY_CLASS</th>\n",
       "      <th>COMPANY_CATEGORY</th>\n",
       "      <th>COMPANY_SUB_CATEGORY</th>\n",
       "      <th>DATE_OF_REGISTRATION</th>\n",
       "      <th>REGISTERED_STATE</th>\n",
       "      <th>AUTHORIZED_CAP</th>\n",
       "      <th>PAIDUP_CAPITAL</th>\n",
       "      <th>INDUSTRIAL_CLASS</th>\n",
       "      <th>PRINCIPAL_BUSINESS_ACTIVITY_AS_PER_CIN</th>\n",
       "      <th>REGISTERED_OFFICE_ADDRESS</th>\n",
       "      <th>REGISTRAR_OF_COMPANIES</th>\n",
       "      <th>EMAIL_ADDR</th>\n",
       "      <th>LATEST_YEAR_ANNUAL_RETURN</th>\n",
       "      <th>LATEST_YEAR_FINANCIAL_STATEMENT</th>\n",
       "    </tr>\n",
       "  </thead>\n",
       "  <tbody>\n",
       "    <tr>\n",
       "      <th>0</th>\n",
       "      <td>F01450</td>\n",
       "      <td>NIKO RESOURCES LIMITED</td>\n",
       "      <td>ACTV</td>\n",
       "      <td>NaN</td>\n",
       "      <td>NaN</td>\n",
       "      <td>NaN</td>\n",
       "      <td>NaN</td>\n",
       "      <td>Gujarat</td>\n",
       "      <td>0.0</td>\n",
       "      <td>0.0</td>\n",
       "      <td>NaN</td>\n",
       "      <td>Agriculture &amp; allied</td>\n",
       "      <td>4TH FLOOR,LANDMARKRACE COURSE</td>\n",
       "      <td>ROC DELHI</td>\n",
       "      <td>SANJAY@NIKOINDIA.COM</td>\n",
       "      <td>NaN</td>\n",
       "      <td>NaN</td>\n",
       "    </tr>\n",
       "    <tr>\n",
       "      <th>1</th>\n",
       "      <td>F01518</td>\n",
       "      <td>WORLDWIDE RESOURCES HOLDINGS LTD</td>\n",
       "      <td>ACTV</td>\n",
       "      <td>NaN</td>\n",
       "      <td>NaN</td>\n",
       "      <td>NaN</td>\n",
       "      <td>16-07-1998</td>\n",
       "      <td>Gujarat</td>\n",
       "      <td>0.0</td>\n",
       "      <td>0.0</td>\n",
       "      <td>NaN</td>\n",
       "      <td>Agriculture &amp; allied</td>\n",
       "      <td>403 3 6 322 MAHAVIR HOUSEBUSHEER BAGH HYDERGUD...</td>\n",
       "      <td>ROC DELHI</td>\n",
       "      <td>NaN</td>\n",
       "      <td>NaN</td>\n",
       "      <td>NaN</td>\n",
       "    </tr>\n",
       "    <tr>\n",
       "      <th>2</th>\n",
       "      <td>F01573</td>\n",
       "      <td>ATWOOD OCEANIC PACIFIC LIMITED</td>\n",
       "      <td>ACTV</td>\n",
       "      <td>NaN</td>\n",
       "      <td>NaN</td>\n",
       "      <td>NaN</td>\n",
       "      <td>NaN</td>\n",
       "      <td>Gujarat</td>\n",
       "      <td>0.0</td>\n",
       "      <td>0.0</td>\n",
       "      <td>NaN</td>\n",
       "      <td>Agriculture &amp; allied</td>\n",
       "      <td>Quadrant 1, Plot Number 18, 2nd FloorSuman Tow...</td>\n",
       "      <td>ROC DELHI</td>\n",
       "      <td>info@nangia.com</td>\n",
       "      <td>NaN</td>\n",
       "      <td>NaN</td>\n",
       "    </tr>\n",
       "    <tr>\n",
       "      <th>3</th>\n",
       "      <td>F01802</td>\n",
       "      <td>SOLVAY S A BELGIUM</td>\n",
       "      <td>NAEF</td>\n",
       "      <td>NaN</td>\n",
       "      <td>NaN</td>\n",
       "      <td>NaN</td>\n",
       "      <td>25-06-2001</td>\n",
       "      <td>Gujarat</td>\n",
       "      <td>0.0</td>\n",
       "      <td>0.0</td>\n",
       "      <td>NaN</td>\n",
       "      <td>Agriculture &amp; allied</td>\n",
       "      <td>Plot No. 3526 &amp; 3527,GIDC Industrial Estate,</td>\n",
       "      <td>ROC DELHI</td>\n",
       "      <td>amit.kumashi@solvay.com</td>\n",
       "      <td>NaN</td>\n",
       "      <td>NaN</td>\n",
       "    </tr>\n",
       "    <tr>\n",
       "      <th>4</th>\n",
       "      <td>F01818</td>\n",
       "      <td>TATE AND LYLE INDUSTRIES LTD</td>\n",
       "      <td>ACTV</td>\n",
       "      <td>NaN</td>\n",
       "      <td>NaN</td>\n",
       "      <td>NaN</td>\n",
       "      <td>25-07-2001</td>\n",
       "      <td>Gujarat</td>\n",
       "      <td>0.0</td>\n",
       "      <td>0.0</td>\n",
       "      <td>NaN</td>\n",
       "      <td>Agriculture &amp; allied</td>\n",
       "      <td>24 ATMAJYOTI NAGARELLORA PARK</td>\n",
       "      <td>ROC DELHI</td>\n",
       "      <td>NaN</td>\n",
       "      <td>NaN</td>\n",
       "      <td>NaN</td>\n",
       "    </tr>\n",
       "    <tr>\n",
       "      <th>...</th>\n",
       "      <td>...</td>\n",
       "      <td>...</td>\n",
       "      <td>...</td>\n",
       "      <td>...</td>\n",
       "      <td>...</td>\n",
       "      <td>...</td>\n",
       "      <td>...</td>\n",
       "      <td>...</td>\n",
       "      <td>...</td>\n",
       "      <td>...</td>\n",
       "      <td>...</td>\n",
       "      <td>...</td>\n",
       "      <td>...</td>\n",
       "      <td>...</td>\n",
       "      <td>...</td>\n",
       "      <td>...</td>\n",
       "      <td>...</td>\n",
       "    </tr>\n",
       "    <tr>\n",
       "      <th>1992165</th>\n",
       "      <td>U51109NL2000PTC006232</td>\n",
       "      <td>SCIENTIFIC ADVANCE INSTRUMENTS &amp; EQUIPMENTS CO...</td>\n",
       "      <td>STOF</td>\n",
       "      <td>Private</td>\n",
       "      <td>Company limited by Shares</td>\n",
       "      <td>Non-govt company</td>\n",
       "      <td>30-06-2000</td>\n",
       "      <td>Nagaland</td>\n",
       "      <td>1000000.0</td>\n",
       "      <td>20000.0</td>\n",
       "      <td>51109</td>\n",
       "      <td>Wholesale and retail trade repair of motor veh...</td>\n",
       "      <td>BEHIND TOWN COMMITTEE,MKALABARI ROAD</td>\n",
       "      <td>ROC SHILLONG</td>\n",
       "      <td>NaN</td>\n",
       "      <td>NaN</td>\n",
       "      <td>NaN</td>\n",
       "    </tr>\n",
       "    <tr>\n",
       "      <th>1992166</th>\n",
       "      <td>U51109NL2000PTC006233</td>\n",
       "      <td>SUNSHINE INSTRUMENTS &amp; EQUIPMENTS COMPANY PRIV...</td>\n",
       "      <td>STOF</td>\n",
       "      <td>Private</td>\n",
       "      <td>Company limited by Shares</td>\n",
       "      <td>Non-govt company</td>\n",
       "      <td>30-06-2000</td>\n",
       "      <td>Nagaland</td>\n",
       "      <td>1000000.0</td>\n",
       "      <td>200000.0</td>\n",
       "      <td>51109</td>\n",
       "      <td>Wholesale and retail trade repair of motor veh...</td>\n",
       "      <td>JAIN TEMPLE ROADDIMAPUR</td>\n",
       "      <td>ROC SHILLONG</td>\n",
       "      <td>NaN</td>\n",
       "      <td>NaN</td>\n",
       "      <td>NaN</td>\n",
       "    </tr>\n",
       "    <tr>\n",
       "      <th>1992167</th>\n",
       "      <td>U51109NL2000PTC006259</td>\n",
       "      <td>STERN (INDIA) PLANTATION &amp; MARKETING PRIVATE L...</td>\n",
       "      <td>STOF</td>\n",
       "      <td>Private</td>\n",
       "      <td>Company limited by Shares</td>\n",
       "      <td>Non-govt company</td>\n",
       "      <td>25-07-2000</td>\n",
       "      <td>Nagaland</td>\n",
       "      <td>200000.0</td>\n",
       "      <td>3000.0</td>\n",
       "      <td>51109</td>\n",
       "      <td>Wholesale and retail trade repair of motor veh...</td>\n",
       "      <td>RENGMA CHURCH BUILDINGKHERMAHALDIMAPUR</td>\n",
       "      <td>ROC SHILLONG</td>\n",
       "      <td>NaN</td>\n",
       "      <td>NaN</td>\n",
       "      <td>NaN</td>\n",
       "    </tr>\n",
       "    <tr>\n",
       "      <th>1992168</th>\n",
       "      <td>U74950NL1998PTC005463</td>\n",
       "      <td>T.A. NGULLIE FRUIT PRODUCTS PVT LTD.</td>\n",
       "      <td>STOF</td>\n",
       "      <td>Private</td>\n",
       "      <td>Company limited by Shares</td>\n",
       "      <td>Non-govt company</td>\n",
       "      <td>09-07-1998</td>\n",
       "      <td>Nagaland</td>\n",
       "      <td>2500000.0</td>\n",
       "      <td>0.0</td>\n",
       "      <td>74950</td>\n",
       "      <td>Real estate renting and business activities</td>\n",
       "      <td>CHUMUKEDIME,BLOCK-3, DIST.KOHIMA.</td>\n",
       "      <td>ROC SHILLONG</td>\n",
       "      <td>rks97cs@yahoo.com</td>\n",
       "      <td>NaN</td>\n",
       "      <td>NaN</td>\n",
       "    </tr>\n",
       "    <tr>\n",
       "      <th>1992169</th>\n",
       "      <td>U74990NL2016PTC008397</td>\n",
       "      <td>NAGA MART PRIVATE LIMITED</td>\n",
       "      <td>ACTV</td>\n",
       "      <td>Private</td>\n",
       "      <td>Company limited by Shares</td>\n",
       "      <td>Non-govt company</td>\n",
       "      <td>29-02-2016</td>\n",
       "      <td>Nagaland</td>\n",
       "      <td>500000.0</td>\n",
       "      <td>100000.0</td>\n",
       "      <td>74990</td>\n",
       "      <td>Real estate renting and business activities</td>\n",
       "      <td>T.K Angami Complex,</td>\n",
       "      <td>ROC SHILLONG</td>\n",
       "      <td>narolamongkum@gmail.com</td>\n",
       "      <td>31-03-2019</td>\n",
       "      <td>31-03-2019</td>\n",
       "    </tr>\n",
       "  </tbody>\n",
       "</table>\n",
       "<p>1992170 rows × 17 columns</p>\n",
       "</div>\n",
       "      <button class=\"colab-df-convert\" onclick=\"convertToInteractive('df-ec4cf3fa-c490-4652-ae8c-0bae496735d0')\"\n",
       "              title=\"Convert this dataframe to an interactive table.\"\n",
       "              style=\"display:none;\">\n",
       "        \n",
       "  <svg xmlns=\"http://www.w3.org/2000/svg\" height=\"24px\"viewBox=\"0 0 24 24\"\n",
       "       width=\"24px\">\n",
       "    <path d=\"M0 0h24v24H0V0z\" fill=\"none\"/>\n",
       "    <path d=\"M18.56 5.44l.94 2.06.94-2.06 2.06-.94-2.06-.94-.94-2.06-.94 2.06-2.06.94zm-11 1L8.5 8.5l.94-2.06 2.06-.94-2.06-.94L8.5 2.5l-.94 2.06-2.06.94zm10 10l.94 2.06.94-2.06 2.06-.94-2.06-.94-.94-2.06-.94 2.06-2.06.94z\"/><path d=\"M17.41 7.96l-1.37-1.37c-.4-.4-.92-.59-1.43-.59-.52 0-1.04.2-1.43.59L10.3 9.45l-7.72 7.72c-.78.78-.78 2.05 0 2.83L4 21.41c.39.39.9.59 1.41.59.51 0 1.02-.2 1.41-.59l7.78-7.78 2.81-2.81c.8-.78.8-2.07 0-2.86zM5.41 20L4 18.59l7.72-7.72 1.47 1.35L5.41 20z\"/>\n",
       "  </svg>\n",
       "      </button>\n",
       "      \n",
       "  <style>\n",
       "    .colab-df-container {\n",
       "      display:flex;\n",
       "      flex-wrap:wrap;\n",
       "      gap: 12px;\n",
       "    }\n",
       "\n",
       "    .colab-df-convert {\n",
       "      background-color: #E8F0FE;\n",
       "      border: none;\n",
       "      border-radius: 50%;\n",
       "      cursor: pointer;\n",
       "      display: none;\n",
       "      fill: #1967D2;\n",
       "      height: 32px;\n",
       "      padding: 0 0 0 0;\n",
       "      width: 32px;\n",
       "    }\n",
       "\n",
       "    .colab-df-convert:hover {\n",
       "      background-color: #E2EBFA;\n",
       "      box-shadow: 0px 1px 2px rgba(60, 64, 67, 0.3), 0px 1px 3px 1px rgba(60, 64, 67, 0.15);\n",
       "      fill: #174EA6;\n",
       "    }\n",
       "\n",
       "    [theme=dark] .colab-df-convert {\n",
       "      background-color: #3B4455;\n",
       "      fill: #D2E3FC;\n",
       "    }\n",
       "\n",
       "    [theme=dark] .colab-df-convert:hover {\n",
       "      background-color: #434B5C;\n",
       "      box-shadow: 0px 1px 3px 1px rgba(0, 0, 0, 0.15);\n",
       "      filter: drop-shadow(0px 1px 2px rgba(0, 0, 0, 0.3));\n",
       "      fill: #FFFFFF;\n",
       "    }\n",
       "  </style>\n",
       "\n",
       "      <script>\n",
       "        const buttonEl =\n",
       "          document.querySelector('#df-ec4cf3fa-c490-4652-ae8c-0bae496735d0 button.colab-df-convert');\n",
       "        buttonEl.style.display =\n",
       "          google.colab.kernel.accessAllowed ? 'block' : 'none';\n",
       "\n",
       "        async function convertToInteractive(key) {\n",
       "          const element = document.querySelector('#df-ec4cf3fa-c490-4652-ae8c-0bae496735d0');\n",
       "          const dataTable =\n",
       "            await google.colab.kernel.invokeFunction('convertToInteractive',\n",
       "                                                     [key], {});\n",
       "          if (!dataTable) return;\n",
       "\n",
       "          const docLinkHtml = 'Like what you see? Visit the ' +\n",
       "            '<a target=\"_blank\" href=https://colab.research.google.com/notebooks/data_table.ipynb>data table notebook</a>'\n",
       "            + ' to learn more about interactive tables.';\n",
       "          element.innerHTML = '';\n",
       "          dataTable['output_type'] = 'display_data';\n",
       "          await google.colab.output.renderOutput(dataTable, element);\n",
       "          const docLink = document.createElement('div');\n",
       "          docLink.innerHTML = docLinkHtml;\n",
       "          element.appendChild(docLink);\n",
       "        }\n",
       "      </script>\n",
       "    </div>\n",
       "  </div>\n",
       "  "
      ],
      "text/plain": [
       "        CORPORATE_IDENTIFICATION_NUMBER  \\\n",
       "0                                F01450   \n",
       "1                                F01518   \n",
       "2                                F01573   \n",
       "3                                F01802   \n",
       "4                                F01818   \n",
       "...                                 ...   \n",
       "1992165           U51109NL2000PTC006232   \n",
       "1992166           U51109NL2000PTC006233   \n",
       "1992167           U51109NL2000PTC006259   \n",
       "1992168           U74950NL1998PTC005463   \n",
       "1992169           U74990NL2016PTC008397   \n",
       "\n",
       "                                              COMPANY_NAME COMPANY_STATUS  \\\n",
       "0                                NIKO RESOURCES LIMITED              ACTV   \n",
       "1                      WORLDWIDE RESOURCES HOLDINGS LTD              ACTV   \n",
       "2                        ATWOOD OCEANIC PACIFIC LIMITED              ACTV   \n",
       "3                                    SOLVAY S A BELGIUM              NAEF   \n",
       "4                          TATE AND LYLE INDUSTRIES LTD              ACTV   \n",
       "...                                                    ...            ...   \n",
       "1992165  SCIENTIFIC ADVANCE INSTRUMENTS & EQUIPMENTS CO...           STOF   \n",
       "1992166  SUNSHINE INSTRUMENTS & EQUIPMENTS COMPANY PRIV...           STOF   \n",
       "1992167  STERN (INDIA) PLANTATION & MARKETING PRIVATE L...           STOF   \n",
       "1992168            T.A. NGULLIE FRUIT PRODUCTS PVT LTD.              STOF   \n",
       "1992169                       NAGA MART PRIVATE LIMITED              ACTV   \n",
       "\n",
       "        COMPANY_CLASS           COMPANY_CATEGORY COMPANY_SUB_CATEGORY  \\\n",
       "0                 NaN                        NaN                  NaN   \n",
       "1                 NaN                        NaN                  NaN   \n",
       "2                 NaN                        NaN                  NaN   \n",
       "3                 NaN                        NaN                  NaN   \n",
       "4                 NaN                        NaN                  NaN   \n",
       "...               ...                        ...                  ...   \n",
       "1992165       Private  Company limited by Shares     Non-govt company   \n",
       "1992166       Private  Company limited by Shares     Non-govt company   \n",
       "1992167       Private  Company limited by Shares     Non-govt company   \n",
       "1992168       Private  Company limited by Shares     Non-govt company   \n",
       "1992169       Private  Company limited by Shares     Non-govt company   \n",
       "\n",
       "        DATE_OF_REGISTRATION REGISTERED_STATE  AUTHORIZED_CAP  PAIDUP_CAPITAL  \\\n",
       "0                        NaN          Gujarat             0.0             0.0   \n",
       "1                 16-07-1998          Gujarat             0.0             0.0   \n",
       "2                        NaN          Gujarat             0.0             0.0   \n",
       "3                 25-06-2001          Gujarat             0.0             0.0   \n",
       "4                 25-07-2001          Gujarat             0.0             0.0   \n",
       "...                      ...              ...             ...             ...   \n",
       "1992165           30-06-2000         Nagaland       1000000.0         20000.0   \n",
       "1992166           30-06-2000         Nagaland       1000000.0        200000.0   \n",
       "1992167           25-07-2000         Nagaland        200000.0          3000.0   \n",
       "1992168           09-07-1998         Nagaland       2500000.0             0.0   \n",
       "1992169           29-02-2016         Nagaland        500000.0        100000.0   \n",
       "\n",
       "        INDUSTRIAL_CLASS             PRINCIPAL_BUSINESS_ACTIVITY_AS_PER_CIN  \\\n",
       "0                    NaN                               Agriculture & allied   \n",
       "1                    NaN                               Agriculture & allied   \n",
       "2                    NaN                               Agriculture & allied   \n",
       "3                    NaN                               Agriculture & allied   \n",
       "4                    NaN                               Agriculture & allied   \n",
       "...                  ...                                                ...   \n",
       "1992165            51109  Wholesale and retail trade repair of motor veh...   \n",
       "1992166            51109  Wholesale and retail trade repair of motor veh...   \n",
       "1992167            51109  Wholesale and retail trade repair of motor veh...   \n",
       "1992168            74950        Real estate renting and business activities   \n",
       "1992169            74990        Real estate renting and business activities   \n",
       "\n",
       "                                 REGISTERED_OFFICE_ADDRESS  \\\n",
       "0                          4TH FLOOR,LANDMARKRACE COURSE     \n",
       "1        403 3 6 322 MAHAVIR HOUSEBUSHEER BAGH HYDERGUD...   \n",
       "2        Quadrant 1, Plot Number 18, 2nd FloorSuman Tow...   \n",
       "3           Plot No. 3526 & 3527,GIDC Industrial Estate,     \n",
       "4                          24 ATMAJYOTI NAGARELLORA PARK     \n",
       "...                                                    ...   \n",
       "1992165             BEHIND TOWN COMMITTEE,MKALABARI ROAD     \n",
       "1992166                         JAIN TEMPLE ROADDIMAPUR      \n",
       "1992167           RENGMA CHURCH BUILDINGKHERMAHALDIMAPUR     \n",
       "1992168                CHUMUKEDIME,BLOCK-3, DIST.KOHIMA.     \n",
       "1992169                             T.K Angami Complex,      \n",
       "\n",
       "        REGISTRAR_OF_COMPANIES               EMAIL_ADDR  \\\n",
       "0                    ROC DELHI     SANJAY@NIKOINDIA.COM   \n",
       "1                    ROC DELHI                      NaN   \n",
       "2                    ROC DELHI          info@nangia.com   \n",
       "3                    ROC DELHI  amit.kumashi@solvay.com   \n",
       "4                    ROC DELHI                      NaN   \n",
       "...                        ...                      ...   \n",
       "1992165           ROC SHILLONG                      NaN   \n",
       "1992166           ROC SHILLONG                      NaN   \n",
       "1992167           ROC SHILLONG                      NaN   \n",
       "1992168           ROC SHILLONG        rks97cs@yahoo.com   \n",
       "1992169           ROC SHILLONG  narolamongkum@gmail.com   \n",
       "\n",
       "        LATEST_YEAR_ANNUAL_RETURN LATEST_YEAR_FINANCIAL_STATEMENT  \n",
       "0                             NaN                             NaN  \n",
       "1                             NaN                             NaN  \n",
       "2                             NaN                             NaN  \n",
       "3                             NaN                             NaN  \n",
       "4                             NaN                             NaN  \n",
       "...                           ...                             ...  \n",
       "1992165                       NaN                             NaN  \n",
       "1992166                       NaN                             NaN  \n",
       "1992167                       NaN                             NaN  \n",
       "1992168                       NaN                             NaN  \n",
       "1992169                31-03-2019                      31-03-2019  \n",
       "\n",
       "[1992170 rows x 17 columns]"
      ]
     },
     "execution_count": 132,
     "metadata": {},
     "output_type": "execute_result"
    }
   ],
   "source": [
    "df"
   ]
  },
  {
   "cell_type": "markdown",
   "metadata": {
    "id": "hmxVF34Snjtn"
   },
   "source": [
    "To get some information about the data we will use `df.info()` function."
   ]
  },
  {
   "cell_type": "code",
   "execution_count": null,
   "metadata": {
    "colab": {
     "base_uri": "https://localhost:8080/"
    },
    "executionInfo": {
     "elapsed": 7,
     "status": "ok",
     "timestamp": 1664264549372,
     "user": {
      "displayName": "Kshama Singhal",
      "userId": "01290402449884306325"
     },
     "user_tz": -330
    },
    "id": "UaW-BZKt6MpM",
    "outputId": "3118fac6-01ab-4054-bac9-a6e51846a2b8"
   },
   "outputs": [
    {
     "name": "stdout",
     "output_type": "stream",
     "text": [
      "<class 'pandas.core.frame.DataFrame'>\n",
      "RangeIndex: 1992170 entries, 0 to 1992169\n",
      "Data columns (total 17 columns):\n",
      " #   Column                                  Dtype  \n",
      "---  ------                                  -----  \n",
      " 0   CORPORATE_IDENTIFICATION_NUMBER         object \n",
      " 1   COMPANY_NAME                            object \n",
      " 2   COMPANY_STATUS                          object \n",
      " 3   COMPANY_CLASS                           object \n",
      " 4   COMPANY_CATEGORY                        object \n",
      " 5   COMPANY_SUB_CATEGORY                    object \n",
      " 6   DATE_OF_REGISTRATION                    object \n",
      " 7   REGISTERED_STATE                        object \n",
      " 8   AUTHORIZED_CAP                          float64\n",
      " 9   PAIDUP_CAPITAL                          float64\n",
      " 10  INDUSTRIAL_CLASS                        object \n",
      " 11  PRINCIPAL_BUSINESS_ACTIVITY_AS_PER_CIN  object \n",
      " 12  REGISTERED_OFFICE_ADDRESS               object \n",
      " 13  REGISTRAR_OF_COMPANIES                  object \n",
      " 14  EMAIL_ADDR                              object \n",
      " 15  LATEST_YEAR_ANNUAL_RETURN               object \n",
      " 16  LATEST_YEAR_FINANCIAL_STATEMENT         object \n",
      "dtypes: float64(2), object(15)\n",
      "memory usage: 258.4+ MB\n"
     ]
    }
   ],
   "source": [
    "df.info()"
   ]
  },
  {
   "cell_type": "markdown",
   "metadata": {
    "id": "XXhD89Uznu8E"
   },
   "source": [
    "Here is some more information about the data.\n",
    "\n",
    "1. CORPORATE_ IDENTIFICATION_NUMBER - Corporate Identification Number sometimes referred to as CIN is a unique identification number which is assigned by the ROC (Registrar of Companies) of various states under the MCA (Ministry of Corporate Affairs).\n",
    "\n",
    "2. COMPANY_NAME - Name of the company.\n",
    "\n",
    "3. COMPANY_STATUS - The 'Status' tell the current state of the company. Whether it is active and operating or dormant or it has been struck off and closed. There are 13 such status that a company could be carrying:\n",
    "* ACTV - Active\n",
    "* NAEF - Not available for e-filing\n",
    "* ULQD - Under liquidation\n",
    "* AMAL - Amalgamated\n",
    "* STOF - Strike off\n",
    "* DISD - Dissolved\n",
    "* CLLD - Converted to LLP and Dissolved\n",
    "* UPSO - Under process of Striking Off\n",
    "* CLLP - Converted to LLP\n",
    "* LIQD - Liquidated\n",
    "* DRMT - Dormant\n",
    "* MLIQ - Vanished\n",
    "* D455 - Dormant under section 455\n",
    "4. COMPANY_CLASS - Companies are primarily classified into private and public. Private companies or private limited companies are those companies that are closely-held and have less than 200 shareholders. Public companies are limited companies that have more than 200 shareholders and are listed on a stock exchange.\n",
    "* Public\n",
    "* Private\n",
    "* Private (One Person Company)\n",
    "5. COMPANY_CATEGORY - The category of the company.\n",
    "* Company limited by Shares\n",
    "* Company Limited by Guarantee\n",
    "* Unlimited Company\n",
    "6. COMPANY_SUB _CATEGORY - The sub-category of the company.\n",
    "* Non-govt company\n",
    "* State Govt company\n",
    "* Subsidiary of Foreign Company\n",
    "* Guarantee and Association comp\n",
    "* Union Govt company\n",
    "7. DATE OF REGISTRATION - Date of registration of the company.\n",
    "\n",
    "8. REGISTERED_STATE - State in which company was registered.\n",
    "\n",
    "9. AUTHORIZED_CAP - Authorized Capital of the company (INR) (This capital of a company is the maximum amount of share capital that the company is authorised by its constitutional documents to issue to shareholders.)\n",
    "\n",
    "10. PAIDUP_CAPITAL - Paid Up Capital of the company (INR) (This capital is the amount of money a company has received from shareholders in exchange for shares of stock)\n",
    "\n",
    "11. INDUSTRIAL_CLASS - Industrial class of the company as per NIC 2004.\n",
    "\n",
    "12. PRINCIPAL_ BUSINESS_ACTIVITY _AS_ PER_CIN - Principal Business Activity of the company as per CIN.\n",
    "\n",
    "13. REGISTERED_OFFICE _ADDRESS - Registered office address of the company.\n",
    "\n",
    "14. REGISTRAR_OF _COMPANIES - Registrar office of the company.\n",
    "\n",
    "15. EMAIL_ADDR - Email address of the companies owner/director.\n",
    "\n",
    "16. LATEST_YEAR _ANNUAL _RETURN - Annual return of the last year.\n",
    "\n",
    "17. LATEST_YEAR _FINANCIAL _STATEMENT - Financial Statement of the last year."
   ]
  },
  {
   "cell_type": "code",
   "execution_count": null,
   "metadata": {
    "colab": {
     "base_uri": "https://localhost:8080/",
     "height": 300
    },
    "executionInfo": {
     "elapsed": 494,
     "status": "ok",
     "timestamp": 1664176814461,
     "user": {
      "displayName": "Kshama Singhal",
      "userId": "01290402449884306325"
     },
     "user_tz": -330
    },
    "id": "H6McEu6E6Ml6",
    "outputId": "4f30eda7-118a-424e-cd6b-943f9beca058"
   },
   "outputs": [
    {
     "data": {
      "text/html": [
       "\n",
       "  <div id=\"df-7a01fc15-9c36-4c5b-abae-0e37567ba1e0\">\n",
       "    <div class=\"colab-df-container\">\n",
       "      <div>\n",
       "<style scoped>\n",
       "    .dataframe tbody tr th:only-of-type {\n",
       "        vertical-align: middle;\n",
       "    }\n",
       "\n",
       "    .dataframe tbody tr th {\n",
       "        vertical-align: top;\n",
       "    }\n",
       "\n",
       "    .dataframe thead th {\n",
       "        text-align: right;\n",
       "    }\n",
       "</style>\n",
       "<table border=\"1\" class=\"dataframe\">\n",
       "  <thead>\n",
       "    <tr style=\"text-align: right;\">\n",
       "      <th></th>\n",
       "      <th>AUTHORIZED_CAP</th>\n",
       "      <th>PAIDUP_CAPITAL</th>\n",
       "    </tr>\n",
       "  </thead>\n",
       "  <tbody>\n",
       "    <tr>\n",
       "      <th>count</th>\n",
       "      <td>1992170.00000</td>\n",
       "      <td>1992170.00000</td>\n",
       "    </tr>\n",
       "    <tr>\n",
       "      <th>mean</th>\n",
       "      <td>42385082.19271</td>\n",
       "      <td>24346206.35540</td>\n",
       "    </tr>\n",
       "    <tr>\n",
       "      <th>std</th>\n",
       "      <td>2960562214.70659</td>\n",
       "      <td>2313154284.05325</td>\n",
       "    </tr>\n",
       "    <tr>\n",
       "      <th>min</th>\n",
       "      <td>0.00000</td>\n",
       "      <td>0.00000</td>\n",
       "    </tr>\n",
       "    <tr>\n",
       "      <th>25%</th>\n",
       "      <td>100000.00000</td>\n",
       "      <td>100000.00000</td>\n",
       "    </tr>\n",
       "    <tr>\n",
       "      <th>50%</th>\n",
       "      <td>500000.00000</td>\n",
       "      <td>100000.00000</td>\n",
       "    </tr>\n",
       "    <tr>\n",
       "      <th>75%</th>\n",
       "      <td>1500000.00000</td>\n",
       "      <td>502000.00000</td>\n",
       "    </tr>\n",
       "    <tr>\n",
       "      <th>max</th>\n",
       "      <td>1850000000000.00000</td>\n",
       "      <td>1699613000000.00000</td>\n",
       "    </tr>\n",
       "  </tbody>\n",
       "</table>\n",
       "</div>\n",
       "      <button class=\"colab-df-convert\" onclick=\"convertToInteractive('df-7a01fc15-9c36-4c5b-abae-0e37567ba1e0')\"\n",
       "              title=\"Convert this dataframe to an interactive table.\"\n",
       "              style=\"display:none;\">\n",
       "        \n",
       "  <svg xmlns=\"http://www.w3.org/2000/svg\" height=\"24px\"viewBox=\"0 0 24 24\"\n",
       "       width=\"24px\">\n",
       "    <path d=\"M0 0h24v24H0V0z\" fill=\"none\"/>\n",
       "    <path d=\"M18.56 5.44l.94 2.06.94-2.06 2.06-.94-2.06-.94-.94-2.06-.94 2.06-2.06.94zm-11 1L8.5 8.5l.94-2.06 2.06-.94-2.06-.94L8.5 2.5l-.94 2.06-2.06.94zm10 10l.94 2.06.94-2.06 2.06-.94-2.06-.94-.94-2.06-.94 2.06-2.06.94z\"/><path d=\"M17.41 7.96l-1.37-1.37c-.4-.4-.92-.59-1.43-.59-.52 0-1.04.2-1.43.59L10.3 9.45l-7.72 7.72c-.78.78-.78 2.05 0 2.83L4 21.41c.39.39.9.59 1.41.59.51 0 1.02-.2 1.41-.59l7.78-7.78 2.81-2.81c.8-.78.8-2.07 0-2.86zM5.41 20L4 18.59l7.72-7.72 1.47 1.35L5.41 20z\"/>\n",
       "  </svg>\n",
       "      </button>\n",
       "      \n",
       "  <style>\n",
       "    .colab-df-container {\n",
       "      display:flex;\n",
       "      flex-wrap:wrap;\n",
       "      gap: 12px;\n",
       "    }\n",
       "\n",
       "    .colab-df-convert {\n",
       "      background-color: #E8F0FE;\n",
       "      border: none;\n",
       "      border-radius: 50%;\n",
       "      cursor: pointer;\n",
       "      display: none;\n",
       "      fill: #1967D2;\n",
       "      height: 32px;\n",
       "      padding: 0 0 0 0;\n",
       "      width: 32px;\n",
       "    }\n",
       "\n",
       "    .colab-df-convert:hover {\n",
       "      background-color: #E2EBFA;\n",
       "      box-shadow: 0px 1px 2px rgba(60, 64, 67, 0.3), 0px 1px 3px 1px rgba(60, 64, 67, 0.15);\n",
       "      fill: #174EA6;\n",
       "    }\n",
       "\n",
       "    [theme=dark] .colab-df-convert {\n",
       "      background-color: #3B4455;\n",
       "      fill: #D2E3FC;\n",
       "    }\n",
       "\n",
       "    [theme=dark] .colab-df-convert:hover {\n",
       "      background-color: #434B5C;\n",
       "      box-shadow: 0px 1px 3px 1px rgba(0, 0, 0, 0.15);\n",
       "      filter: drop-shadow(0px 1px 2px rgba(0, 0, 0, 0.3));\n",
       "      fill: #FFFFFF;\n",
       "    }\n",
       "  </style>\n",
       "\n",
       "      <script>\n",
       "        const buttonEl =\n",
       "          document.querySelector('#df-7a01fc15-9c36-4c5b-abae-0e37567ba1e0 button.colab-df-convert');\n",
       "        buttonEl.style.display =\n",
       "          google.colab.kernel.accessAllowed ? 'block' : 'none';\n",
       "\n",
       "        async function convertToInteractive(key) {\n",
       "          const element = document.querySelector('#df-7a01fc15-9c36-4c5b-abae-0e37567ba1e0');\n",
       "          const dataTable =\n",
       "            await google.colab.kernel.invokeFunction('convertToInteractive',\n",
       "                                                     [key], {});\n",
       "          if (!dataTable) return;\n",
       "\n",
       "          const docLinkHtml = 'Like what you see? Visit the ' +\n",
       "            '<a target=\"_blank\" href=https://colab.research.google.com/notebooks/data_table.ipynb>data table notebook</a>'\n",
       "            + ' to learn more about interactive tables.';\n",
       "          element.innerHTML = '';\n",
       "          dataTable['output_type'] = 'display_data';\n",
       "          await google.colab.output.renderOutput(dataTable, element);\n",
       "          const docLink = document.createElement('div');\n",
       "          docLink.innerHTML = docLinkHtml;\n",
       "          element.appendChild(docLink);\n",
       "        }\n",
       "      </script>\n",
       "    </div>\n",
       "  </div>\n",
       "  "
      ],
      "text/plain": [
       "            AUTHORIZED_CAP       PAIDUP_CAPITAL\n",
       "count        1992170.00000        1992170.00000\n",
       "mean        42385082.19271       24346206.35540\n",
       "std       2960562214.70659     2313154284.05325\n",
       "min                0.00000              0.00000\n",
       "25%           100000.00000         100000.00000\n",
       "50%           500000.00000         100000.00000\n",
       "75%          1500000.00000         502000.00000\n",
       "max    1850000000000.00000  1699613000000.00000"
      ]
     },
     "execution_count": 12,
     "metadata": {},
     "output_type": "execute_result"
    }
   ],
   "source": [
    "df.describe().apply(lambda s: s.apply('{0:.5f}'.format))"
   ]
  },
  {
   "cell_type": "markdown",
   "metadata": {
    "id": "19WsEsToq4jS"
   },
   "source": [
    "Using the `df.describe()` function we have got statistical information about the numerical columns i.e. Authorized Cap and Paidup Capital. As Paidup Capital is always less than equal to Authorized Cap and it is clearly visible from the above information."
   ]
  },
  {
   "cell_type": "markdown",
   "metadata": {
    "id": "0Mq7xmZVrpu4"
   },
   "source": [
    "Before making our analyses we have to check missing values percentage. Then accordingly clean and handle the missing values."
   ]
  },
  {
   "cell_type": "code",
   "execution_count": null,
   "metadata": {
    "colab": {
     "base_uri": "https://localhost:8080/"
    },
    "executionInfo": {
     "elapsed": 2139,
     "status": "ok",
     "timestamp": 1664264593118,
     "user": {
      "displayName": "Kshama Singhal",
      "userId": "01290402449884306325"
     },
     "user_tz": -330
    },
    "id": "3-1YYw9IlYLr",
    "outputId": "21894a04-951e-44ae-9348-7837a2a8f56e"
   },
   "outputs": [
    {
     "data": {
      "text/plain": [
       "LATEST_YEAR_ANNUAL_RETURN                 41.729220\n",
       "LATEST_YEAR_FINANCIAL_STATEMENT           41.604331\n",
       "EMAIL_ADDR                                18.583153\n",
       "REGISTRAR_OF_COMPANIES                     2.118193\n",
       "REGISTERED_OFFICE_ADDRESS                  0.765949\n",
       "COMPANY_SUB_CATEGORY                       0.255500\n",
       "COMPANY_CATEGORY                           0.255249\n",
       "COMPANY_CLASS                              0.254898\n",
       "INDUSTRIAL_CLASS                           0.241495\n",
       "DATE_OF_REGISTRATION                       0.126746\n",
       "PRINCIPAL_BUSINESS_ACTIVITY_AS_PER_CIN     0.000602\n",
       "COMPANY_NAME                               0.000000\n",
       "COMPANY_STATUS                             0.000000\n",
       "AUTHORIZED_CAP                             0.000000\n",
       "REGISTERED_STATE                           0.000000\n",
       "PAIDUP_CAPITAL                             0.000000\n",
       "CORPORATE_IDENTIFICATION_NUMBER            0.000000\n",
       "dtype: float64"
      ]
     },
     "execution_count": 15,
     "metadata": {},
     "output_type": "execute_result"
    }
   ],
   "source": [
    "missing_percentages=df.isna().sum().sort_values(ascending=False)*100/len(df)\n",
    "missing_percentages"
   ]
  },
  {
   "cell_type": "code",
   "execution_count": null,
   "metadata": {
    "colab": {
     "base_uri": "https://localhost:8080/"
    },
    "executionInfo": {
     "elapsed": 668,
     "status": "ok",
     "timestamp": 1664264609809,
     "user": {
      "displayName": "Kshama Singhal",
      "userId": "01290402449884306325"
     },
     "user_tz": -330
    },
    "id": "PxXgzdEy-KiU",
    "outputId": "35bf2db1-163b-4e1b-a7e2-d6304720e123"
   },
   "outputs": [
    {
     "data": {
      "text/plain": [
       "LATEST_YEAR_ANNUAL_RETURN                 41.729220\n",
       "LATEST_YEAR_FINANCIAL_STATEMENT           41.604331\n",
       "EMAIL_ADDR                                18.583153\n",
       "REGISTRAR_OF_COMPANIES                     2.118193\n",
       "REGISTERED_OFFICE_ADDRESS                  0.765949\n",
       "COMPANY_SUB_CATEGORY                       0.255500\n",
       "COMPANY_CATEGORY                           0.255249\n",
       "COMPANY_CLASS                              0.254898\n",
       "INDUSTRIAL_CLASS                           0.241495\n",
       "DATE_OF_REGISTRATION                       0.126746\n",
       "PRINCIPAL_BUSINESS_ACTIVITY_AS_PER_CIN     0.000602\n",
       "dtype: float64"
      ]
     },
     "execution_count": 16,
     "metadata": {},
     "output_type": "execute_result"
    }
   ],
   "source": [
    "missing_percentages[missing_percentages!=0]"
   ]
  },
  {
   "cell_type": "code",
   "execution_count": null,
   "metadata": {
    "colab": {
     "base_uri": "https://localhost:8080/",
     "height": 281
    },
    "executionInfo": {
     "elapsed": 563,
     "status": "ok",
     "timestamp": 1664264615083,
     "user": {
      "displayName": "Kshama Singhal",
      "userId": "01290402449884306325"
     },
     "user_tz": -330
    },
    "id": "TPfqWeU7lYIu",
    "outputId": "a9786f5c-e4aa-4142-d690-96fc5fcca070"
   },
   "outputs": [
    {
     "data": {
      "image/png": "[encoded data removed]",
      "text/plain": [
       "<Figure size 432x288 with 1 Axes>"
      ]
     },
     "metadata": {
      "needs_background": "light"
     },
     "output_type": "display_data"
    }
   ],
   "source": [
    "sns.barplot(y=missing_percentages[missing_percentages!=0].index,x=missing_percentages[missing_percentages!=0])\n",
    "plt.title(\"Missing Column Values' Percentages\" );"
   ]
  },
  {
   "cell_type": "markdown",
   "metadata": {
    "id": "am-QUYhbsPBc"
   },
   "source": [
    "As 41% of the Latest Year Annual Return & Latest Year Financial Statement values are missing which is more than 30%. Therefore, we will drop these two columns and the column containing email address to make aur analyses better."
   ]
  },
  {
   "cell_type": "code",
   "execution_count": null,
   "metadata": {
    "id": "sDDlKK-ulYFU"
   },
   "outputs": [],
   "source": [
    "df=df.drop(['EMAIL_ADDR','LATEST_YEAR_ANNUAL_RETURN','LATEST_YEAR_FINANCIAL_STATEMENT'],axis=1)"
   ]
  },
  {
   "cell_type": "markdown",
   "metadata": {
    "id": "EjLI9_ghsz2a"
   },
   "source": [
    "Check whether all the values are unique or is there any duplicate value so that we can make decision to deal with duplicate values. To check total number of duplicate rows use `df.dupicated().sum()`."
   ]
  },
  {
   "cell_type": "code",
   "execution_count": null,
   "metadata": {
    "colab": {
     "base_uri": "https://localhost:8080/"
    },
    "executionInfo": {
     "elapsed": 8649,
     "status": "ok",
     "timestamp": 1664264640123,
     "user": {
      "displayName": "Kshama Singhal",
      "userId": "01290402449884306325"
     },
     "user_tz": -330
    },
    "id": "8zWDEF5C5MmI",
    "outputId": "6ff28134-b14b-4215-8361-e2d5e09063e0"
   },
   "outputs": [
    {
     "data": {
      "text/plain": [
       "0"
      ]
     },
     "execution_count": 20,
     "metadata": {},
     "output_type": "execute_result"
    }
   ],
   "source": [
    "df.duplicated().sum()"
   ]
  },
  {
   "cell_type": "markdown",
   "metadata": {
    "id": "DAlW1HFCtE9k"
   },
   "source": [
    "As there is no duplicate rows we can proceed further to analyze the data."
   ]
  },
  {
   "cell_type": "markdown",
   "metadata": {
    "id": "BAJjc4r0sANX"
   },
   "source": [
    "## Exploratory Analysis and Visualization\n",
    "\n",
    "\n"
   ]
  },
  {
   "cell_type": "code",
   "execution_count": null,
   "metadata": {
    "colab": {
     "base_uri": "https://localhost:8080/"
    },
    "executionInfo": {
     "elapsed": 398,
     "status": "ok",
     "timestamp": 1664264661637,
     "user": {
      "displayName": "Kshama Singhal",
      "userId": "01290402449884306325"
     },
     "user_tz": -330
    },
    "id": "tTHDblpRCpWL",
    "outputId": "e1b2ecba-1142-4b1b-c744-9e41e7f46381"
   },
   "outputs": [
    {
     "data": {
      "text/plain": [
       "Index(['CORPORATE_IDENTIFICATION_NUMBER', 'COMPANY_NAME', 'COMPANY_STATUS',\n",
       "       'COMPANY_CLASS', 'COMPANY_CATEGORY', 'COMPANY_SUB_CATEGORY',\n",
       "       'DATE_OF_REGISTRATION', 'REGISTERED_STATE', 'AUTHORIZED_CAP',\n",
       "       'PAIDUP_CAPITAL', 'INDUSTRIAL_CLASS',\n",
       "       'PRINCIPAL_BUSINESS_ACTIVITY_AS_PER_CIN', 'REGISTERED_OFFICE_ADDRESS',\n",
       "       'REGISTRAR_OF_COMPANIES'],\n",
       "      dtype='object')"
      ]
     },
     "execution_count": 21,
     "metadata": {},
     "output_type": "execute_result"
    }
   ],
   "source": [
    "df.columns"
   ]
  },
  {
   "cell_type": "markdown",
   "metadata": {
    "id": "63Ds73vaVw0X"
   },
   "source": [
    "These are the remaining columns after removing some columns from the original dataset."
   ]
  },
  {
   "cell_type": "markdown",
   "metadata": {
    "id": "Utz1O5AoAYdi"
   },
   "source": [
    "   Columns we'll analyze\n",
    "1. Company_Status\n",
    "2. Company_Class\n",
    "3. Company_Category \n",
    "4. Company_Sub_Category\n",
    "5. Date_of_Registration\n",
    "6. Registered_State\n",
    "7. Authorized_Cap\n",
    "8. Paidup_Capital\n",
    "9. Principal_Business_Activity_As_Per_CIN"
   ]
  },
  {
   "cell_type": "markdown",
   "metadata": {
    "id": "pY3utk5cT_4g"
   },
   "source": [
    "### 1. COMPANY_STATUS\n",
    "The `Status` tells the current state of the company. Whether it is active and operating or dormant or it has been struck off and closed. There are 13 such status that a company could be carrying.\n",
    "* ACTV - Active\n",
    "* NAEF - Not available for e-filing\n",
    "* ULQD - Under liquidation\n",
    "* AMAL - Amalgamated\n",
    "* STOF - Strike off\n",
    "* DISD - Dissolved\n",
    "* CLLD - Converted to LLP and Dissolved\n",
    "* UPSO - Under process of Striking Off\n",
    "* CLLP - Converted to LLP\n",
    "* LIQD - Liquidated\n",
    "* DRMT - Dormant\n",
    "* MLIQ - Vanished\n",
    "* D455 - Dormant under section 455"
   ]
  },
  {
   "cell_type": "markdown",
   "metadata": {
    "id": "FgebCWvRuAMG"
   },
   "source": [
    "We are checking percentage of companies with particular status."
   ]
  },
  {
   "cell_type": "code",
   "execution_count": null,
   "metadata": {
    "colab": {
     "base_uri": "https://localhost:8080/"
    },
    "executionInfo": {
     "elapsed": 348,
     "status": "ok",
     "timestamp": 1664264673944,
     "user": {
      "displayName": "Kshama Singhal",
      "userId": "01290402449884306325"
     },
     "user_tz": -330
    },
    "id": "SsEUdViKCpTA",
    "outputId": "7e4601de-7461-4de7-f703-8d0c62364ffe"
   },
   "outputs": [
    {
     "data": {
      "text/plain": [
       "ACTV    59.738928\n",
       "STOF    34.579679\n",
       "UPSO     2.080997\n",
       "AMAL     1.249542\n",
       "CLLP     0.661339\n",
       "DISD     0.490370\n",
       "NAEF     0.466125\n",
       "ULQD     0.324270\n",
       "CLLD     0.244658\n",
       "D455     0.107672\n",
       "LIQD     0.056270\n",
       "DRMT     0.000100\n",
       "MLIQ     0.000050\n",
       "Name: COMPANY_STATUS, dtype: float64"
      ]
     },
     "execution_count": 22,
     "metadata": {},
     "output_type": "execute_result"
    }
   ],
   "source": [
    "companies_by_status=df.COMPANY_STATUS.value_counts()*100/len(df.COMPANY_STATUS)\n",
    "companies_by_status"
   ]
  },
  {
   "cell_type": "code",
   "execution_count": null,
   "metadata": {
    "colab": {
     "base_uri": "https://localhost:8080/",
     "height": 590
    },
    "executionInfo": {
     "elapsed": 1978,
     "status": "ok",
     "timestamp": 1664264713485,
     "user": {
      "displayName": "Kshama Singhal",
      "userId": "01290402449884306325"
     },
     "user_tz": -330
    },
    "id": "_V3HB31VCpPi",
    "outputId": "373f72e1-e944-4e64-bbc8-a14ee528d4d1"
   },
   "outputs": [
    {
     "data": {
      "image/png": "[encoded data removed]",
      "text/plain": [
       "<Figure size 432x648 with 1 Axes>"
      ]
     },
     "metadata": {
      "needs_background": "light"
     },
     "output_type": "display_data"
    }
   ],
   "source": [
    "plt.figure(figsize=(6,9))\n",
    "plt.title(\"What is Company's Status?\",fontsize=15)\n",
    "sns.barplot(x=companies_by_status.index,y=companies_by_status)\n",
    "plt.xticks(rotation=75)\n",
    "plt.xlabel('Company Status')\n",
    "plt.ylabel('Percentage of Companies');"
   ]
  },
  {
   "cell_type": "markdown",
   "metadata": {
    "id": "vpSpr79CHDxl"
   },
   "source": [
    "`Insight`: Approx 60% of the companies are active as of the year 2020."
   ]
  },
  {
   "cell_type": "markdown",
   "metadata": {
    "id": "FDkdfGJdUJTZ"
   },
   "source": [
    "### 2. COMPANY_CLASS\n",
    "Companies are primarily classified into private and public. Private companies or private limited companies are those companies that are closely-held and have less than 200 shareholders. Public companies are limited companies that have more than 200 shareholders and are listed on a stock exchange.\n",
    "\n",
    "* Public\n",
    "* Private\n",
    "* Private (One Person Company)"
   ]
  },
  {
   "cell_type": "markdown",
   "metadata": {
    "id": "DRRzWosyWKMJ"
   },
   "source": [
    "Let's check number of number with particular class."
   ]
  },
  {
   "cell_type": "code",
   "execution_count": null,
   "metadata": {
    "colab": {
     "base_uri": "https://localhost:8080/"
    },
    "executionInfo": {
     "elapsed": 371,
     "status": "ok",
     "timestamp": 1664264775657,
     "user": {
      "displayName": "Kshama Singhal",
      "userId": "01290402449884306325"
     },
     "user_tz": -330
    },
    "id": "soXcU8WZuB_V",
    "outputId": "b567f0ee-1442-462f-ab92-85207c246583"
   },
   "outputs": [
    {
     "data": {
      "text/plain": [
       "Private                        1819264\n",
       "Public                          137612\n",
       "Private(One Person Company)      30216\n",
       "Name: COMPANY_CLASS, dtype: int64"
      ]
     },
     "execution_count": 25,
     "metadata": {},
     "output_type": "execute_result"
    }
   ],
   "source": [
    "companies_by_class=df.COMPANY_CLASS.value_counts()\n",
    "companies_by_class"
   ]
  },
  {
   "cell_type": "code",
   "execution_count": null,
   "metadata": {
    "colab": {
     "base_uri": "https://localhost:8080/",
     "height": 321
    },
    "executionInfo": {
     "elapsed": 803,
     "status": "ok",
     "timestamp": 1664264780624,
     "user": {
      "displayName": "Kshama Singhal",
      "userId": "01290402449884306325"
     },
     "user_tz": -330
    },
    "id": "7JPVQlXHuB72",
    "outputId": "5a04e2e4-291b-42ba-92d3-43cdb18d0765"
   },
   "outputs": [
    {
     "data": {
      "image/png": "[encoded data removed]",
      "text/plain": [
       "<Figure size 720x360 with 1 Axes>"
      ]
     },
     "metadata": {},
     "output_type": "display_data"
    }
   ],
   "source": [
    "plt.figure(figsize=(10,5))\n",
    "plt.title(\"Company's Class\",fontsize=15)\n",
    "\n",
    "colors = sns.color_palette('pastel')[0:7]\n",
    "plt.pie(companies_by_class,labels=companies_by_class.index,autopct=\"%0.2f%%\",radius=1.25,colors=colors);"
   ]
  },
  {
   "cell_type": "markdown",
   "metadata": {
    "id": "iRHCDbK-C9kT"
   },
   "source": [
    "`Insight`: Approx 92% of the companies are Private."
   ]
  },
  {
   "cell_type": "markdown",
   "metadata": {
    "id": "6iN-iAL9WiiC"
   },
   "source": [
    "### 3. COMPANY_CATEGORY\n",
    "These are categories of the company.\n",
    "* Company limited by Shares\n",
    "* Company Limited by Guarantee\n",
    "* Unlimited Company"
   ]
  },
  {
   "cell_type": "markdown",
   "metadata": {
    "id": "mH4ErX3HWZGC"
   },
   "source": [
    "Let's check the percentage of companies having particular category."
   ]
  },
  {
   "cell_type": "code",
   "execution_count": null,
   "metadata": {
    "colab": {
     "base_uri": "https://localhost:8080/"
    },
    "executionInfo": {
     "elapsed": 383,
     "status": "ok",
     "timestamp": 1664264808722,
     "user": {
      "displayName": "Kshama Singhal",
      "userId": "01290402449884306325"
     },
     "user_tz": -330
    },
    "id": "KRB9B64WuB4J",
    "outputId": "ceb270d5-56ef-4b6d-e9df-ffd2db76f760"
   },
   "outputs": [
    {
     "data": {
      "text/plain": [
       "Company limited by Shares       98.580894\n",
       "Company Limited by Guarantee     1.115316\n",
       "Unlimited Company                0.048540\n",
       "Name: COMPANY_CATEGORY, dtype: float64"
      ]
     },
     "execution_count": 27,
     "metadata": {},
     "output_type": "execute_result"
    }
   ],
   "source": [
    "companies_by_category=df.COMPANY_CATEGORY.value_counts()*100/len(df.COMPANY_CATEGORY)\n",
    "companies_by_category"
   ]
  },
  {
   "cell_type": "code",
   "execution_count": null,
   "metadata": {
    "colab": {
     "base_uri": "https://localhost:8080/",
     "height": 352
    },
    "executionInfo": {
     "elapsed": 406,
     "status": "ok",
     "timestamp": 1664264812325,
     "user": {
      "displayName": "Kshama Singhal",
      "userId": "01290402449884306325"
     },
     "user_tz": -330
    },
    "id": "k2axN34buB1j",
    "outputId": "2f908dda-2b5e-4636-e2ee-d845e62de44d"
   },
   "outputs": [
    {
     "data": {
      "image/png": "[encoded data removed]",
      "text/plain": [
       "<Figure size 720x360 with 1 Axes>"
      ]
     },
     "metadata": {
      "needs_background": "light"
     },
     "output_type": "display_data"
    }
   ],
   "source": [
    "plt.figure(figsize=(10,5))\n",
    "plt.title('Companies with Categories',fontsize=15)\n",
    "sns.barplot(y=companies_by_category.index,x=companies_by_category)\n",
    "plt.xlabel('Percentage of Companies')\n",
    "plt.show();"
   ]
  },
  {
   "cell_type": "markdown",
   "metadata": {
    "id": "SqxnfTcwvDNT"
   },
   "source": [
    "`Insights`: \n",
    "* Approx 96% of the companies are limited by Shares.\n",
    "* Approx very less than 1% of companies are unlimited company. \n",
    "* Nearly 2% of the companies hold position in limited by Guarantee."
   ]
  },
  {
   "cell_type": "markdown",
   "metadata": {
    "id": "5-wGUm2ChXUK"
   },
   "source": [
    "### 4. COMPANY_SUB_CATEGORY\n",
    "The sub-category of the company:\n",
    "* Non-govt company\n",
    "* State Govt company\n",
    "* Subsidiary of Foreign Company\n",
    "* Guarantee and Association comp\n",
    "* Union Govt company"
   ]
  },
  {
   "cell_type": "markdown",
   "metadata": {
    "id": "xw6ige6tWk9J"
   },
   "source": [
    "Let's check the percentage of companies with particular sub-category."
   ]
  },
  {
   "cell_type": "code",
   "execution_count": null,
   "metadata": {
    "colab": {
     "base_uri": "https://localhost:8080/"
    },
    "executionInfo": {
     "elapsed": 525,
     "status": "ok",
     "timestamp": 1664264852216,
     "user": {
      "displayName": "Kshama Singhal",
      "userId": "01290402449884306325"
     },
     "user_tz": -330
    },
    "id": "hxQm0UvouBy9",
    "outputId": "98176a06-30c9-4cd3-9414-76c3e07be08c"
   },
   "outputs": [
    {
     "data": {
      "text/plain": [
       "Non-govt company                  98.879011\n",
       "Subsidiary of Foreign Company      0.620881\n",
       "Guarantee and Association comp     0.119719\n",
       "State Govt company                 0.095976\n",
       "Union Govt company                 0.028913\n",
       "Name: COMPANY_SUB_CATEGORY, dtype: float64"
      ]
     },
     "execution_count": 29,
     "metadata": {},
     "output_type": "execute_result"
    }
   ],
   "source": [
    "companies_by_sub_category=df.COMPANY_SUB_CATEGORY.value_counts()*100/len(df.COMPANY_SUB_CATEGORY)\n",
    "companies_by_sub_category"
   ]
  },
  {
   "cell_type": "markdown",
   "metadata": {
    "id": "sEvC0zJ619w3"
   },
   "source": [
    "`Insight`:\n",
    "Approx 99% of the companies are Non-Government."
   ]
  },
  {
   "cell_type": "markdown",
   "metadata": {
    "id": "WwzkpZG7iK_-"
   },
   "source": [
    "### 5. DATE_OF_REGISTRATION\n",
    "First, we will check Date of Registration's datatype. It should be datetime if it is not we have to convert it into datetime datatype to get useful insights from the data."
   ]
  },
  {
   "cell_type": "code",
   "execution_count": null,
   "metadata": {
    "colab": {
     "base_uri": "https://localhost:8080/"
    },
    "executionInfo": {
     "elapsed": 488,
     "status": "ok",
     "timestamp": 1664264877871,
     "user": {
      "displayName": "Kshama Singhal",
      "userId": "01290402449884306325"
     },
     "user_tz": -330
    },
    "id": "5UOkQl1ouBwB",
    "outputId": "c279b061-f773-4d9c-c74b-8a8891439189"
   },
   "outputs": [
    {
     "data": {
      "text/plain": [
       "dtype('O')"
      ]
     },
     "execution_count": 30,
     "metadata": {},
     "output_type": "execute_result"
    }
   ],
   "source": [
    "df.dtypes['DATE_OF_REGISTRATION']"
   ]
  },
  {
   "cell_type": "markdown",
   "metadata": {
    "id": "RLjzSYYg2q3u"
   },
   "source": [
    "Hence, the datatype of Date of Registration is object. \n",
    "\n",
    "Let's convert it into datetime. Then will check number of registrations yearwise."
   ]
  },
  {
   "cell_type": "code",
   "execution_count": null,
   "metadata": {
    "colab": {
     "base_uri": "https://localhost:8080/"
    },
    "executionInfo": {
     "elapsed": 5470,
     "status": "ok",
     "timestamp": 1664272825161,
     "user": {
      "displayName": "Kshama Singhal",
      "userId": "01290402449884306325"
     },
     "user_tz": -330
    },
    "id": "xnRk3sfAuBs7",
    "outputId": "7dc683a7-1057-47d8-d449-3d979ec51e94"
   },
   "outputs": [
    {
     "data": {
      "text/plain": [
       "2019.0    128658\n",
       "2018.0    117924\n",
       "2017.0    107635\n",
       "2012.0    103271\n",
       "2011.0     97664\n",
       "           ...  \n",
       "1884.0         2\n",
       "1892.0         2\n",
       "1877.0         1\n",
       "1887.0         1\n",
       "1857.0         1\n",
       "Name: DATE_OF_REGISTRATION, Length: 151, dtype: int64"
      ]
     },
     "execution_count": 133,
     "metadata": {},
     "output_type": "execute_result"
    }
   ],
   "source": [
    "df['DATE_OF_REGISTRATION']=pd.to_datetime(df['DATE_OF_REGISTRATION'],format=\"%d-%m-%Y\",errors='coerce')\n",
    "registration_year=df['DATE_OF_REGISTRATION'].dt.year.value_counts()\n",
    "registration_year"
   ]
  },
  {
   "cell_type": "code",
   "execution_count": null,
   "metadata": {
    "colab": {
     "base_uri": "https://localhost:8080/",
     "height": 542
    },
    "executionInfo": {
     "elapsed": 541,
     "status": "ok",
     "timestamp": 1664264896058,
     "user": {
      "displayName": "Kshama Singhal",
      "userId": "01290402449884306325"
     },
     "user_tz": -330
    },
    "id": "IGCm_tuXWhQY",
    "outputId": "b4a26a8e-d880-48ca-e027-25593abaaf7a"
   },
   "outputs": [
    {
     "data": {
      "text/html": [
       "<html>\n",
       "<head><meta charset=\"utf-8\" /></head>\n",
       "<body>\n",
       "    <div>            <script src=\"https://cdnjs.cloudflare.com/ajax/libs/mathjax/2.7.5/MathJax.js?config=TeX-AMS-MML_SVG\"></script><script type=\"text/javascript\">if (window.MathJax && window.MathJax.Hub && window.MathJax.Hub.Config) {window.MathJax.Hub.Config({SVG: {font: \"STIX-Web\"}});}</script>                <script type=\"text/javascript\">window.PlotlyConfig = {MathJaxConfig: 'local'};</script>\n",
       "        <script src=\"https://cdn.plot.ly/plotly-2.14.0.min.js\"></script>                <div id=\"7a4ffde6-12f3-4a72-a762-d8e917e7cbb0\" class=\"plotly-graph-div\" style=\"height:525px; width:100%;\"></div>            <script type=\"text/javascript\">                                    window.PLOTLYENV=window.PLOTLYENV || {};                                    if (document.getElementById(\"7a4ffde6-12f3-4a72-a762-d8e917e7cbb0\")) {                    Plotly.newPlot(                        \"7a4ffde6-12f3-4a72-a762-d8e917e7cbb0\",                        [{\"alignmentgroup\":\"True\",\"hovertemplate\":\"Registration Year: %{x} <br>Number of Companies: %{y}\",\"legendgroup\":\"\",\"marker\":{\"color\":\"#636efa\",\"pattern\":{\"shape\":\"\"}},\"name\":\"\",\"offsetgroup\":\"\",\"orientation\":\"v\",\"showlegend\":false,\"textposition\":\"auto\",\"x\":[2019.0,2018.0,2017.0,2012.0,2011.0,2016.0,2013.0,2010.0,2015.0,2008.0,2014.0,2007.0,2009.0,1995.0,2005.0,2006.0,1996.0,1994.0,1997.0,2004.0,2000.0,1999.0,1993.0,1998.0,2003.0,1992.0,1991.0,2002.0,2001.0,1989.0,1990.0,1988.0,1987.0,1986.0,1985.0,1984.0,2020.0,1983.0,1982.0,1981.0,1980.0,1979.0,1974.0,1973.0,1978.0,1975.0,1976.0,1972.0,1977.0,1971.0,1946.0,1970.0,1947.0,1948.0,1949.0,1960.0,1961.0,1965.0,1969.0,1962.0,1951.0,1964.0,1963.0,1950.0,1959.0,1956.0,1968.0,1966.0,1967.0,1945.0,1955.0,1943.0,1958.0,1954.0,1952.0,1953.0,1957.0,1944.0,1942.0,1941.0,1901.0,1940.0,1936.0,1937.0,1939.0,1935.0,1938.0,1934.0,1920.0,1919.0,1933.0,1929.0,1931.0,1930.0,1932.0,1928.0,1921.0,1918.0,1927.0,1926.0,1923.0,1922.0,1924.0,1925.0,1913.0,1917.0,1909.0,1914.0,1900.0,1916.0,1905.0,1907.0,1910.0,1908.0,1906.0,1911.0,1915.0,1912.0,1904.0,1903.0,1902.0,1890.0,1889.0,1897.0,1899.0,1895.0,1896.0,1891.0,1883.0,1882.0,1893.0,1879.0,1898.0,1885.0,1894.0,1874.0,1863.0,1871.0,1872.0,1873.0,1876.0,1888.0,1881.0,1886.0,1878.0,1880.0,1884.0,1892.0,1877.0,1887.0,1857.0],\"xaxis\":\"x\",\"y\":[128658,117924,107635,103271,97664,93876,92035,86901,80716,70605,70036,63305,61145,59436,51501,49935,47129,40476,37599,37230,32456,29004,28965,28295,28275,26426,25397,23148,22220,22106,21934,21425,17130,16466,15225,13008,12747,11710,10772,9537,6406,4618,3842,3508,3438,3139,2783,2729,2602,2240,1869,1767,1623,1596,1595,1334,1320,1319,1294,1246,1242,1134,1127,1120,1111,1089,1046,1022,976,949,936,931,868,841,830,736,702,599,594,582,525,470,414,411,404,396,373,331,324,311,293,267,267,252,237,235,183,166,144,142,141,139,131,121,89,80,62,60,59,56,51,47,47,46,46,45,41,39,22,19,10,8,8,8,7,6,6,6,5,5,5,5,5,4,4,4,3,3,3,3,3,3,3,3,2,2,2,2,1,1,1],\"yaxis\":\"y\",\"type\":\"bar\"}],                        {\"template\":{\"data\":{\"histogram2dcontour\":[{\"type\":\"histogram2dcontour\",\"colorbar\":{\"outlinewidth\":0,\"ticks\":\"\"},\"colorscale\":[[0.0,\"#0d0887\"],[0.1111111111111111,\"#46039f\"],[0.2222222222222222,\"#7201a8\"],[0.3333333333333333,\"#9c179e\"],[0.4444444444444444,\"#bd3786\"],[0.5555555555555556,\"#d8576b\"],[0.6666666666666666,\"#ed7953\"],[0.7777777777777778,\"#fb9f3a\"],[0.8888888888888888,\"#fdca26\"],[1.0,\"#f0f921\"]]}],\"choropleth\":[{\"type\":\"choropleth\",\"colorbar\":{\"outlinewidth\":0,\"ticks\":\"\"}}],\"histogram2d\":[{\"type\":\"histogram2d\",\"colorbar\":{\"outlinewidth\":0,\"ticks\":\"\"},\"colorscale\":[[0.0,\"#0d0887\"],[0.1111111111111111,\"#46039f\"],[0.2222222222222222,\"#7201a8\"],[0.3333333333333333,\"#9c179e\"],[0.4444444444444444,\"#bd3786\"],[0.5555555555555556,\"#d8576b\"],[0.6666666666666666,\"#ed7953\"],[0.7777777777777778,\"#fb9f3a\"],[0.8888888888888888,\"#fdca26\"],[1.0,\"#f0f921\"]]}],\"heatmap\":[{\"type\":\"heatmap\",\"colorbar\":{\"outlinewidth\":0,\"ticks\":\"\"},\"colorscale\":[[0.0,\"#0d0887\"],[0.1111111111111111,\"#46039f\"],[0.2222222222222222,\"#7201a8\"],[0.3333333333333333,\"#9c179e\"],[0.4444444444444444,\"#bd3786\"],[0.5555555555555556,\"#d8576b\"],[0.6666666666666666,\"#ed7953\"],[0.7777777777777778,\"#fb9f3a\"],[0.8888888888888888,\"#fdca26\"],[1.0,\"#f0f921\"]]}],\"heatmapgl\":[{\"type\":\"heatmapgl\",\"colorbar\":{\"outlinewidth\":0,\"ticks\":\"\"},\"colorscale\":[[0.0,\"#0d0887\"],[0.1111111111111111,\"#46039f\"],[0.2222222222222222,\"#7201a8\"],[0.3333333333333333,\"#9c179e\"],[0.4444444444444444,\"#bd3786\"],[0.5555555555555556,\"#d8576b\"],[0.6666666666666666,\"#ed7953\"],[0.7777777777777778,\"#fb9f3a\"],[0.8888888888888888,\"#fdca26\"],[1.0,\"#f0f921\"]]}],\"contourcarpet\":[{\"type\":\"contourcarpet\",\"colorbar\":{\"outlinewidth\":0,\"ticks\":\"\"}}],\"contour\":[{\"type\":\"contour\",\"colorbar\":{\"outlinewidth\":0,\"ticks\":\"\"},\"colorscale\":[[0.0,\"#0d0887\"],[0.1111111111111111,\"#46039f\"],[0.2222222222222222,\"#7201a8\"],[0.3333333333333333,\"#9c179e\"],[0.4444444444444444,\"#bd3786\"],[0.5555555555555556,\"#d8576b\"],[0.6666666666666666,\"#ed7953\"],[0.7777777777777778,\"#fb9f3a\"],[0.8888888888888888,\"#fdca26\"],[1.0,\"#f0f921\"]]}],\"surface\":[{\"type\":\"surface\",\"colorbar\":{\"outlinewidth\":0,\"ticks\":\"\"},\"colorscale\":[[0.0,\"#0d0887\"],[0.1111111111111111,\"#46039f\"],[0.2222222222222222,\"#7201a8\"],[0.3333333333333333,\"#9c179e\"],[0.4444444444444444,\"#bd3786\"],[0.5555555555555556,\"#d8576b\"],[0.6666666666666666,\"#ed7953\"],[0.7777777777777778,\"#fb9f3a\"],[0.8888888888888888,\"#fdca26\"],[1.0,\"#f0f921\"]]}],\"mesh3d\":[{\"type\":\"mesh3d\",\"colorbar\":{\"outlinewidth\":0,\"ticks\":\"\"}}],\"scatter\":[{\"fillpattern\":{\"fillmode\":\"overlay\",\"size\":10,\"solidity\":0.2},\"type\":\"scatter\"}],\"parcoords\":[{\"type\":\"parcoords\",\"line\":{\"colorbar\":{\"outlinewidth\":0,\"ticks\":\"\"}}}],\"scatterpolargl\":[{\"type\":\"scatterpolargl\",\"marker\":{\"colorbar\":{\"outlinewidth\":0,\"ticks\":\"\"}}}],\"bar\":[{\"error_x\":{\"color\":\"#2a3f5f\"},\"error_y\":{\"color\":\"#2a3f5f\"},\"marker\":{\"line\":{\"color\":\"#E5ECF6\",\"width\":0.5},\"pattern\":{\"fillmode\":\"overlay\",\"size\":10,\"solidity\":0.2}},\"type\":\"bar\"}],\"scattergeo\":[{\"type\":\"scattergeo\",\"marker\":{\"colorbar\":{\"outlinewidth\":0,\"ticks\":\"\"}}}],\"scatterpolar\":[{\"type\":\"scatterpolar\",\"marker\":{\"colorbar\":{\"outlinewidth\":0,\"ticks\":\"\"}}}],\"histogram\":[{\"marker\":{\"pattern\":{\"fillmode\":\"overlay\",\"size\":10,\"solidity\":0.2}},\"type\":\"histogram\"}],\"scattergl\":[{\"type\":\"scattergl\",\"marker\":{\"colorbar\":{\"outlinewidth\":0,\"ticks\":\"\"}}}],\"scatter3d\":[{\"type\":\"scatter3d\",\"line\":{\"colorbar\":{\"outlinewidth\":0,\"ticks\":\"\"}},\"marker\":{\"colorbar\":{\"outlinewidth\":0,\"ticks\":\"\"}}}],\"scattermapbox\":[{\"type\":\"scattermapbox\",\"marker\":{\"colorbar\":{\"outlinewidth\":0,\"ticks\":\"\"}}}],\"scatterternary\":[{\"type\":\"scatterternary\",\"marker\":{\"colorbar\":{\"outlinewidth\":0,\"ticks\":\"\"}}}],\"scattercarpet\":[{\"type\":\"scattercarpet\",\"marker\":{\"colorbar\":{\"outlinewidth\":0,\"ticks\":\"\"}}}],\"carpet\":[{\"aaxis\":{\"endlinecolor\":\"#2a3f5f\",\"gridcolor\":\"white\",\"linecolor\":\"white\",\"minorgridcolor\":\"white\",\"startlinecolor\":\"#2a3f5f\"},\"baxis\":{\"endlinecolor\":\"#2a3f5f\",\"gridcolor\":\"white\",\"linecolor\":\"white\",\"minorgridcolor\":\"white\",\"startlinecolor\":\"#2a3f5f\"},\"type\":\"carpet\"}],\"table\":[{\"cells\":{\"fill\":{\"color\":\"#EBF0F8\"},\"line\":{\"color\":\"white\"}},\"header\":{\"fill\":{\"color\":\"#C8D4E3\"},\"line\":{\"color\":\"white\"}},\"type\":\"table\"}],\"barpolar\":[{\"marker\":{\"line\":{\"color\":\"#E5ECF6\",\"width\":0.5},\"pattern\":{\"fillmode\":\"overlay\",\"size\":10,\"solidity\":0.2}},\"type\":\"barpolar\"}],\"pie\":[{\"automargin\":true,\"type\":\"pie\"}]},\"layout\":{\"autotypenumbers\":\"strict\",\"colorway\":[\"#636efa\",\"#EF553B\",\"#00cc96\",\"#ab63fa\",\"#FFA15A\",\"#19d3f3\",\"#FF6692\",\"#B6E880\",\"#FF97FF\",\"#FECB52\"],\"font\":{\"color\":\"#2a3f5f\"},\"hovermode\":\"closest\",\"hoverlabel\":{\"align\":\"left\"},\"paper_bgcolor\":\"white\",\"plot_bgcolor\":\"#E5ECF6\",\"polar\":{\"bgcolor\":\"#E5ECF6\",\"angularaxis\":{\"gridcolor\":\"white\",\"linecolor\":\"white\",\"ticks\":\"\"},\"radialaxis\":{\"gridcolor\":\"white\",\"linecolor\":\"white\",\"ticks\":\"\"}},\"ternary\":{\"bgcolor\":\"#E5ECF6\",\"aaxis\":{\"gridcolor\":\"white\",\"linecolor\":\"white\",\"ticks\":\"\"},\"baxis\":{\"gridcolor\":\"white\",\"linecolor\":\"white\",\"ticks\":\"\"},\"caxis\":{\"gridcolor\":\"white\",\"linecolor\":\"white\",\"ticks\":\"\"}},\"coloraxis\":{\"colorbar\":{\"outlinewidth\":0,\"ticks\":\"\"}},\"colorscale\":{\"sequential\":[[0.0,\"#0d0887\"],[0.1111111111111111,\"#46039f\"],[0.2222222222222222,\"#7201a8\"],[0.3333333333333333,\"#9c179e\"],[0.4444444444444444,\"#bd3786\"],[0.5555555555555556,\"#d8576b\"],[0.6666666666666666,\"#ed7953\"],[0.7777777777777778,\"#fb9f3a\"],[0.8888888888888888,\"#fdca26\"],[1.0,\"#f0f921\"]],\"sequentialminus\":[[0.0,\"#0d0887\"],[0.1111111111111111,\"#46039f\"],[0.2222222222222222,\"#7201a8\"],[0.3333333333333333,\"#9c179e\"],[0.4444444444444444,\"#bd3786\"],[0.5555555555555556,\"#d8576b\"],[0.6666666666666666,\"#ed7953\"],[0.7777777777777778,\"#fb9f3a\"],[0.8888888888888888,\"#fdca26\"],[1.0,\"#f0f921\"]],\"diverging\":[[0,\"#8e0152\"],[0.1,\"#c51b7d\"],[0.2,\"#de77ae\"],[0.3,\"#f1b6da\"],[0.4,\"#fde0ef\"],[0.5,\"#f7f7f7\"],[0.6,\"#e6f5d0\"],[0.7,\"#b8e186\"],[0.8,\"#7fbc41\"],[0.9,\"#4d9221\"],[1,\"#276419\"]]},\"xaxis\":{\"gridcolor\":\"white\",\"linecolor\":\"white\",\"ticks\":\"\",\"title\":{\"standoff\":15},\"zerolinecolor\":\"white\",\"automargin\":true,\"zerolinewidth\":2},\"yaxis\":{\"gridcolor\":\"white\",\"linecolor\":\"white\",\"ticks\":\"\",\"title\":{\"standoff\":15},\"zerolinecolor\":\"white\",\"automargin\":true,\"zerolinewidth\":2},\"scene\":{\"xaxis\":{\"backgroundcolor\":\"#E5ECF6\",\"gridcolor\":\"white\",\"linecolor\":\"white\",\"showbackground\":true,\"ticks\":\"\",\"zerolinecolor\":\"white\",\"gridwidth\":2},\"yaxis\":{\"backgroundcolor\":\"#E5ECF6\",\"gridcolor\":\"white\",\"linecolor\":\"white\",\"showbackground\":true,\"ticks\":\"\",\"zerolinecolor\":\"white\",\"gridwidth\":2},\"zaxis\":{\"backgroundcolor\":\"#E5ECF6\",\"gridcolor\":\"white\",\"linecolor\":\"white\",\"showbackground\":true,\"ticks\":\"\",\"zerolinecolor\":\"white\",\"gridwidth\":2}},\"shapedefaults\":{\"line\":{\"color\":\"#2a3f5f\"}},\"annotationdefaults\":{\"arrowcolor\":\"#2a3f5f\",\"arrowhead\":0,\"arrowwidth\":1},\"geo\":{\"bgcolor\":\"white\",\"landcolor\":\"#E5ECF6\",\"subunitcolor\":\"white\",\"showland\":true,\"showlakes\":true,\"lakecolor\":\"white\"},\"title\":{\"x\":0.05},\"mapbox\":{\"style\":\"light\"}}},\"xaxis\":{\"anchor\":\"y\",\"domain\":[0.0,1.0],\"title\":{\"text\":\"Registration Year\"}},\"yaxis\":{\"anchor\":\"x\",\"domain\":[0.0,1.0],\"title\":{\"text\":\"Number of Companies\"}},\"legend\":{\"tracegroupgap\":0},\"margin\":{\"t\":60},\"barmode\":\"relative\",\"title\":{\"text\":\"Registration Year vs Number of Companies\"}},                        {\"responsive\": true}                    ).then(function(){\n",
       "                            \n",
       "var gd = document.getElementById('7a4ffde6-12f3-4a72-a762-d8e917e7cbb0');\n",
       "var x = new MutationObserver(function (mutations, observer) {{\n",
       "        var display = window.getComputedStyle(gd).display;\n",
       "        if (!display || display === 'none') {{\n",
       "            console.log([gd, 'removed!']);\n",
       "            Plotly.purge(gd);\n",
       "            observer.disconnect();\n",
       "        }}\n",
       "}});\n",
       "\n",
       "// Listen for the removal of the full notebook cells\n",
       "var notebookContainer = gd.closest('#notebook-container');\n",
       "if (notebookContainer) {{\n",
       "    x.observe(notebookContainer, {childList: true});\n",
       "}}\n",
       "\n",
       "// Listen for the clearing of the current output cell\n",
       "var outputEl = gd.closest('.output');\n",
       "if (outputEl) {{\n",
       "    x.observe(outputEl, {childList: true});\n",
       "}}\n",
       "\n",
       "                        })                };                            </script>        </div>\n",
       "</body>\n",
       "</html>"
      ]
     },
     "metadata": {},
     "output_type": "display_data"
    }
   ],
   "source": [
    "import plotly.express as px\n",
    "fig=px.bar(x=registration_year.index,y=registration_year)\n",
    "fig.update_layout(xaxis_title='Registration Year',\n",
    "                  yaxis_title='Number of Companies',\n",
    "                  title='Registration Year vs Number of Companies'\n",
    "                  )\n",
    "fig.update_traces(hovertemplate='Registration Year: %{x} <br>Number of Companies: %{y}')\n",
    "fig.show()"
   ]
  },
  {
   "cell_type": "markdown",
   "metadata": {
    "id": "6DPGjnK5487A"
   },
   "source": [
    "To check number of registration according to days. We will use `dt.day_name()` function then convert the series into dataframe then change the datatype of the day column to categorical."
   ]
  },
  {
   "cell_type": "code",
   "execution_count": null,
   "metadata": {
    "id": "a8znWDf2o1Yo"
   },
   "outputs": [],
   "source": [
    "days=['Monday','Tuesday','Wednesday','Thursday','Friday','Saturday','Sunday']"
   ]
  },
  {
   "cell_type": "code",
   "execution_count": null,
   "metadata": {
    "id": "9aL4-OfKwtzn"
   },
   "outputs": [],
   "source": [
    "registration_weekday=df['DATE_OF_REGISTRATION'].dt.day_name().value_counts()\n",
    "registration_weekday_df=registration_weekday.to_frame().reset_index().rename(columns={'index':'day'})\n",
    "registration_weekday_df.day=pd.Categorical(registration_weekday_df.day,categories=days,ordered=True)"
   ]
  },
  {
   "cell_type": "code",
   "execution_count": null,
   "metadata": {
    "id": "tSs--aUdpoQH"
   },
   "outputs": [],
   "source": [
    "registration_weekday_df=registration_weekday_df.sort_values(by='day')"
   ]
  },
  {
   "cell_type": "code",
   "execution_count": null,
   "metadata": {
    "colab": {
     "base_uri": "https://localhost:8080/",
     "height": 542
    },
    "executionInfo": {
     "elapsed": 859,
     "status": "ok",
     "timestamp": 1664264920225,
     "user": {
      "displayName": "Kshama Singhal",
      "userId": "01290402449884306325"
     },
     "user_tz": -330
    },
    "id": "-TJGZR0HxyON",
    "outputId": "2e5291bc-35d0-472f-b557-d69406c16a38"
   },
   "outputs": [
    {
     "data": {
      "text/html": [
       "<html>\n",
       "<head><meta charset=\"utf-8\" /></head>\n",
       "<body>\n",
       "    <div>            <script src=\"https://cdnjs.cloudflare.com/ajax/libs/mathjax/2.7.5/MathJax.js?config=TeX-AMS-MML_SVG\"></script><script type=\"text/javascript\">if (window.MathJax && window.MathJax.Hub && window.MathJax.Hub.Config) {window.MathJax.Hub.Config({SVG: {font: \"STIX-Web\"}});}</script>                <script type=\"text/javascript\">window.PlotlyConfig = {MathJaxConfig: 'local'};</script>\n",
       "        <script src=\"https://cdn.plot.ly/plotly-2.14.0.min.js\"></script>                <div id=\"0bf85b62-c96e-4d80-8072-3e5e098f502d\" class=\"plotly-graph-div\" style=\"height:525px; width:100%;\"></div>            <script type=\"text/javascript\">                                    window.PLOTLYENV=window.PLOTLYENV || {};                                    if (document.getElementById(\"0bf85b62-c96e-4d80-8072-3e5e098f502d\")) {                    Plotly.newPlot(                        \"0bf85b62-c96e-4d80-8072-3e5e098f502d\",                        [{\"hovertemplate\":\"Registration Day: %{x} <br>Number of Companies: %{y}\",\"legendgroup\":\"\",\"line\":{\"color\":\"#636efa\",\"dash\":\"solid\"},\"marker\":{\"symbol\":\"circle\"},\"mode\":\"lines\",\"name\":\"\",\"orientation\":\"v\",\"showlegend\":false,\"x\":[\"Monday\",\"Tuesday\",\"Wednesday\",\"Thursday\",\"Friday\",\"Saturday\",\"Sunday\"],\"xaxis\":\"x\",\"y\":[385923,382240,387695,386537,390962,51792,4494],\"yaxis\":\"y\",\"type\":\"scatter\"}],                        {\"template\":{\"data\":{\"histogram2dcontour\":[{\"type\":\"histogram2dcontour\",\"colorbar\":{\"outlinewidth\":0,\"ticks\":\"\"},\"colorscale\":[[0.0,\"#0d0887\"],[0.1111111111111111,\"#46039f\"],[0.2222222222222222,\"#7201a8\"],[0.3333333333333333,\"#9c179e\"],[0.4444444444444444,\"#bd3786\"],[0.5555555555555556,\"#d8576b\"],[0.6666666666666666,\"#ed7953\"],[0.7777777777777778,\"#fb9f3a\"],[0.8888888888888888,\"#fdca26\"],[1.0,\"#f0f921\"]]}],\"choropleth\":[{\"type\":\"choropleth\",\"colorbar\":{\"outlinewidth\":0,\"ticks\":\"\"}}],\"histogram2d\":[{\"type\":\"histogram2d\",\"colorbar\":{\"outlinewidth\":0,\"ticks\":\"\"},\"colorscale\":[[0.0,\"#0d0887\"],[0.1111111111111111,\"#46039f\"],[0.2222222222222222,\"#7201a8\"],[0.3333333333333333,\"#9c179e\"],[0.4444444444444444,\"#bd3786\"],[0.5555555555555556,\"#d8576b\"],[0.6666666666666666,\"#ed7953\"],[0.7777777777777778,\"#fb9f3a\"],[0.8888888888888888,\"#fdca26\"],[1.0,\"#f0f921\"]]}],\"heatmap\":[{\"type\":\"heatmap\",\"colorbar\":{\"outlinewidth\":0,\"ticks\":\"\"},\"colorscale\":[[0.0,\"#0d0887\"],[0.1111111111111111,\"#46039f\"],[0.2222222222222222,\"#7201a8\"],[0.3333333333333333,\"#9c179e\"],[0.4444444444444444,\"#bd3786\"],[0.5555555555555556,\"#d8576b\"],[0.6666666666666666,\"#ed7953\"],[0.7777777777777778,\"#fb9f3a\"],[0.8888888888888888,\"#fdca26\"],[1.0,\"#f0f921\"]]}],\"heatmapgl\":[{\"type\":\"heatmapgl\",\"colorbar\":{\"outlinewidth\":0,\"ticks\":\"\"},\"colorscale\":[[0.0,\"#0d0887\"],[0.1111111111111111,\"#46039f\"],[0.2222222222222222,\"#7201a8\"],[0.3333333333333333,\"#9c179e\"],[0.4444444444444444,\"#bd3786\"],[0.5555555555555556,\"#d8576b\"],[0.6666666666666666,\"#ed7953\"],[0.7777777777777778,\"#fb9f3a\"],[0.8888888888888888,\"#fdca26\"],[1.0,\"#f0f921\"]]}],\"contourcarpet\":[{\"type\":\"contourcarpet\",\"colorbar\":{\"outlinewidth\":0,\"ticks\":\"\"}}],\"contour\":[{\"type\":\"contour\",\"colorbar\":{\"outlinewidth\":0,\"ticks\":\"\"},\"colorscale\":[[0.0,\"#0d0887\"],[0.1111111111111111,\"#46039f\"],[0.2222222222222222,\"#7201a8\"],[0.3333333333333333,\"#9c179e\"],[0.4444444444444444,\"#bd3786\"],[0.5555555555555556,\"#d8576b\"],[0.6666666666666666,\"#ed7953\"],[0.7777777777777778,\"#fb9f3a\"],[0.8888888888888888,\"#fdca26\"],[1.0,\"#f0f921\"]]}],\"surface\":[{\"type\":\"surface\",\"colorbar\":{\"outlinewidth\":0,\"ticks\":\"\"},\"colorscale\":[[0.0,\"#0d0887\"],[0.1111111111111111,\"#46039f\"],[0.2222222222222222,\"#7201a8\"],[0.3333333333333333,\"#9c179e\"],[0.4444444444444444,\"#bd3786\"],[0.5555555555555556,\"#d8576b\"],[0.6666666666666666,\"#ed7953\"],[0.7777777777777778,\"#fb9f3a\"],[0.8888888888888888,\"#fdca26\"],[1.0,\"#f0f921\"]]}],\"mesh3d\":[{\"type\":\"mesh3d\",\"colorbar\":{\"outlinewidth\":0,\"ticks\":\"\"}}],\"scatter\":[{\"fillpattern\":{\"fillmode\":\"overlay\",\"size\":10,\"solidity\":0.2},\"type\":\"scatter\"}],\"parcoords\":[{\"type\":\"parcoords\",\"line\":{\"colorbar\":{\"outlinewidth\":0,\"ticks\":\"\"}}}],\"scatterpolargl\":[{\"type\":\"scatterpolargl\",\"marker\":{\"colorbar\":{\"outlinewidth\":0,\"ticks\":\"\"}}}],\"bar\":[{\"error_x\":{\"color\":\"#2a3f5f\"},\"error_y\":{\"color\":\"#2a3f5f\"},\"marker\":{\"line\":{\"color\":\"#E5ECF6\",\"width\":0.5},\"pattern\":{\"fillmode\":\"overlay\",\"size\":10,\"solidity\":0.2}},\"type\":\"bar\"}],\"scattergeo\":[{\"type\":\"scattergeo\",\"marker\":{\"colorbar\":{\"outlinewidth\":0,\"ticks\":\"\"}}}],\"scatterpolar\":[{\"type\":\"scatterpolar\",\"marker\":{\"colorbar\":{\"outlinewidth\":0,\"ticks\":\"\"}}}],\"histogram\":[{\"marker\":{\"pattern\":{\"fillmode\":\"overlay\",\"size\":10,\"solidity\":0.2}},\"type\":\"histogram\"}],\"scattergl\":[{\"type\":\"scattergl\",\"marker\":{\"colorbar\":{\"outlinewidth\":0,\"ticks\":\"\"}}}],\"scatter3d\":[{\"type\":\"scatter3d\",\"line\":{\"colorbar\":{\"outlinewidth\":0,\"ticks\":\"\"}},\"marker\":{\"colorbar\":{\"outlinewidth\":0,\"ticks\":\"\"}}}],\"scattermapbox\":[{\"type\":\"scattermapbox\",\"marker\":{\"colorbar\":{\"outlinewidth\":0,\"ticks\":\"\"}}}],\"scatterternary\":[{\"type\":\"scatterternary\",\"marker\":{\"colorbar\":{\"outlinewidth\":0,\"ticks\":\"\"}}}],\"scattercarpet\":[{\"type\":\"scattercarpet\",\"marker\":{\"colorbar\":{\"outlinewidth\":0,\"ticks\":\"\"}}}],\"carpet\":[{\"aaxis\":{\"endlinecolor\":\"#2a3f5f\",\"gridcolor\":\"white\",\"linecolor\":\"white\",\"minorgridcolor\":\"white\",\"startlinecolor\":\"#2a3f5f\"},\"baxis\":{\"endlinecolor\":\"#2a3f5f\",\"gridcolor\":\"white\",\"linecolor\":\"white\",\"minorgridcolor\":\"white\",\"startlinecolor\":\"#2a3f5f\"},\"type\":\"carpet\"}],\"table\":[{\"cells\":{\"fill\":{\"color\":\"#EBF0F8\"},\"line\":{\"color\":\"white\"}},\"header\":{\"fill\":{\"color\":\"#C8D4E3\"},\"line\":{\"color\":\"white\"}},\"type\":\"table\"}],\"barpolar\":[{\"marker\":{\"line\":{\"color\":\"#E5ECF6\",\"width\":0.5},\"pattern\":{\"fillmode\":\"overlay\",\"size\":10,\"solidity\":0.2}},\"type\":\"barpolar\"}],\"pie\":[{\"automargin\":true,\"type\":\"pie\"}]},\"layout\":{\"autotypenumbers\":\"strict\",\"colorway\":[\"#636efa\",\"#EF553B\",\"#00cc96\",\"#ab63fa\",\"#FFA15A\",\"#19d3f3\",\"#FF6692\",\"#B6E880\",\"#FF97FF\",\"#FECB52\"],\"font\":{\"color\":\"#2a3f5f\"},\"hovermode\":\"closest\",\"hoverlabel\":{\"align\":\"left\"},\"paper_bgcolor\":\"white\",\"plot_bgcolor\":\"#E5ECF6\",\"polar\":{\"bgcolor\":\"#E5ECF6\",\"angularaxis\":{\"gridcolor\":\"white\",\"linecolor\":\"white\",\"ticks\":\"\"},\"radialaxis\":{\"gridcolor\":\"white\",\"linecolor\":\"white\",\"ticks\":\"\"}},\"ternary\":{\"bgcolor\":\"#E5ECF6\",\"aaxis\":{\"gridcolor\":\"white\",\"linecolor\":\"white\",\"ticks\":\"\"},\"baxis\":{\"gridcolor\":\"white\",\"linecolor\":\"white\",\"ticks\":\"\"},\"caxis\":{\"gridcolor\":\"white\",\"linecolor\":\"white\",\"ticks\":\"\"}},\"coloraxis\":{\"colorbar\":{\"outlinewidth\":0,\"ticks\":\"\"}},\"colorscale\":{\"sequential\":[[0.0,\"#0d0887\"],[0.1111111111111111,\"#46039f\"],[0.2222222222222222,\"#7201a8\"],[0.3333333333333333,\"#9c179e\"],[0.4444444444444444,\"#bd3786\"],[0.5555555555555556,\"#d8576b\"],[0.6666666666666666,\"#ed7953\"],[0.7777777777777778,\"#fb9f3a\"],[0.8888888888888888,\"#fdca26\"],[1.0,\"#f0f921\"]],\"sequentialminus\":[[0.0,\"#0d0887\"],[0.1111111111111111,\"#46039f\"],[0.2222222222222222,\"#7201a8\"],[0.3333333333333333,\"#9c179e\"],[0.4444444444444444,\"#bd3786\"],[0.5555555555555556,\"#d8576b\"],[0.6666666666666666,\"#ed7953\"],[0.7777777777777778,\"#fb9f3a\"],[0.8888888888888888,\"#fdca26\"],[1.0,\"#f0f921\"]],\"diverging\":[[0,\"#8e0152\"],[0.1,\"#c51b7d\"],[0.2,\"#de77ae\"],[0.3,\"#f1b6da\"],[0.4,\"#fde0ef\"],[0.5,\"#f7f7f7\"],[0.6,\"#e6f5d0\"],[0.7,\"#b8e186\"],[0.8,\"#7fbc41\"],[0.9,\"#4d9221\"],[1,\"#276419\"]]},\"xaxis\":{\"gridcolor\":\"white\",\"linecolor\":\"white\",\"ticks\":\"\",\"title\":{\"standoff\":15},\"zerolinecolor\":\"white\",\"automargin\":true,\"zerolinewidth\":2},\"yaxis\":{\"gridcolor\":\"white\",\"linecolor\":\"white\",\"ticks\":\"\",\"title\":{\"standoff\":15},\"zerolinecolor\":\"white\",\"automargin\":true,\"zerolinewidth\":2},\"scene\":{\"xaxis\":{\"backgroundcolor\":\"#E5ECF6\",\"gridcolor\":\"white\",\"linecolor\":\"white\",\"showbackground\":true,\"ticks\":\"\",\"zerolinecolor\":\"white\",\"gridwidth\":2},\"yaxis\":{\"backgroundcolor\":\"#E5ECF6\",\"gridcolor\":\"white\",\"linecolor\":\"white\",\"showbackground\":true,\"ticks\":\"\",\"zerolinecolor\":\"white\",\"gridwidth\":2},\"zaxis\":{\"backgroundcolor\":\"#E5ECF6\",\"gridcolor\":\"white\",\"linecolor\":\"white\",\"showbackground\":true,\"ticks\":\"\",\"zerolinecolor\":\"white\",\"gridwidth\":2}},\"shapedefaults\":{\"line\":{\"color\":\"#2a3f5f\"}},\"annotationdefaults\":{\"arrowcolor\":\"#2a3f5f\",\"arrowhead\":0,\"arrowwidth\":1},\"geo\":{\"bgcolor\":\"white\",\"landcolor\":\"#E5ECF6\",\"subunitcolor\":\"white\",\"showland\":true,\"showlakes\":true,\"lakecolor\":\"white\"},\"title\":{\"x\":0.05},\"mapbox\":{\"style\":\"light\"}}},\"xaxis\":{\"anchor\":\"y\",\"domain\":[0.0,1.0],\"title\":{\"text\":\"Registration Day\"}},\"yaxis\":{\"anchor\":\"x\",\"domain\":[0.0,1.0],\"title\":{\"text\":\"# of Registration\"}},\"legend\":{\"tracegroupgap\":0},\"margin\":{\"t\":60}},                        {\"responsive\": true}                    ).then(function(){\n",
       "                            \n",
       "var gd = document.getElementById('0bf85b62-c96e-4d80-8072-3e5e098f502d');\n",
       "var x = new MutationObserver(function (mutations, observer) {{\n",
       "        var display = window.getComputedStyle(gd).display;\n",
       "        if (!display || display === 'none') {{\n",
       "            console.log([gd, 'removed!']);\n",
       "            Plotly.purge(gd);\n",
       "            observer.disconnect();\n",
       "        }}\n",
       "}});\n",
       "\n",
       "// Listen for the removal of the full notebook cells\n",
       "var notebookContainer = gd.closest('#notebook-container');\n",
       "if (notebookContainer) {{\n",
       "    x.observe(notebookContainer, {childList: true});\n",
       "}}\n",
       "\n",
       "// Listen for the clearing of the current output cell\n",
       "var outputEl = gd.closest('.output');\n",
       "if (outputEl) {{\n",
       "    x.observe(outputEl, {childList: true});\n",
       "}}\n",
       "\n",
       "                        })                };                            </script>        </div>\n",
       "</body>\n",
       "</html>"
      ]
     },
     "metadata": {},
     "output_type": "display_data"
    }
   ],
   "source": [
    "fig=px.line(x=registration_weekday_df.day,y=registration_weekday_df.DATE_OF_REGISTRATION)\n",
    "fig.update_layout(xaxis_title='Registration Day',yaxis_title='# of Registration')\n",
    "fig.update_traces(hovertemplate='Registration Day: %{x} <br>Number of Companies: %{y}')\n",
    "fig"
   ]
  },
  {
   "cell_type": "markdown",
   "metadata": {
    "id": "Z_f5miF750xu"
   },
   "source": [
    "`Insights`:\n",
    "* On an average, most of companies registered between 2000 & 2019.\n",
    "* The highest number of companies(128.658 k) registered in 2019.Then there is drastically decrease in number of companies registration.In March 2020, government announced the lockdown due to covid-19. This could be the reason for decrease in companies registration.\n",
    "* Almost all days have similar number of companies registration except weekends. Saturday and Sunday has very less number of registration, may be due to weekends as people like to relax, spend time with family and stay away from their professional life. One of the reason could be closing of offices on weekends."
   ]
  },
  {
   "cell_type": "markdown",
   "metadata": {
    "id": "DsUwLGkhxosz"
   },
   "source": [
    "### 6.REGISTERED_STATE\n",
    "State in which company was registered.\n",
    "Let's first check unique number of states."
   ]
  },
  {
   "cell_type": "markdown",
   "metadata": {
    "id": "xdG-9kFH6_cN"
   },
   "source": []
  },
  {
   "cell_type": "code",
   "execution_count": null,
   "metadata": {
    "colab": {
     "base_uri": "https://localhost:8080/"
    },
    "executionInfo": {
     "elapsed": 757,
     "status": "ok",
     "timestamp": 1664264945238,
     "user": {
      "displayName": "Kshama Singhal",
      "userId": "01290402449884306325"
     },
     "user_tz": -330
    },
    "id": "JOdYH_MCyNJQ",
    "outputId": "45f45101-07b0-44e2-b003-376cc18e7618"
   },
   "outputs": [
    {
     "data": {
      "text/plain": [
       "36"
      ]
     },
     "execution_count": 37,
     "metadata": {},
     "output_type": "execute_result"
    }
   ],
   "source": [
    "df.REGISTERED_STATE.nunique()"
   ]
  },
  {
   "cell_type": "code",
   "execution_count": null,
   "metadata": {
    "colab": {
     "base_uri": "https://localhost:8080/"
    },
    "executionInfo": {
     "elapsed": 5,
     "status": "ok",
     "timestamp": 1664264947070,
     "user": {
      "displayName": "Kshama Singhal",
      "userId": "01290402449884306325"
     },
     "user_tz": -330
    },
    "id": "iTRNnb57xX8z",
    "outputId": "fda2b8c4-c2e7-45c6-ac1f-4b1754fcb23a"
   },
   "outputs": [
    {
     "data": {
      "text/plain": [
       "Maharashtra                    395282\n",
       "Delhi                          348230\n",
       "West Bengal                    207005\n",
       "Tamil Nadu                     150871\n",
       "Karnataka                      125779\n",
       "Uttar Pradesh                  116337\n",
       "Telangana                      112401\n",
       "Gujarat                        105554\n",
       "Rajasthan                       61370\n",
       "Kerala                          56098\n",
       "Haryana                         51039\n",
       "Madhya Pradesh                  41318\n",
       "Bihar                           35920\n",
       "Andhra Pradesh                  33050\n",
       "Punjab                          32440\n",
       "Orissa                          27023\n",
       "Jharkhand                       15078\n",
       "Chandigarh                      15018\n",
       "Assam                           12078\n",
       "Chattisgarh                     10703\n",
       "Goa                              8942\n",
       "Uttaranchal                      8924\n",
       "Himachal Pradesh                 6591\n",
       "Jammu and Kashmir                5978\n",
       "Pondicherry                      3454\n",
       "Meghalaya                        1115\n",
       "Manipur                          1056\n",
       "Tripura                           645\n",
       "Arunachal Pradesh                 629\n",
       "Nagaland                          620\n",
       "Dadra and Nagra Haveli            550\n",
       "Andaman and Nicobar Islands       480\n",
       "Daman and Diu                     397\n",
       "Mizoram                           175\n",
       "Lakshadweep                        18\n",
       "Sikkim                              2\n",
       "Name: REGISTERED_STATE, dtype: int64"
      ]
     },
     "execution_count": 38,
     "metadata": {},
     "output_type": "execute_result"
    }
   ],
   "source": [
    "companies_by_state=df.REGISTERED_STATE.value_counts()\n",
    "companies_by_state"
   ]
  },
  {
   "cell_type": "markdown",
   "metadata": {
    "id": "N54FL_L9-WRR"
   },
   "source": [
    "`Insights`:\n",
    "* Maharashtra is the leading state having highest number of companies registration (395282).\n",
    "* Sikkim has the lowest number of companies registration (2)."
   ]
  },
  {
   "cell_type": "markdown",
   "metadata": {
    "id": "ftz0tRejy27s"
   },
   "source": [
    "### 7. AUTHORIZED_CAP\n",
    "Authorized capital of a company is the maximum amount of share capital that the company is authorised by its constitutional documents to issue to shareholders."
   ]
  },
  {
   "cell_type": "code",
   "execution_count": null,
   "metadata": {
    "colab": {
     "base_uri": "https://localhost:8080/",
     "height": 35
    },
    "executionInfo": {
     "elapsed": 2295,
     "status": "ok",
     "timestamp": 1664264986713,
     "user": {
      "displayName": "Kshama Singhal",
      "userId": "01290402449884306325"
     },
     "user_tz": -330
    },
    "id": "cTOUbLs1OTXq",
    "outputId": "69bacb31-1998-447d-ff5b-a8be6456b62d"
   },
   "outputs": [
    {
     "data": {
      "application/vnd.google.colaboratory.intrinsic+json": {
       "type": "string"
      },
      "text/plain": [
       "'0'"
      ]
     },
     "execution_count": 39,
     "metadata": {},
     "output_type": "execute_result"
    }
   ],
   "source": [
    "df.AUTHORIZED_CAP.apply(lambda x: '%.f' % x).min()"
   ]
  },
  {
   "cell_type": "code",
   "execution_count": null,
   "metadata": {
    "colab": {
     "base_uri": "https://localhost:8080/",
     "height": 35
    },
    "executionInfo": {
     "elapsed": 1588,
     "status": "ok",
     "timestamp": 1664264988294,
     "user": {
      "displayName": "Kshama Singhal",
      "userId": "01290402449884306325"
     },
     "user_tz": -330
    },
    "id": "WG6VBd4iOXqb",
    "outputId": "bad35e57-d5ee-4643-c764-2eb72cb39270"
   },
   "outputs": [
    {
     "data": {
      "application/vnd.google.colaboratory.intrinsic+json": {
       "type": "string"
      },
      "text/plain": [
       "'999999999990'"
      ]
     },
     "execution_count": 40,
     "metadata": {},
     "output_type": "execute_result"
    }
   ],
   "source": [
    "df.AUTHORIZED_CAP.apply(lambda x: '%.f' % x).max()"
   ]
  },
  {
   "cell_type": "markdown",
   "metadata": {
    "id": "e0WLOIhCOgj7"
   },
   "source": [
    "`Insights`:\n",
    "* Rs. 0 is the minimum authorized capital.\n",
    "* Approx Rs. 999 trilion is the maximum authorized capital."
   ]
  },
  {
   "cell_type": "markdown",
   "metadata": {
    "id": "S8cV3ZBn1RiI"
   },
   "source": [
    "### 8. PAIDUP_CAPITAL\n",
    "Paidup capital is the amount of money a company has received from shareholders in exchange for shares of stock."
   ]
  },
  {
   "cell_type": "code",
   "execution_count": null,
   "metadata": {
    "colab": {
     "base_uri": "https://localhost:8080/"
    },
    "executionInfo": {
     "elapsed": 599,
     "status": "ok",
     "timestamp": 1664265019935,
     "user": {
      "displayName": "Kshama Singhal",
      "userId": "01290402449884306325"
     },
     "user_tz": -330
    },
    "id": "I-qigU2X05on",
    "outputId": "39a091c4-fdff-4dc9-c3e6-585b1f682966"
   },
   "outputs": [
    {
     "data": {
      "text/plain": [
       "100000.0       873908\n",
       "0.0            161788\n",
       "500000.0        87155\n",
       "1000000.0       63100\n",
       "200000.0        49811\n",
       "                ...  \n",
       "9424820.0           1\n",
       "1350400.0           1\n",
       "150800178.0         1\n",
       "9425200.0           1\n",
       "529020.0            1\n",
       "Name: PAIDUP_CAPITAL, Length: 144245, dtype: int64"
      ]
     },
     "execution_count": 41,
     "metadata": {},
     "output_type": "execute_result"
    }
   ],
   "source": [
    "companies_by_paidup_capital=df.PAIDUP_CAPITAL.value_counts()\n",
    "companies_by_paidup_capital"
   ]
  },
  {
   "cell_type": "markdown",
   "metadata": {
    "id": "iQDSV60uP8np"
   },
   "source": [
    "`Insight`:\n",
    "* Most of the companies (873908) have Rs. 1 lakh Paidup capital."
   ]
  },
  {
   "cell_type": "markdown",
   "metadata": {
    "id": "ltmUFUqT30zg"
   },
   "source": [
    "### 9. PRINCIPAL_BUSINESS_ACTIVITY_AS_PER_CIN\n",
    "This is Principal Business Activity of the company as per Corporate Identity Number."
   ]
  },
  {
   "cell_type": "code",
   "execution_count": null,
   "metadata": {
    "colab": {
     "base_uri": "https://localhost:8080/"
    },
    "executionInfo": {
     "elapsed": 632,
     "status": "ok",
     "timestamp": 1664265057025,
     "user": {
      "displayName": "Kshama Singhal",
      "userId": "01290402449884306325"
     },
     "user_tz": -330
    },
    "id": "qPZFyBi01aYQ",
    "outputId": "5cab2ae7-e0af-4e01-e4c2-1ea339e15862"
   },
   "outputs": [
    {
     "data": {
      "text/plain": [
       "Real estate renting and business activities                                                                       679955\n",
       "Manufacturing                                                                                                     410402\n",
       "Wholesale and retail trade repair of motor vehicles motorcycles and personal and household goods                  227333\n",
       "Construction                                                                                                      162125\n",
       "Financial intermediation                                                                                          120714\n",
       "Agriculture & allied                                                                                               82572\n",
       "Transport storage and communications                                                                               63738\n",
       "Other community social and personal service activities                                                             59282\n",
       "Extraterritorial organizations and bodies                                                                          39897\n",
       "Hotels and restaurants                                                                                             38518\n",
       "Health and social work                                                                                             34489\n",
       "Education                                                                                                          28532\n",
       "Electricity gas and water supply                                                                                   22258\n",
       "Mining and quarrying                                                                                               20310\n",
       "Public administration and defence compulsory social security                                                         850\n",
       "Unclassified                                                                                                         787\n",
       "Activities of private households as employers and undifferentiated production activities of private households       396\n",
       "Name: PRINCIPAL_BUSINESS_ACTIVITY_AS_PER_CIN, dtype: int64"
      ]
     },
     "execution_count": 42,
     "metadata": {},
     "output_type": "execute_result"
    }
   ],
   "source": [
    "companies_business_activity=df.PRINCIPAL_BUSINESS_ACTIVITY_AS_PER_CIN.value_counts().sort_values(ascending=False)\n",
    "companies_business_activity"
   ]
  },
  {
   "cell_type": "markdown",
   "metadata": {
    "id": "3I3Wx0hLR9Io"
   },
   "source": [
    "`Insight`:\n",
    "* Most of the registered companies has the Real estate renting and business activities as the principal business.\n",
    "* Least number of registered companies has their prinicipal business is Activities of private households as employers and undifferentiated production activities of private households."
   ]
  },
  {
   "cell_type": "markdown",
   "metadata": {
    "id": "QMyYisbsqGz3"
   },
   "source": [
    "## Ask & Answer Questions\n"
   ]
  },
  {
   "cell_type": "markdown",
   "metadata": {
    "id": "hnO_6vw0I7h0"
   },
   "source": [
    "#### 1. Which 5 states have the highest number of companies registered?"
   ]
  },
  {
   "cell_type": "markdown",
   "metadata": {
    "id": "cYG5eJIWS5kz"
   },
   "source": [
    "To answer this question, first we will generate a dataframe."
   ]
  },
  {
   "cell_type": "code",
   "execution_count": null,
   "metadata": {
    "id": "jQDfcIRlDDhP"
   },
   "outputs": [],
   "source": [
    "companies_by_state_df=companies_by_state.to_frame().reset_index().rename(columns={'index':'State','REGISTERED_STATE':'No. of Companies Registered'})"
   ]
  },
  {
   "cell_type": "markdown",
   "metadata": {
    "id": "Q-fU6sl6TJN3"
   },
   "source": [
    "These are some states and union territories whose names has updated. So, let's replace these names with old names from the dataframe."
   ]
  },
  {
   "cell_type": "code",
   "execution_count": null,
   "metadata": {
    "id": "4YbT6n5aKojB"
   },
   "outputs": [],
   "source": [
    "updated_states = {\"Jammu and Kashmir\":\"Jammu & Kashmir\",\n",
    "    \"Orissa\" : \"Odisha\",\n",
    "                \"Chattisgarh\": \"Chhattisgarh\",\n",
    "                \"Dadra and Nagra Haveli\": \"Dadra and Nagar Haveli and Daman and Diu\",\n",
    "                \"Pondicherry\": \"Puducherry\",\n",
    "                \"Uttaranchal\": \"Uttarakhand\"}\n",
    "\n",
    "companies_by_state_df.State = companies_by_state_df.State.replace(updated_states)\n"
   ]
  },
  {
   "cell_type": "markdown",
   "metadata": {
    "id": "_5z5nyFuTYyP"
   },
   "source": [
    "As now Dadra and Nagar Haveli, and Daman and Diu has merged. Let's first find number of companies for both the territories separately."
   ]
  },
  {
   "cell_type": "code",
   "execution_count": null,
   "metadata": {
    "id": "dgZoGYVAMQpt"
   },
   "outputs": [],
   "source": [
    "dadra_nagar_companies=companies_by_state_df.loc[companies_by_state_df['State']=='Dadra and Nagar Haveli and Daman and Diu']['No. of Companies Registered']\n",
    "daman_companies=companies_by_state_df.loc[companies_by_state_df['State']=='Daman and Diu']['No. of Companies Registered']"
   ]
  },
  {
   "cell_type": "markdown",
   "metadata": {
    "id": "IsiJXUCnTxtj"
   },
   "source": [
    "Let's combine both the territories and make it one."
   ]
  },
  {
   "cell_type": "code",
   "execution_count": null,
   "metadata": {
    "id": "8JX1rEvhNpqS"
   },
   "outputs": [],
   "source": [
    "companies_by_state_df.loc[companies_by_state_df['State']=='Dadra and Nagar Haveli and Daman and Diu','No. of Companies Registered']=int(dadra_nagar_companies)+int(daman_companies)"
   ]
  },
  {
   "cell_type": "code",
   "execution_count": null,
   "metadata": {
    "colab": {
     "base_uri": "https://localhost:8080/",
     "height": 1000
    },
    "executionInfo": {
     "elapsed": 473,
     "status": "ok",
     "timestamp": 1664265106513,
     "user": {
      "displayName": "Kshama Singhal",
      "userId": "01290402449884306325"
     },
     "user_tz": -330
    },
    "id": "c23czevCOzVy",
    "outputId": "4105baac-4e97-4f05-d4d7-5cb873da5d11"
   },
   "outputs": [
    {
     "data": {
      "text/html": [
       "\n",
       "  <div id=\"df-3127d791-e830-44a1-9fbb-d0a27efcc274\">\n",
       "    <div class=\"colab-df-container\">\n",
       "      <div>\n",
       "<style scoped>\n",
       "    .dataframe tbody tr th:only-of-type {\n",
       "        vertical-align: middle;\n",
       "    }\n",
       "\n",
       "    .dataframe tbody tr th {\n",
       "        vertical-align: top;\n",
       "    }\n",
       "\n",
       "    .dataframe thead th {\n",
       "        text-align: right;\n",
       "    }\n",
       "</style>\n",
       "<table border=\"1\" class=\"dataframe\">\n",
       "  <thead>\n",
       "    <tr style=\"text-align: right;\">\n",
       "      <th></th>\n",
       "      <th>State</th>\n",
       "      <th>No. of Companies Registered</th>\n",
       "    </tr>\n",
       "  </thead>\n",
       "  <tbody>\n",
       "    <tr>\n",
       "      <th>0</th>\n",
       "      <td>Maharashtra</td>\n",
       "      <td>395282</td>\n",
       "    </tr>\n",
       "    <tr>\n",
       "      <th>1</th>\n",
       "      <td>Delhi</td>\n",
       "      <td>348230</td>\n",
       "    </tr>\n",
       "    <tr>\n",
       "      <th>2</th>\n",
       "      <td>West Bengal</td>\n",
       "      <td>207005</td>\n",
       "    </tr>\n",
       "    <tr>\n",
       "      <th>3</th>\n",
       "      <td>Tamil Nadu</td>\n",
       "      <td>150871</td>\n",
       "    </tr>\n",
       "    <tr>\n",
       "      <th>4</th>\n",
       "      <td>Karnataka</td>\n",
       "      <td>125779</td>\n",
       "    </tr>\n",
       "    <tr>\n",
       "      <th>5</th>\n",
       "      <td>Uttar Pradesh</td>\n",
       "      <td>116337</td>\n",
       "    </tr>\n",
       "    <tr>\n",
       "      <th>6</th>\n",
       "      <td>Telangana</td>\n",
       "      <td>112401</td>\n",
       "    </tr>\n",
       "    <tr>\n",
       "      <th>7</th>\n",
       "      <td>Gujarat</td>\n",
       "      <td>105554</td>\n",
       "    </tr>\n",
       "    <tr>\n",
       "      <th>8</th>\n",
       "      <td>Rajasthan</td>\n",
       "      <td>61370</td>\n",
       "    </tr>\n",
       "    <tr>\n",
       "      <th>9</th>\n",
       "      <td>Kerala</td>\n",
       "      <td>56098</td>\n",
       "    </tr>\n",
       "    <tr>\n",
       "      <th>10</th>\n",
       "      <td>Haryana</td>\n",
       "      <td>51039</td>\n",
       "    </tr>\n",
       "    <tr>\n",
       "      <th>11</th>\n",
       "      <td>Madhya Pradesh</td>\n",
       "      <td>41318</td>\n",
       "    </tr>\n",
       "    <tr>\n",
       "      <th>12</th>\n",
       "      <td>Bihar</td>\n",
       "      <td>35920</td>\n",
       "    </tr>\n",
       "    <tr>\n",
       "      <th>13</th>\n",
       "      <td>Andhra Pradesh</td>\n",
       "      <td>33050</td>\n",
       "    </tr>\n",
       "    <tr>\n",
       "      <th>14</th>\n",
       "      <td>Punjab</td>\n",
       "      <td>32440</td>\n",
       "    </tr>\n",
       "    <tr>\n",
       "      <th>15</th>\n",
       "      <td>Odisha</td>\n",
       "      <td>27023</td>\n",
       "    </tr>\n",
       "    <tr>\n",
       "      <th>16</th>\n",
       "      <td>Jharkhand</td>\n",
       "      <td>15078</td>\n",
       "    </tr>\n",
       "    <tr>\n",
       "      <th>17</th>\n",
       "      <td>Chandigarh</td>\n",
       "      <td>15018</td>\n",
       "    </tr>\n",
       "    <tr>\n",
       "      <th>18</th>\n",
       "      <td>Assam</td>\n",
       "      <td>12078</td>\n",
       "    </tr>\n",
       "    <tr>\n",
       "      <th>19</th>\n",
       "      <td>Chhattisgarh</td>\n",
       "      <td>10703</td>\n",
       "    </tr>\n",
       "    <tr>\n",
       "      <th>20</th>\n",
       "      <td>Goa</td>\n",
       "      <td>8942</td>\n",
       "    </tr>\n",
       "    <tr>\n",
       "      <th>21</th>\n",
       "      <td>Uttarakhand</td>\n",
       "      <td>8924</td>\n",
       "    </tr>\n",
       "    <tr>\n",
       "      <th>22</th>\n",
       "      <td>Himachal Pradesh</td>\n",
       "      <td>6591</td>\n",
       "    </tr>\n",
       "    <tr>\n",
       "      <th>23</th>\n",
       "      <td>Jammu &amp; Kashmir</td>\n",
       "      <td>5978</td>\n",
       "    </tr>\n",
       "    <tr>\n",
       "      <th>24</th>\n",
       "      <td>Puducherry</td>\n",
       "      <td>3454</td>\n",
       "    </tr>\n",
       "    <tr>\n",
       "      <th>25</th>\n",
       "      <td>Meghalaya</td>\n",
       "      <td>1115</td>\n",
       "    </tr>\n",
       "    <tr>\n",
       "      <th>26</th>\n",
       "      <td>Manipur</td>\n",
       "      <td>1056</td>\n",
       "    </tr>\n",
       "    <tr>\n",
       "      <th>27</th>\n",
       "      <td>Tripura</td>\n",
       "      <td>645</td>\n",
       "    </tr>\n",
       "    <tr>\n",
       "      <th>28</th>\n",
       "      <td>Arunachal Pradesh</td>\n",
       "      <td>629</td>\n",
       "    </tr>\n",
       "    <tr>\n",
       "      <th>29</th>\n",
       "      <td>Nagaland</td>\n",
       "      <td>620</td>\n",
       "    </tr>\n",
       "    <tr>\n",
       "      <th>30</th>\n",
       "      <td>Dadra and Nagar Haveli and Daman and Diu</td>\n",
       "      <td>947</td>\n",
       "    </tr>\n",
       "    <tr>\n",
       "      <th>31</th>\n",
       "      <td>Andaman and Nicobar Islands</td>\n",
       "      <td>480</td>\n",
       "    </tr>\n",
       "    <tr>\n",
       "      <th>32</th>\n",
       "      <td>Daman and Diu</td>\n",
       "      <td>397</td>\n",
       "    </tr>\n",
       "    <tr>\n",
       "      <th>33</th>\n",
       "      <td>Mizoram</td>\n",
       "      <td>175</td>\n",
       "    </tr>\n",
       "    <tr>\n",
       "      <th>34</th>\n",
       "      <td>Lakshadweep</td>\n",
       "      <td>18</td>\n",
       "    </tr>\n",
       "    <tr>\n",
       "      <th>35</th>\n",
       "      <td>Sikkim</td>\n",
       "      <td>2</td>\n",
       "    </tr>\n",
       "  </tbody>\n",
       "</table>\n",
       "</div>\n",
       "      <button class=\"colab-df-convert\" onclick=\"convertToInteractive('df-3127d791-e830-44a1-9fbb-d0a27efcc274')\"\n",
       "              title=\"Convert this dataframe to an interactive table.\"\n",
       "              style=\"display:none;\">\n",
       "        \n",
       "  <svg xmlns=\"http://www.w3.org/2000/svg\" height=\"24px\"viewBox=\"0 0 24 24\"\n",
       "       width=\"24px\">\n",
       "    <path d=\"M0 0h24v24H0V0z\" fill=\"none\"/>\n",
       "    <path d=\"M18.56 5.44l.94 2.06.94-2.06 2.06-.94-2.06-.94-.94-2.06-.94 2.06-2.06.94zm-11 1L8.5 8.5l.94-2.06 2.06-.94-2.06-.94L8.5 2.5l-.94 2.06-2.06.94zm10 10l.94 2.06.94-2.06 2.06-.94-2.06-.94-.94-2.06-.94 2.06-2.06.94z\"/><path d=\"M17.41 7.96l-1.37-1.37c-.4-.4-.92-.59-1.43-.59-.52 0-1.04.2-1.43.59L10.3 9.45l-7.72 7.72c-.78.78-.78 2.05 0 2.83L4 21.41c.39.39.9.59 1.41.59.51 0 1.02-.2 1.41-.59l7.78-7.78 2.81-2.81c.8-.78.8-2.07 0-2.86zM5.41 20L4 18.59l7.72-7.72 1.47 1.35L5.41 20z\"/>\n",
       "  </svg>\n",
       "      </button>\n",
       "      \n",
       "  <style>\n",
       "    .colab-df-container {\n",
       "      display:flex;\n",
       "      flex-wrap:wrap;\n",
       "      gap: 12px;\n",
       "    }\n",
       "\n",
       "    .colab-df-convert {\n",
       "      background-color: #E8F0FE;\n",
       "      border: none;\n",
       "      border-radius: 50%;\n",
       "      cursor: pointer;\n",
       "      display: none;\n",
       "      fill: #1967D2;\n",
       "      height: 32px;\n",
       "      padding: 0 0 0 0;\n",
       "      width: 32px;\n",
       "    }\n",
       "\n",
       "    .colab-df-convert:hover {\n",
       "      background-color: #E2EBFA;\n",
       "      box-shadow: 0px 1px 2px rgba(60, 64, 67, 0.3), 0px 1px 3px 1px rgba(60, 64, 67, 0.15);\n",
       "      fill: #174EA6;\n",
       "    }\n",
       "\n",
       "    [theme=dark] .colab-df-convert {\n",
       "      background-color: #3B4455;\n",
       "      fill: #D2E3FC;\n",
       "    }\n",
       "\n",
       "    [theme=dark] .colab-df-convert:hover {\n",
       "      background-color: #434B5C;\n",
       "      box-shadow: 0px 1px 3px 1px rgba(0, 0, 0, 0.15);\n",
       "      filter: drop-shadow(0px 1px 2px rgba(0, 0, 0, 0.3));\n",
       "      fill: #FFFFFF;\n",
       "    }\n",
       "  </style>\n",
       "\n",
       "      <script>\n",
       "        const buttonEl =\n",
       "          document.querySelector('#df-3127d791-e830-44a1-9fbb-d0a27efcc274 button.colab-df-convert');\n",
       "        buttonEl.style.display =\n",
       "          google.colab.kernel.accessAllowed ? 'block' : 'none';\n",
       "\n",
       "        async function convertToInteractive(key) {\n",
       "          const element = document.querySelector('#df-3127d791-e830-44a1-9fbb-d0a27efcc274');\n",
       "          const dataTable =\n",
       "            await google.colab.kernel.invokeFunction('convertToInteractive',\n",
       "                                                     [key], {});\n",
       "          if (!dataTable) return;\n",
       "\n",
       "          const docLinkHtml = 'Like what you see? Visit the ' +\n",
       "            '<a target=\"_blank\" href=https://colab.research.google.com/notebooks/data_table.ipynb>data table notebook</a>'\n",
       "            + ' to learn more about interactive tables.';\n",
       "          element.innerHTML = '';\n",
       "          dataTable['output_type'] = 'display_data';\n",
       "          await google.colab.output.renderOutput(dataTable, element);\n",
       "          const docLink = document.createElement('div');\n",
       "          docLink.innerHTML = docLinkHtml;\n",
       "          element.appendChild(docLink);\n",
       "        }\n",
       "      </script>\n",
       "    </div>\n",
       "  </div>\n",
       "  "
      ],
      "text/plain": [
       "                                       State  No. of Companies Registered\n",
       "0                                Maharashtra                       395282\n",
       "1                                      Delhi                       348230\n",
       "2                                West Bengal                       207005\n",
       "3                                 Tamil Nadu                       150871\n",
       "4                                  Karnataka                       125779\n",
       "5                              Uttar Pradesh                       116337\n",
       "6                                  Telangana                       112401\n",
       "7                                    Gujarat                       105554\n",
       "8                                  Rajasthan                        61370\n",
       "9                                     Kerala                        56098\n",
       "10                                   Haryana                        51039\n",
       "11                            Madhya Pradesh                        41318\n",
       "12                                     Bihar                        35920\n",
       "13                            Andhra Pradesh                        33050\n",
       "14                                    Punjab                        32440\n",
       "15                                    Odisha                        27023\n",
       "16                                 Jharkhand                        15078\n",
       "17                                Chandigarh                        15018\n",
       "18                                     Assam                        12078\n",
       "19                              Chhattisgarh                        10703\n",
       "20                                       Goa                         8942\n",
       "21                               Uttarakhand                         8924\n",
       "22                          Himachal Pradesh                         6591\n",
       "23                           Jammu & Kashmir                         5978\n",
       "24                                Puducherry                         3454\n",
       "25                                 Meghalaya                         1115\n",
       "26                                   Manipur                         1056\n",
       "27                                   Tripura                          645\n",
       "28                         Arunachal Pradesh                          629\n",
       "29                                  Nagaland                          620\n",
       "30  Dadra and Nagar Haveli and Daman and Diu                          947\n",
       "31               Andaman and Nicobar Islands                          480\n",
       "32                             Daman and Diu                          397\n",
       "33                                   Mizoram                          175\n",
       "34                               Lakshadweep                           18\n",
       "35                                    Sikkim                            2"
      ]
     },
     "execution_count": 47,
     "metadata": {},
     "output_type": "execute_result"
    }
   ],
   "source": [
    "companies_by_state_df"
   ]
  },
  {
   "cell_type": "markdown",
   "metadata": {
    "id": "vS263cFOT8wv"
   },
   "source": [
    "Now, let's drop the old row for Daman and Diu."
   ]
  },
  {
   "cell_type": "code",
   "execution_count": null,
   "metadata": {
    "id": "M7tDhmyaYgXp"
   },
   "outputs": [],
   "source": [
    "companies_by_state_df=companies_by_state_df.drop(32)"
   ]
  },
  {
   "cell_type": "markdown",
   "metadata": {
    "id": "G0uQgCYrUENo"
   },
   "source": [
    "As, Ladakh is the new territory. Let's update it in the dataframe."
   ]
  },
  {
   "cell_type": "code",
   "execution_count": null,
   "metadata": {
    "id": "yO4C1-XRBDGj"
   },
   "outputs": [],
   "source": [
    "companies_by_state_df.loc[len(companies_by_state_df.index)]=['Ladakh',0]"
   ]
  },
  {
   "cell_type": "code",
   "execution_count": null,
   "metadata": {
    "id": "7lwVXL1sR8MV"
   },
   "outputs": [],
   "source": [
    "countries_geojson='https://gist.githubusercontent.com/sanuann/c4acae43dead7f21976c4fe2ef4dcceb/raw/c4a3d776a05a3f49ce05747f38c86ff4cd011ee0/states-in-india.geojson'"
   ]
  },
  {
   "cell_type": "markdown",
   "metadata": {
    "id": "gwueLRL-EOcq"
   },
   "source": [
    "We will use Choropleth_mapbox chart from Plotly library. To have the idea about this chart [check](https://plotly.com/python/mapbox-county-choropleth/) this. "
   ]
  },
  {
   "cell_type": "code",
   "execution_count": null,
   "metadata": {
    "colab": {
     "base_uri": "https://localhost:8080/",
     "height": 542
    },
    "executionInfo": {
     "elapsed": 1029,
     "status": "ok",
     "timestamp": 1664273749818,
     "user": {
      "displayName": "Kshama Singhal",
      "userId": "01290402449884306325"
     },
     "user_tz": -330
    },
    "id": "syU997SVAuP7",
    "outputId": "9415bad4-5174-4f0d-8e13-4cfca8bca679"
   },
   "outputs": [
    {
     "data": {
      "text/html": [
       "<html>\n",
       "<head><meta charset=\"utf-8\" /></head>\n",
       "<body>\n",
       "    <div>            <script src=\"https://cdnjs.cloudflare.com/ajax/libs/mathjax/2.7.5/MathJax.js?config=TeX-AMS-MML_SVG\"></script><script type=\"text/javascript\">if (window.MathJax && window.MathJax.Hub && window.MathJax.Hub.Config) {window.MathJax.Hub.Config({SVG: {font: \"STIX-Web\"}});}</script>                <script type=\"text/javascript\">window.PlotlyConfig = {MathJaxConfig: 'local'};</script>\n",
       "        <script src=\"https://cdn.plot.ly/plotly-2.14.0.min.js\"></script>                <div id=\"d81c454e-a533-4bdc-ac8c-51ccbd4c0b3d\" class=\"plotly-graph-div\" style=\"height:525px; width:100%;\"></div>            <script type=\"text/javascript\">                                    window.PLOTLYENV=window.PLOTLYENV || {};                                    if (document.getElementById(\"d81c454e-a533-4bdc-ac8c-51ccbd4c0b3d\")) {                    Plotly.newPlot(                        \"d81c454e-a533-4bdc-ac8c-51ccbd4c0b3d\",                        [{\"coloraxis\":\"coloraxis\",\"featureidkey\":\"properties.ST_NM\",\"geojson\":\"https://gist.githubusercontent.com/sanuann/c4acae43dead7f21976c4fe2ef4dcceb/raw/c4a3d776a05a3f49ce05747f38c86ff4cd011ee0/states-in-india.geojson\",\"hovertemplate\":\"State=%{location}<br>No. of Companies Registered=%{z}<extra></extra>\",\"locations\":[\"Maharashtra\",\"Delhi\",\"West Bengal\",\"Tamil Nadu\",\"Karnataka\",\"Uttar Pradesh\",\"Telangana\",\"Gujarat\",\"Rajasthan\",\"Kerala\",\"Haryana\",\"Madhya Pradesh\",\"Bihar\",\"Andhra Pradesh\",\"Punjab\",\"Odisha\",\"Jharkhand\",\"Chandigarh\",\"Assam\",\"Chhattisgarh\",\"Goa\",\"Uttarakhand\",\"Himachal Pradesh\",\"Jammu & Kashmir\",\"Puducherry\",\"Meghalaya\",\"Manipur\",\"Tripura\",\"Arunachal Pradesh\",\"Nagaland\",\"Dadra and Nagar Haveli and Daman and Diu\",\"Andaman and Nicobar Islands\",\"Mizoram\",\"Lakshadweep\",\"Ladakh\"],\"marker\":{\"opacity\":0.9},\"name\":\"\",\"subplot\":\"mapbox\",\"z\":[395282,348230,207005,150871,125779,116337,112401,105554,61370,56098,51039,41318,35920,33050,32440,27023,15078,15018,12078,10703,8942,8924,6591,5978,3454,1115,1056,645,629,620,947,480,175,18,0],\"type\":\"choroplethmapbox\"}],                        {\"template\":{\"data\":{\"histogram2dcontour\":[{\"type\":\"histogram2dcontour\",\"colorbar\":{\"outlinewidth\":0,\"ticks\":\"\"},\"colorscale\":[[0.0,\"#0d0887\"],[0.1111111111111111,\"#46039f\"],[0.2222222222222222,\"#7201a8\"],[0.3333333333333333,\"#9c179e\"],[0.4444444444444444,\"#bd3786\"],[0.5555555555555556,\"#d8576b\"],[0.6666666666666666,\"#ed7953\"],[0.7777777777777778,\"#fb9f3a\"],[0.8888888888888888,\"#fdca26\"],[1.0,\"#f0f921\"]]}],\"choropleth\":[{\"type\":\"choropleth\",\"colorbar\":{\"outlinewidth\":0,\"ticks\":\"\"}}],\"histogram2d\":[{\"type\":\"histogram2d\",\"colorbar\":{\"outlinewidth\":0,\"ticks\":\"\"},\"colorscale\":[[0.0,\"#0d0887\"],[0.1111111111111111,\"#46039f\"],[0.2222222222222222,\"#7201a8\"],[0.3333333333333333,\"#9c179e\"],[0.4444444444444444,\"#bd3786\"],[0.5555555555555556,\"#d8576b\"],[0.6666666666666666,\"#ed7953\"],[0.7777777777777778,\"#fb9f3a\"],[0.8888888888888888,\"#fdca26\"],[1.0,\"#f0f921\"]]}],\"heatmap\":[{\"type\":\"heatmap\",\"colorbar\":{\"outlinewidth\":0,\"ticks\":\"\"},\"colorscale\":[[0.0,\"#0d0887\"],[0.1111111111111111,\"#46039f\"],[0.2222222222222222,\"#7201a8\"],[0.3333333333333333,\"#9c179e\"],[0.4444444444444444,\"#bd3786\"],[0.5555555555555556,\"#d8576b\"],[0.6666666666666666,\"#ed7953\"],[0.7777777777777778,\"#fb9f3a\"],[0.8888888888888888,\"#fdca26\"],[1.0,\"#f0f921\"]]}],\"heatmapgl\":[{\"type\":\"heatmapgl\",\"colorbar\":{\"outlinewidth\":0,\"ticks\":\"\"},\"colorscale\":[[0.0,\"#0d0887\"],[0.1111111111111111,\"#46039f\"],[0.2222222222222222,\"#7201a8\"],[0.3333333333333333,\"#9c179e\"],[0.4444444444444444,\"#bd3786\"],[0.5555555555555556,\"#d8576b\"],[0.6666666666666666,\"#ed7953\"],[0.7777777777777778,\"#fb9f3a\"],[0.8888888888888888,\"#fdca26\"],[1.0,\"#f0f921\"]]}],\"contourcarpet\":[{\"type\":\"contourcarpet\",\"colorbar\":{\"outlinewidth\":0,\"ticks\":\"\"}}],\"contour\":[{\"type\":\"contour\",\"colorbar\":{\"outlinewidth\":0,\"ticks\":\"\"},\"colorscale\":[[0.0,\"#0d0887\"],[0.1111111111111111,\"#46039f\"],[0.2222222222222222,\"#7201a8\"],[0.3333333333333333,\"#9c179e\"],[0.4444444444444444,\"#bd3786\"],[0.5555555555555556,\"#d8576b\"],[0.6666666666666666,\"#ed7953\"],[0.7777777777777778,\"#fb9f3a\"],[0.8888888888888888,\"#fdca26\"],[1.0,\"#f0f921\"]]}],\"surface\":[{\"type\":\"surface\",\"colorbar\":{\"outlinewidth\":0,\"ticks\":\"\"},\"colorscale\":[[0.0,\"#0d0887\"],[0.1111111111111111,\"#46039f\"],[0.2222222222222222,\"#7201a8\"],[0.3333333333333333,\"#9c179e\"],[0.4444444444444444,\"#bd3786\"],[0.5555555555555556,\"#d8576b\"],[0.6666666666666666,\"#ed7953\"],[0.7777777777777778,\"#fb9f3a\"],[0.8888888888888888,\"#fdca26\"],[1.0,\"#f0f921\"]]}],\"mesh3d\":[{\"type\":\"mesh3d\",\"colorbar\":{\"outlinewidth\":0,\"ticks\":\"\"}}],\"scatter\":[{\"fillpattern\":{\"fillmode\":\"overlay\",\"size\":10,\"solidity\":0.2},\"type\":\"scatter\"}],\"parcoords\":[{\"type\":\"parcoords\",\"line\":{\"colorbar\":{\"outlinewidth\":0,\"ticks\":\"\"}}}],\"scatterpolargl\":[{\"type\":\"scatterpolargl\",\"marker\":{\"colorbar\":{\"outlinewidth\":0,\"ticks\":\"\"}}}],\"bar\":[{\"error_x\":{\"color\":\"#2a3f5f\"},\"error_y\":{\"color\":\"#2a3f5f\"},\"marker\":{\"line\":{\"color\":\"#E5ECF6\",\"width\":0.5},\"pattern\":{\"fillmode\":\"overlay\",\"size\":10,\"solidity\":0.2}},\"type\":\"bar\"}],\"scattergeo\":[{\"type\":\"scattergeo\",\"marker\":{\"colorbar\":{\"outlinewidth\":0,\"ticks\":\"\"}}}],\"scatterpolar\":[{\"type\":\"scatterpolar\",\"marker\":{\"colorbar\":{\"outlinewidth\":0,\"ticks\":\"\"}}}],\"histogram\":[{\"marker\":{\"pattern\":{\"fillmode\":\"overlay\",\"size\":10,\"solidity\":0.2}},\"type\":\"histogram\"}],\"scattergl\":[{\"type\":\"scattergl\",\"marker\":{\"colorbar\":{\"outlinewidth\":0,\"ticks\":\"\"}}}],\"scatter3d\":[{\"type\":\"scatter3d\",\"line\":{\"colorbar\":{\"outlinewidth\":0,\"ticks\":\"\"}},\"marker\":{\"colorbar\":{\"outlinewidth\":0,\"ticks\":\"\"}}}],\"scattermapbox\":[{\"type\":\"scattermapbox\",\"marker\":{\"colorbar\":{\"outlinewidth\":0,\"ticks\":\"\"}}}],\"scatterternary\":[{\"type\":\"scatterternary\",\"marker\":{\"colorbar\":{\"outlinewidth\":0,\"ticks\":\"\"}}}],\"scattercarpet\":[{\"type\":\"scattercarpet\",\"marker\":{\"colorbar\":{\"outlinewidth\":0,\"ticks\":\"\"}}}],\"carpet\":[{\"aaxis\":{\"endlinecolor\":\"#2a3f5f\",\"gridcolor\":\"white\",\"linecolor\":\"white\",\"minorgridcolor\":\"white\",\"startlinecolor\":\"#2a3f5f\"},\"baxis\":{\"endlinecolor\":\"#2a3f5f\",\"gridcolor\":\"white\",\"linecolor\":\"white\",\"minorgridcolor\":\"white\",\"startlinecolor\":\"#2a3f5f\"},\"type\":\"carpet\"}],\"table\":[{\"cells\":{\"fill\":{\"color\":\"#EBF0F8\"},\"line\":{\"color\":\"white\"}},\"header\":{\"fill\":{\"color\":\"#C8D4E3\"},\"line\":{\"color\":\"white\"}},\"type\":\"table\"}],\"barpolar\":[{\"marker\":{\"line\":{\"color\":\"#E5ECF6\",\"width\":0.5},\"pattern\":{\"fillmode\":\"overlay\",\"size\":10,\"solidity\":0.2}},\"type\":\"barpolar\"}],\"pie\":[{\"automargin\":true,\"type\":\"pie\"}]},\"layout\":{\"autotypenumbers\":\"strict\",\"colorway\":[\"#636efa\",\"#EF553B\",\"#00cc96\",\"#ab63fa\",\"#FFA15A\",\"#19d3f3\",\"#FF6692\",\"#B6E880\",\"#FF97FF\",\"#FECB52\"],\"font\":{\"color\":\"#2a3f5f\"},\"hovermode\":\"closest\",\"hoverlabel\":{\"align\":\"left\"},\"paper_bgcolor\":\"white\",\"plot_bgcolor\":\"#E5ECF6\",\"polar\":{\"bgcolor\":\"#E5ECF6\",\"angularaxis\":{\"gridcolor\":\"white\",\"linecolor\":\"white\",\"ticks\":\"\"},\"radialaxis\":{\"gridcolor\":\"white\",\"linecolor\":\"white\",\"ticks\":\"\"}},\"ternary\":{\"bgcolor\":\"#E5ECF6\",\"aaxis\":{\"gridcolor\":\"white\",\"linecolor\":\"white\",\"ticks\":\"\"},\"baxis\":{\"gridcolor\":\"white\",\"linecolor\":\"white\",\"ticks\":\"\"},\"caxis\":{\"gridcolor\":\"white\",\"linecolor\":\"white\",\"ticks\":\"\"}},\"coloraxis\":{\"colorbar\":{\"outlinewidth\":0,\"ticks\":\"\"}},\"colorscale\":{\"sequential\":[[0.0,\"#0d0887\"],[0.1111111111111111,\"#46039f\"],[0.2222222222222222,\"#7201a8\"],[0.3333333333333333,\"#9c179e\"],[0.4444444444444444,\"#bd3786\"],[0.5555555555555556,\"#d8576b\"],[0.6666666666666666,\"#ed7953\"],[0.7777777777777778,\"#fb9f3a\"],[0.8888888888888888,\"#fdca26\"],[1.0,\"#f0f921\"]],\"sequentialminus\":[[0.0,\"#0d0887\"],[0.1111111111111111,\"#46039f\"],[0.2222222222222222,\"#7201a8\"],[0.3333333333333333,\"#9c179e\"],[0.4444444444444444,\"#bd3786\"],[0.5555555555555556,\"#d8576b\"],[0.6666666666666666,\"#ed7953\"],[0.7777777777777778,\"#fb9f3a\"],[0.8888888888888888,\"#fdca26\"],[1.0,\"#f0f921\"]],\"diverging\":[[0,\"#8e0152\"],[0.1,\"#c51b7d\"],[0.2,\"#de77ae\"],[0.3,\"#f1b6da\"],[0.4,\"#fde0ef\"],[0.5,\"#f7f7f7\"],[0.6,\"#e6f5d0\"],[0.7,\"#b8e186\"],[0.8,\"#7fbc41\"],[0.9,\"#4d9221\"],[1,\"#276419\"]]},\"xaxis\":{\"gridcolor\":\"white\",\"linecolor\":\"white\",\"ticks\":\"\",\"title\":{\"standoff\":15},\"zerolinecolor\":\"white\",\"automargin\":true,\"zerolinewidth\":2},\"yaxis\":{\"gridcolor\":\"white\",\"linecolor\":\"white\",\"ticks\":\"\",\"title\":{\"standoff\":15},\"zerolinecolor\":\"white\",\"automargin\":true,\"zerolinewidth\":2},\"scene\":{\"xaxis\":{\"backgroundcolor\":\"#E5ECF6\",\"gridcolor\":\"white\",\"linecolor\":\"white\",\"showbackground\":true,\"ticks\":\"\",\"zerolinecolor\":\"white\",\"gridwidth\":2},\"yaxis\":{\"backgroundcolor\":\"#E5ECF6\",\"gridcolor\":\"white\",\"linecolor\":\"white\",\"showbackground\":true,\"ticks\":\"\",\"zerolinecolor\":\"white\",\"gridwidth\":2},\"zaxis\":{\"backgroundcolor\":\"#E5ECF6\",\"gridcolor\":\"white\",\"linecolor\":\"white\",\"showbackground\":true,\"ticks\":\"\",\"zerolinecolor\":\"white\",\"gridwidth\":2}},\"shapedefaults\":{\"line\":{\"color\":\"#2a3f5f\"}},\"annotationdefaults\":{\"arrowcolor\":\"#2a3f5f\",\"arrowhead\":0,\"arrowwidth\":1},\"geo\":{\"bgcolor\":\"white\",\"landcolor\":\"#E5ECF6\",\"subunitcolor\":\"white\",\"showland\":true,\"showlakes\":true,\"lakecolor\":\"white\"},\"title\":{\"x\":0.05},\"mapbox\":{\"style\":\"light\"}}},\"mapbox\":{\"domain\":{\"x\":[0.0,1.0],\"y\":[0.0,1.0]},\"center\":{\"lat\":23.473324,\"lon\":78.9629},\"zoom\":3.4,\"style\":\"carto-positron\"},\"coloraxis\":{\"colorbar\":{\"title\":{\"text\":\"No. of Companies Registered\"}},\"colorscale\":[[0.0,\"#440154\"],[0.1111111111111111,\"#482878\"],[0.2222222222222222,\"#3e4989\"],[0.3333333333333333,\"#31688e\"],[0.4444444444444444,\"#26828e\"],[0.5555555555555556,\"#1f9e89\"],[0.6666666666666666,\"#35b779\"],[0.7777777777777778,\"#6ece58\"],[0.8888888888888888,\"#b5de2b\"],[1.0,\"#fde725\"]]},\"legend\":{\"tracegroupgap\":0},\"title\":{\"text\":\"Statewise No. of Companies Registered\"},\"margin\":{\"r\":0,\"t\":0,\"l\":0,\"b\":0}},                        {\"responsive\": true}                    ).then(function(){\n",
       "                            \n",
       "var gd = document.getElementById('d81c454e-a533-4bdc-ac8c-51ccbd4c0b3d');\n",
       "var x = new MutationObserver(function (mutations, observer) {{\n",
       "        var display = window.getComputedStyle(gd).display;\n",
       "        if (!display || display === 'none') {{\n",
       "            console.log([gd, 'removed!']);\n",
       "            Plotly.purge(gd);\n",
       "            observer.disconnect();\n",
       "        }}\n",
       "}});\n",
       "\n",
       "// Listen for the removal of the full notebook cells\n",
       "var notebookContainer = gd.closest('#notebook-container');\n",
       "if (notebookContainer) {{\n",
       "    x.observe(notebookContainer, {childList: true});\n",
       "}}\n",
       "\n",
       "// Listen for the clearing of the current output cell\n",
       "var outputEl = gd.closest('.output');\n",
       "if (outputEl) {{\n",
       "    x.observe(outputEl, {childList: true});\n",
       "}}\n",
       "\n",
       "                        })                };                            </script>        </div>\n",
       "</body>\n",
       "</html>"
      ]
     },
     "metadata": {},
     "output_type": "display_data"
    }
   ],
   "source": [
    "fig = px.choropleth_mapbox(companies_by_state_df, geojson=countries_geojson, \n",
    "                                           locations='State', color='No. of Companies Registered',\n",
    "                                           color_continuous_scale=\"Viridis\",\n",
    "                                           featureidkey=\"properties.ST_NM\",zoom=3.4,\n",
    "                                           center = {\"lat\": 23.473324, \"lon\": 78.9629},\n",
    "                           mapbox_style=\"carto-positron\", opacity=0.9,\n",
    "                           title=\"Statewise No. of Companies Registered\")\n",
    "fig.update_layout(margin={\"r\":0,\"t\":0,\"l\":0,\"b\":0})\n",
    "fig.show()"
   ]
  },
  {
   "cell_type": "markdown",
   "metadata": {
    "id": "OR2qyBYeEoo8"
   },
   "source": [
    "Hence, Maharashtra has the highest number of companies registered (395.282k) followed by Delhi (348.230k), West Bengal (207.007k), Tamil Nadu (150.871k), Karnataka (125.779k)."
   ]
  },
  {
   "cell_type": "markdown",
   "metadata": {
    "id": "Ojrjo0sUItnY"
   },
   "source": [
    "#### 2. Which are the top 5 registered principal business activities?"
   ]
  },
  {
   "cell_type": "markdown",
   "metadata": {
    "id": "jq0SK8E-aL2H"
   },
   "source": [
    "First, we will convert companies_business_activity series to dataframe and change the column names."
   ]
  },
  {
   "cell_type": "code",
   "execution_count": null,
   "metadata": {
    "id": "dVplKVpttKZo"
   },
   "outputs": [],
   "source": [
    "companies_business_activity_df=companies_business_activity.to_frame().reset_index().rename(columns={'index':'Business_Activity','PRINCIPAL_BUSINESS_ACTIVITY_AS_PER_CIN':'No. of Companies'})"
   ]
  },
  {
   "cell_type": "markdown",
   "metadata": {
    "id": "LnYrb9Y6anro"
   },
   "source": [
    "Let's visualize the data using pie chart from Plotly library. To intract more with the chart hover over the chart."
   ]
  },
  {
   "cell_type": "code",
   "execution_count": null,
   "metadata": {
    "colab": {
     "base_uri": "https://localhost:8080/",
     "height": 542
    },
    "executionInfo": {
     "elapsed": 410,
     "status": "ok",
     "timestamp": 1664268127774,
     "user": {
      "displayName": "Kshama Singhal",
      "userId": "01290402449884306325"
     },
     "user_tz": -330
    },
    "id": "vga2dPMptz2U",
    "outputId": "845dd149-ce9f-4876-f762-7b1faf3c42e5"
   },
   "outputs": [
    {
     "data": {
      "text/html": [
       "<html>\n",
       "<head><meta charset=\"utf-8\" /></head>\n",
       "<body>\n",
       "    <div>            <script src=\"https://cdnjs.cloudflare.com/ajax/libs/mathjax/2.7.5/MathJax.js?config=TeX-AMS-MML_SVG\"></script><script type=\"text/javascript\">if (window.MathJax && window.MathJax.Hub && window.MathJax.Hub.Config) {window.MathJax.Hub.Config({SVG: {font: \"STIX-Web\"}});}</script>                <script type=\"text/javascript\">window.PlotlyConfig = {MathJaxConfig: 'local'};</script>\n",
       "        <script src=\"https://cdn.plot.ly/plotly-2.14.0.min.js\"></script>                <div id=\"618f2c57-4f4a-46e8-8133-7e23d101bdd0\" class=\"plotly-graph-div\" style=\"height:525px; width:100%;\"></div>            <script type=\"text/javascript\">                                    window.PLOTLYENV=window.PLOTLYENV || {};                                    if (document.getElementById(\"618f2c57-4f4a-46e8-8133-7e23d101bdd0\")) {                    Plotly.newPlot(                        \"618f2c57-4f4a-46e8-8133-7e23d101bdd0\",                        [{\"domain\":{\"x\":[0.0,1.0],\"y\":[0.0,1.0]},\"hole\":0.4,\"hovertemplate\":\"Business_Activity=%{label}<br>No. of Companies=%{value}<extra></extra>\",\"labels\":[\"Real estate renting and business activities\",\"Manufacturing\",\"Wholesale and retail trade repair of motor vehicles motorcycles and personal and household goods\",\"Construction\",\"Financial intermediation\",\"Agriculture & allied\",\"Transport storage and communications\",\"Other community social and personal service activities\",\"Extraterritorial organizations and bodies\",\"Hotels and restaurants\",\"Health and social work\",\"Education\",\"Electricity gas and water supply\",\"Mining and quarrying\",\"Public administration and defence compulsory social security\",\"Unclassified\",\"Activities of private households as employers and undifferentiated production activities of private households\"],\"legendgroup\":\"\",\"name\":\"\",\"showlegend\":true,\"values\":[679955,410402,227333,162125,120714,82572,63738,59282,39897,38518,34489,28532,22258,20310,850,787,396],\"type\":\"pie\",\"textposition\":\"inside\"}],                        {\"template\":{\"data\":{\"histogram2dcontour\":[{\"type\":\"histogram2dcontour\",\"colorbar\":{\"outlinewidth\":0,\"ticks\":\"\"},\"colorscale\":[[0.0,\"#0d0887\"],[0.1111111111111111,\"#46039f\"],[0.2222222222222222,\"#7201a8\"],[0.3333333333333333,\"#9c179e\"],[0.4444444444444444,\"#bd3786\"],[0.5555555555555556,\"#d8576b\"],[0.6666666666666666,\"#ed7953\"],[0.7777777777777778,\"#fb9f3a\"],[0.8888888888888888,\"#fdca26\"],[1.0,\"#f0f921\"]]}],\"choropleth\":[{\"type\":\"choropleth\",\"colorbar\":{\"outlinewidth\":0,\"ticks\":\"\"}}],\"histogram2d\":[{\"type\":\"histogram2d\",\"colorbar\":{\"outlinewidth\":0,\"ticks\":\"\"},\"colorscale\":[[0.0,\"#0d0887\"],[0.1111111111111111,\"#46039f\"],[0.2222222222222222,\"#7201a8\"],[0.3333333333333333,\"#9c179e\"],[0.4444444444444444,\"#bd3786\"],[0.5555555555555556,\"#d8576b\"],[0.6666666666666666,\"#ed7953\"],[0.7777777777777778,\"#fb9f3a\"],[0.8888888888888888,\"#fdca26\"],[1.0,\"#f0f921\"]]}],\"heatmap\":[{\"type\":\"heatmap\",\"colorbar\":{\"outlinewidth\":0,\"ticks\":\"\"},\"colorscale\":[[0.0,\"#0d0887\"],[0.1111111111111111,\"#46039f\"],[0.2222222222222222,\"#7201a8\"],[0.3333333333333333,\"#9c179e\"],[0.4444444444444444,\"#bd3786\"],[0.5555555555555556,\"#d8576b\"],[0.6666666666666666,\"#ed7953\"],[0.7777777777777778,\"#fb9f3a\"],[0.8888888888888888,\"#fdca26\"],[1.0,\"#f0f921\"]]}],\"heatmapgl\":[{\"type\":\"heatmapgl\",\"colorbar\":{\"outlinewidth\":0,\"ticks\":\"\"},\"colorscale\":[[0.0,\"#0d0887\"],[0.1111111111111111,\"#46039f\"],[0.2222222222222222,\"#7201a8\"],[0.3333333333333333,\"#9c179e\"],[0.4444444444444444,\"#bd3786\"],[0.5555555555555556,\"#d8576b\"],[0.6666666666666666,\"#ed7953\"],[0.7777777777777778,\"#fb9f3a\"],[0.8888888888888888,\"#fdca26\"],[1.0,\"#f0f921\"]]}],\"contourcarpet\":[{\"type\":\"contourcarpet\",\"colorbar\":{\"outlinewidth\":0,\"ticks\":\"\"}}],\"contour\":[{\"type\":\"contour\",\"colorbar\":{\"outlinewidth\":0,\"ticks\":\"\"},\"colorscale\":[[0.0,\"#0d0887\"],[0.1111111111111111,\"#46039f\"],[0.2222222222222222,\"#7201a8\"],[0.3333333333333333,\"#9c179e\"],[0.4444444444444444,\"#bd3786\"],[0.5555555555555556,\"#d8576b\"],[0.6666666666666666,\"#ed7953\"],[0.7777777777777778,\"#fb9f3a\"],[0.8888888888888888,\"#fdca26\"],[1.0,\"#f0f921\"]]}],\"surface\":[{\"type\":\"surface\",\"colorbar\":{\"outlinewidth\":0,\"ticks\":\"\"},\"colorscale\":[[0.0,\"#0d0887\"],[0.1111111111111111,\"#46039f\"],[0.2222222222222222,\"#7201a8\"],[0.3333333333333333,\"#9c179e\"],[0.4444444444444444,\"#bd3786\"],[0.5555555555555556,\"#d8576b\"],[0.6666666666666666,\"#ed7953\"],[0.7777777777777778,\"#fb9f3a\"],[0.8888888888888888,\"#fdca26\"],[1.0,\"#f0f921\"]]}],\"mesh3d\":[{\"type\":\"mesh3d\",\"colorbar\":{\"outlinewidth\":0,\"ticks\":\"\"}}],\"scatter\":[{\"fillpattern\":{\"fillmode\":\"overlay\",\"size\":10,\"solidity\":0.2},\"type\":\"scatter\"}],\"parcoords\":[{\"type\":\"parcoords\",\"line\":{\"colorbar\":{\"outlinewidth\":0,\"ticks\":\"\"}}}],\"scatterpolargl\":[{\"type\":\"scatterpolargl\",\"marker\":{\"colorbar\":{\"outlinewidth\":0,\"ticks\":\"\"}}}],\"bar\":[{\"error_x\":{\"color\":\"#2a3f5f\"},\"error_y\":{\"color\":\"#2a3f5f\"},\"marker\":{\"line\":{\"color\":\"#E5ECF6\",\"width\":0.5},\"pattern\":{\"fillmode\":\"overlay\",\"size\":10,\"solidity\":0.2}},\"type\":\"bar\"}],\"scattergeo\":[{\"type\":\"scattergeo\",\"marker\":{\"colorbar\":{\"outlinewidth\":0,\"ticks\":\"\"}}}],\"scatterpolar\":[{\"type\":\"scatterpolar\",\"marker\":{\"colorbar\":{\"outlinewidth\":0,\"ticks\":\"\"}}}],\"histogram\":[{\"marker\":{\"pattern\":{\"fillmode\":\"overlay\",\"size\":10,\"solidity\":0.2}},\"type\":\"histogram\"}],\"scattergl\":[{\"type\":\"scattergl\",\"marker\":{\"colorbar\":{\"outlinewidth\":0,\"ticks\":\"\"}}}],\"scatter3d\":[{\"type\":\"scatter3d\",\"line\":{\"colorbar\":{\"outlinewidth\":0,\"ticks\":\"\"}},\"marker\":{\"colorbar\":{\"outlinewidth\":0,\"ticks\":\"\"}}}],\"scattermapbox\":[{\"type\":\"scattermapbox\",\"marker\":{\"colorbar\":{\"outlinewidth\":0,\"ticks\":\"\"}}}],\"scatterternary\":[{\"type\":\"scatterternary\",\"marker\":{\"colorbar\":{\"outlinewidth\":0,\"ticks\":\"\"}}}],\"scattercarpet\":[{\"type\":\"scattercarpet\",\"marker\":{\"colorbar\":{\"outlinewidth\":0,\"ticks\":\"\"}}}],\"carpet\":[{\"aaxis\":{\"endlinecolor\":\"#2a3f5f\",\"gridcolor\":\"white\",\"linecolor\":\"white\",\"minorgridcolor\":\"white\",\"startlinecolor\":\"#2a3f5f\"},\"baxis\":{\"endlinecolor\":\"#2a3f5f\",\"gridcolor\":\"white\",\"linecolor\":\"white\",\"minorgridcolor\":\"white\",\"startlinecolor\":\"#2a3f5f\"},\"type\":\"carpet\"}],\"table\":[{\"cells\":{\"fill\":{\"color\":\"#EBF0F8\"},\"line\":{\"color\":\"white\"}},\"header\":{\"fill\":{\"color\":\"#C8D4E3\"},\"line\":{\"color\":\"white\"}},\"type\":\"table\"}],\"barpolar\":[{\"marker\":{\"line\":{\"color\":\"#E5ECF6\",\"width\":0.5},\"pattern\":{\"fillmode\":\"overlay\",\"size\":10,\"solidity\":0.2}},\"type\":\"barpolar\"}],\"pie\":[{\"automargin\":true,\"type\":\"pie\"}]},\"layout\":{\"autotypenumbers\":\"strict\",\"colorway\":[\"#636efa\",\"#EF553B\",\"#00cc96\",\"#ab63fa\",\"#FFA15A\",\"#19d3f3\",\"#FF6692\",\"#B6E880\",\"#FF97FF\",\"#FECB52\"],\"font\":{\"color\":\"#2a3f5f\"},\"hovermode\":\"closest\",\"hoverlabel\":{\"align\":\"left\"},\"paper_bgcolor\":\"white\",\"plot_bgcolor\":\"#E5ECF6\",\"polar\":{\"bgcolor\":\"#E5ECF6\",\"angularaxis\":{\"gridcolor\":\"white\",\"linecolor\":\"white\",\"ticks\":\"\"},\"radialaxis\":{\"gridcolor\":\"white\",\"linecolor\":\"white\",\"ticks\":\"\"}},\"ternary\":{\"bgcolor\":\"#E5ECF6\",\"aaxis\":{\"gridcolor\":\"white\",\"linecolor\":\"white\",\"ticks\":\"\"},\"baxis\":{\"gridcolor\":\"white\",\"linecolor\":\"white\",\"ticks\":\"\"},\"caxis\":{\"gridcolor\":\"white\",\"linecolor\":\"white\",\"ticks\":\"\"}},\"coloraxis\":{\"colorbar\":{\"outlinewidth\":0,\"ticks\":\"\"}},\"colorscale\":{\"sequential\":[[0.0,\"#0d0887\"],[0.1111111111111111,\"#46039f\"],[0.2222222222222222,\"#7201a8\"],[0.3333333333333333,\"#9c179e\"],[0.4444444444444444,\"#bd3786\"],[0.5555555555555556,\"#d8576b\"],[0.6666666666666666,\"#ed7953\"],[0.7777777777777778,\"#fb9f3a\"],[0.8888888888888888,\"#fdca26\"],[1.0,\"#f0f921\"]],\"sequentialminus\":[[0.0,\"#0d0887\"],[0.1111111111111111,\"#46039f\"],[0.2222222222222222,\"#7201a8\"],[0.3333333333333333,\"#9c179e\"],[0.4444444444444444,\"#bd3786\"],[0.5555555555555556,\"#d8576b\"],[0.6666666666666666,\"#ed7953\"],[0.7777777777777778,\"#fb9f3a\"],[0.8888888888888888,\"#fdca26\"],[1.0,\"#f0f921\"]],\"diverging\":[[0,\"#8e0152\"],[0.1,\"#c51b7d\"],[0.2,\"#de77ae\"],[0.3,\"#f1b6da\"],[0.4,\"#fde0ef\"],[0.5,\"#f7f7f7\"],[0.6,\"#e6f5d0\"],[0.7,\"#b8e186\"],[0.8,\"#7fbc41\"],[0.9,\"#4d9221\"],[1,\"#276419\"]]},\"xaxis\":{\"gridcolor\":\"white\",\"linecolor\":\"white\",\"ticks\":\"\",\"title\":{\"standoff\":15},\"zerolinecolor\":\"white\",\"automargin\":true,\"zerolinewidth\":2},\"yaxis\":{\"gridcolor\":\"white\",\"linecolor\":\"white\",\"ticks\":\"\",\"title\":{\"standoff\":15},\"zerolinecolor\":\"white\",\"automargin\":true,\"zerolinewidth\":2},\"scene\":{\"xaxis\":{\"backgroundcolor\":\"#E5ECF6\",\"gridcolor\":\"white\",\"linecolor\":\"white\",\"showbackground\":true,\"ticks\":\"\",\"zerolinecolor\":\"white\",\"gridwidth\":2},\"yaxis\":{\"backgroundcolor\":\"#E5ECF6\",\"gridcolor\":\"white\",\"linecolor\":\"white\",\"showbackground\":true,\"ticks\":\"\",\"zerolinecolor\":\"white\",\"gridwidth\":2},\"zaxis\":{\"backgroundcolor\":\"#E5ECF6\",\"gridcolor\":\"white\",\"linecolor\":\"white\",\"showbackground\":true,\"ticks\":\"\",\"zerolinecolor\":\"white\",\"gridwidth\":2}},\"shapedefaults\":{\"line\":{\"color\":\"#2a3f5f\"}},\"annotationdefaults\":{\"arrowcolor\":\"#2a3f5f\",\"arrowhead\":0,\"arrowwidth\":1},\"geo\":{\"bgcolor\":\"white\",\"landcolor\":\"#E5ECF6\",\"subunitcolor\":\"white\",\"showland\":true,\"showlakes\":true,\"lakecolor\":\"white\"},\"title\":{\"x\":0.05},\"mapbox\":{\"style\":\"light\"}}},\"legend\":{\"tracegroupgap\":0},\"title\":{\"text\":\"Principal Business Activity (Hover over the chart to get more information)\"},\"piecolorway\":[\"#0d0887\",\"#46039f\",\"#7201a8\",\"#9c179e\",\"#bd3786\",\"#d8576b\",\"#ed7953\",\"#fb9f3a\",\"#fdca26\",\"#f0f921\"],\"showlegend\":false},                        {\"responsive\": true}                    ).then(function(){\n",
       "                            \n",
       "var gd = document.getElementById('618f2c57-4f4a-46e8-8133-7e23d101bdd0');\n",
       "var x = new MutationObserver(function (mutations, observer) {{\n",
       "        var display = window.getComputedStyle(gd).display;\n",
       "        if (!display || display === 'none') {{\n",
       "            console.log([gd, 'removed!']);\n",
       "            Plotly.purge(gd);\n",
       "            observer.disconnect();\n",
       "        }}\n",
       "}});\n",
       "\n",
       "// Listen for the removal of the full notebook cells\n",
       "var notebookContainer = gd.closest('#notebook-container');\n",
       "if (notebookContainer) {{\n",
       "    x.observe(notebookContainer, {childList: true});\n",
       "}}\n",
       "\n",
       "// Listen for the clearing of the current output cell\n",
       "var outputEl = gd.closest('.output');\n",
       "if (outputEl) {{\n",
       "    x.observe(outputEl, {childList: true});\n",
       "}}\n",
       "\n",
       "                        })                };                            </script>        </div>\n",
       "</body>\n",
       "</html>"
      ]
     },
     "metadata": {},
     "output_type": "display_data"
    }
   ],
   "source": [
    "fig=px.pie(companies_business_activity_df,names = 'Business_Activity',values = 'No. of Companies',\n",
    "           color_discrete_sequence=px.colors.sequential.Plasma,hole=0.4,title='Principal Business Activity (Hover over the chart to get more information)'\n",
    "       )\n",
    "fig.update_traces(textposition='inside')\n",
    "fig.update_layout(showlegend=False)\n",
    "fig"
   ]
  },
  {
   "cell_type": "markdown",
   "metadata": {
    "id": "puVoZ4MIau8y"
   },
   "source": [
    "Hence, it is clear from the above chart that 34.1% is highest percentage.\n",
    "The top principal business activity is Real estate renting and business activities (679,955) followed by Manufacturing (410,402), Wholesale and retail trade repair of motor vechicles motorcycles and personal household goods (227,333), Construction (162,125), Fincancial intermediation (120,714)."
   ]
  },
  {
   "cell_type": "markdown",
   "metadata": {
    "id": "WEtq9A6LIgbN"
   },
   "source": [
    "#### 3. What is the trend of companies registered as per principal business activity year over year?"
   ]
  },
  {
   "cell_type": "markdown",
   "metadata": {
    "id": "KZHY47AZHSZQ"
   },
   "source": [
    "To answer this question, we are going to seaborn library and its histogram plot."
   ]
  },
  {
   "cell_type": "code",
   "execution_count": null,
   "metadata": {
    "colab": {
     "base_uri": "https://localhost:8080/",
     "height": 498
    },
    "executionInfo": {
     "elapsed": 36528,
     "status": "ok",
     "timestamp": 1664268213845,
     "user": {
      "displayName": "Kshama Singhal",
      "userId": "01290402449884306325"
     },
     "user_tz": -330
    },
    "id": "pb7ieI2z5Qvc",
    "outputId": "bf19f253-c452-486e-ddf9-c74bde066aca"
   },
   "outputs": [
    {
     "data": {
      "image/png": "[encoded data removed]",
      "text/plain": [
       "<Figure size 1080x576 with 1 Axes>"
      ]
     },
     "metadata": {
      "needs_background": "light"
     },
     "output_type": "display_data"
    }
   ],
   "source": [
    "plt.figure(figsize=(15,8))\n",
    "\n",
    "sns.histplot(data=df,x=df.DATE_OF_REGISTRATION.dt.year,hue='PRINCIPAL_BUSINESS_ACTIVITY_AS_PER_CIN')\n",
    "plt.show()"
   ]
  },
  {
   "cell_type": "markdown",
   "metadata": {
    "id": "MplOFXOccNvO"
   },
   "source": [
    "There is almost exponential trend in the number of registration. It is clearly visible from the chart that the number of registraion is drastically increasing for Education sector between 2000 to 2019."
   ]
  },
  {
   "cell_type": "markdown",
   "metadata": {
    "id": "5YH0ZMMMxTrn"
   },
   "source": [
    "`Insights`:\n",
    "* There is drastic decrease in number of companies registration from 2019 to 2020 but the number of companies registration is higher in Education sector. As the demand for online classes had increased due to covid-19, this could be the reason for the same. "
   ]
  },
  {
   "cell_type": "markdown",
   "metadata": {
    "id": "RmGY73MuITPY"
   },
   "source": [
    "#### 4. What is the status of most of the companies currently (2020) having highest paidup capital? Which are the top 5 states having highest number of active companies? "
   ]
  },
  {
   "cell_type": "markdown",
   "metadata": {
    "id": "WDXvCfUgfjlW"
   },
   "source": [
    "Let's first add one more column in the data with the name `COUNTRY` to make our sunburst map more clear and effective."
   ]
  },
  {
   "cell_type": "code",
   "execution_count": null,
   "metadata": {
    "id": "Am0ec1Mvtu8c"
   },
   "outputs": [],
   "source": [
    "df['COUNTRY']='India'"
   ]
  },
  {
   "cell_type": "code",
   "execution_count": null,
   "metadata": {
    "id": "UzOC9qRh7bn_"
   },
   "outputs": [],
   "source": [
    "new_df=df.copy()"
   ]
  },
  {
   "cell_type": "markdown",
   "metadata": {
    "id": "AalflxrGfzx4"
   },
   "source": [
    "Let's create a dictionary to map company status's codes with company's status."
   ]
  },
  {
   "cell_type": "code",
   "execution_count": null,
   "metadata": {
    "id": "HTvm9wn5yb9y"
   },
   "outputs": [],
   "source": [
    "status_description={\n",
    "    'ACTV':'Active',\n",
    "    'NAEF':'Not available for e-filing',\n",
    "    'ULQD':'Under liquidation',\n",
    "'AMAL':'Amalgamated',\n",
    "'STOF':'Strike off',\n",
    "'DISD':'Dissolved',\n",
    "'CLLD':'Converted to LLP and Dissolved',\n",
    "'UPSO':'Under process of Striking Off',\n",
    "'CLLP':'Converted to LLP',\n",
    "'LIQD':'Liquidated',\n",
    "'DRMT':'Dormant',\n",
    "'MLIQ':'Vanished',\n",
    "'D455':'Dormant under section 455'\n",
    "}"
   ]
  },
  {
   "cell_type": "code",
   "execution_count": null,
   "metadata": {
    "id": "wYgzMd6r0DkZ"
   },
   "outputs": [],
   "source": [
    "new_df.COMPANY_STATUS=new_df.COMPANY_STATUS.replace(status_description)"
   ]
  },
  {
   "cell_type": "markdown",
   "metadata": {
    "id": "Xzuq6uZAgH81"
   },
   "source": [
    "To get more visualization, we will use sunburst chart. Hover over the chart to get information from the chart. Click on any status to get more insights and then do click on it to get original visualization. "
   ]
  },
  {
   "cell_type": "code",
   "execution_count": null,
   "metadata": {
    "colab": {
     "base_uri": "https://localhost:8080/",
     "height": 542
    },
    "executionInfo": {
     "elapsed": 34324,
     "status": "ok",
     "timestamp": 1664268278836,
     "user": {
      "displayName": "Kshama Singhal",
      "userId": "01290402449884306325"
     },
     "user_tz": -330
    },
    "id": "vIeiBe6Vtk1h",
    "outputId": "73a2dccc-868b-4ea5-9123-7df3b3087866"
   },
   "outputs": [
    {
     "data": {
      "text/html": [
       "<html>\n",
       "<head><meta charset=\"utf-8\" /></head>\n",
       "<body>\n",
       "    <div>            <script src=\"https://cdnjs.cloudflare.com/ajax/libs/mathjax/2.7.5/MathJax.js?config=TeX-AMS-MML_SVG\"></script><script type=\"text/javascript\">if (window.MathJax && window.MathJax.Hub && window.MathJax.Hub.Config) {window.MathJax.Hub.Config({SVG: {font: \"STIX-Web\"}});}</script>                <script type=\"text/javascript\">window.PlotlyConfig = {MathJaxConfig: 'local'};</script>\n",
       "        <script src=\"https://cdn.plot.ly/plotly-2.14.0.min.js\"></script>                <div id=\"5707dbcf-5eb4-4789-b1ba-aafb99f8a63b\" class=\"plotly-graph-div\" style=\"height:525px; width:100%;\"></div>            <script type=\"text/javascript\">                                    window.PLOTLYENV=window.PLOTLYENV || {};                                    if (document.getElementById(\"5707dbcf-5eb4-4789-b1ba-aafb99f8a63b\")) {                    Plotly.newPlot(                        \"5707dbcf-5eb4-4789-b1ba-aafb99f8a63b\",                        [{\"branchvalues\":\"total\",\"domain\":{\"x\":[0.0,1.0],\"y\":[0.0,1.0]},\"hovertemplate\":\"labels=%{label}<br>PAIDUP_CAPITAL=%{value}<br>parent=%{parent}<br>id=%{id}<extra></extra>\",\"ids\":[\"India/Active/Andaman and Nicobar Islands\",\"India/Dormant under section 455/Andaman and Nicobar Islands\",\"India/Strike off/Andaman and Nicobar Islands\",\"India/Under process of Striking Off/Andaman and Nicobar Islands\",\"India/Active/Andhra Pradesh\",\"India/Amalgamated/Andhra Pradesh\",\"India/Converted to LLP/Andhra Pradesh\",\"India/Converted to LLP and Dissolved/Andhra Pradesh\",\"India/Dissolved/Andhra Pradesh\",\"India/Dormant under section 455/Andhra Pradesh\",\"India/Liquidated/Andhra Pradesh\",\"India/Not available for e-filing/Andhra Pradesh\",\"India/Strike off/Andhra Pradesh\",\"India/Under liquidation/Andhra Pradesh\",\"India/Under process of Striking Off/Andhra Pradesh\",\"India/Vanished/Andhra Pradesh\",\"India/Active/Arunachal Pradesh\",\"India/Converted to LLP/Arunachal Pradesh\",\"India/Converted to LLP and Dissolved/Arunachal Pradesh\",\"India/Not available for e-filing/Arunachal Pradesh\",\"India/Strike off/Arunachal Pradesh\",\"India/Under liquidation/Arunachal Pradesh\",\"India/Under process of Striking Off/Arunachal Pradesh\",\"India/Active/Assam\",\"India/Amalgamated/Assam\",\"India/Converted to LLP/Assam\",\"India/Converted to LLP and Dissolved/Assam\",\"India/Dissolved/Assam\",\"India/Dormant under section 455/Assam\",\"India/Liquidated/Assam\",\"India/Not available for e-filing/Assam\",\"India/Strike off/Assam\",\"India/Under liquidation/Assam\",\"India/Under process of Striking Off/Assam\",\"India/Active/Bihar\",\"India/Amalgamated/Bihar\",\"India/Converted to LLP/Bihar\",\"India/Converted to LLP and Dissolved/Bihar\",\"India/Dissolved/Bihar\",\"India/Dormant under section 455/Bihar\",\"India/Liquidated/Bihar\",\"India/Not available for e-filing/Bihar\",\"India/Strike off/Bihar\",\"India/Under liquidation/Bihar\",\"India/Under process of Striking Off/Bihar\",\"India/Active/Chandigarh\",\"India/Amalgamated/Chandigarh\",\"India/Converted to LLP/Chandigarh\",\"India/Converted to LLP and Dissolved/Chandigarh\",\"India/Dissolved/Chandigarh\",\"India/Dormant under section 455/Chandigarh\",\"India/Not available for e-filing/Chandigarh\",\"India/Strike off/Chandigarh\",\"India/Under liquidation/Chandigarh\",\"India/Under process of Striking Off/Chandigarh\",\"India/Active/Chattisgarh\",\"India/Amalgamated/Chattisgarh\",\"India/Converted to LLP/Chattisgarh\",\"India/Converted to LLP and Dissolved/Chattisgarh\",\"India/Dissolved/Chattisgarh\",\"India/Dormant under section 455/Chattisgarh\",\"India/Not available for e-filing/Chattisgarh\",\"India/Strike off/Chattisgarh\",\"India/Under liquidation/Chattisgarh\",\"India/Under process of Striking Off/Chattisgarh\",\"India/Active/Dadra and Nagra Haveli\",\"India/Amalgamated/Dadra and Nagra Haveli\",\"India/Converted to LLP/Dadra and Nagra Haveli\",\"India/Converted to LLP and Dissolved/Dadra and Nagra Haveli\",\"India/Not available for e-filing/Dadra and Nagra Haveli\",\"India/Strike off/Dadra and Nagra Haveli\",\"India/Under process of Striking Off/Dadra and Nagra Haveli\",\"India/Active/Daman and Diu\",\"India/Amalgamated/Daman and Diu\",\"India/Converted to LLP/Daman and Diu\",\"India/Converted to LLP and Dissolved/Daman and Diu\",\"India/Dissolved/Daman and Diu\",\"India/Liquidated/Daman and Diu\",\"India/Not available for e-filing/Daman and Diu\",\"India/Strike off/Daman and Diu\",\"India/Under liquidation/Daman and Diu\",\"India/Under process of Striking Off/Daman and Diu\",\"India/Active/Delhi\",\"India/Amalgamated/Delhi\",\"India/Converted to LLP/Delhi\",\"India/Converted to LLP and Dissolved/Delhi\",\"India/Dissolved/Delhi\",\"India/Dormant under section 455/Delhi\",\"India/Liquidated/Delhi\",\"India/Not available for e-filing/Delhi\",\"India/Strike off/Delhi\",\"India/Under liquidation/Delhi\",\"India/Under process of Striking Off/Delhi\",\"India/Active/Goa\",\"India/Amalgamated/Goa\",\"India/Converted to LLP/Goa\",\"India/Converted to LLP and Dissolved/Goa\",\"India/Dissolved/Goa\",\"India/Dormant under section 455/Goa\",\"India/Liquidated/Goa\",\"India/Not available for e-filing/Goa\",\"India/Strike off/Goa\",\"India/Under liquidation/Goa\",\"India/Under process of Striking Off/Goa\",\"India/Active/Gujarat\",\"India/Amalgamated/Gujarat\",\"India/Converted to LLP/Gujarat\",\"India/Converted to LLP and Dissolved/Gujarat\",\"India/Dissolved/Gujarat\",\"India/Dormant under section 455/Gujarat\",\"India/Not available for e-filing/Gujarat\",\"India/Strike off/Gujarat\",\"India/Under liquidation/Gujarat\",\"India/Under process of Striking Off/Gujarat\",\"India/Active/Haryana\",\"India/Amalgamated/Haryana\",\"India/Converted to LLP/Haryana\",\"India/Converted to LLP and Dissolved/Haryana\",\"India/Dissolved/Haryana\",\"India/Dormant under section 455/Haryana\",\"India/Liquidated/Haryana\",\"India/Not available for e-filing/Haryana\",\"India/Strike off/Haryana\",\"India/Under liquidation/Haryana\",\"India/Under process of Striking Off/Haryana\",\"India/Active/Himachal Pradesh\",\"India/Amalgamated/Himachal Pradesh\",\"India/Converted to LLP/Himachal Pradesh\",\"India/Converted to LLP and Dissolved/Himachal Pradesh\",\"India/Dissolved/Himachal Pradesh\",\"India/Dormant under section 455/Himachal Pradesh\",\"India/Not available for e-filing/Himachal Pradesh\",\"India/Strike off/Himachal Pradesh\",\"India/Under liquidation/Himachal Pradesh\",\"India/Under process of Striking Off/Himachal Pradesh\",\"India/Active/Jammu and Kashmir\",\"India/Amalgamated/Jammu and Kashmir\",\"India/Converted to LLP/Jammu and Kashmir\",\"India/Dissolved/Jammu and Kashmir\",\"India/Dormant under section 455/Jammu and Kashmir\",\"India/Liquidated/Jammu and Kashmir\",\"India/Not available for e-filing/Jammu and Kashmir\",\"India/Strike off/Jammu and Kashmir\",\"India/Under liquidation/Jammu and Kashmir\",\"India/Under process of Striking Off/Jammu and Kashmir\",\"India/Active/Jharkhand\",\"India/Amalgamated/Jharkhand\",\"India/Converted to LLP/Jharkhand\",\"India/Converted to LLP and Dissolved/Jharkhand\",\"India/Dissolved/Jharkhand\",\"India/Dormant under section 455/Jharkhand\",\"India/Liquidated/Jharkhand\",\"India/Not available for e-filing/Jharkhand\",\"India/Strike off/Jharkhand\",\"India/Under liquidation/Jharkhand\",\"India/Under process of Striking Off/Jharkhand\",\"India/Active/Karnataka\",\"India/Amalgamated/Karnataka\",\"India/Converted to LLP/Karnataka\",\"India/Converted to LLP and Dissolved/Karnataka\",\"India/Dissolved/Karnataka\",\"India/Dormant under section 455/Karnataka\",\"India/Liquidated/Karnataka\",\"India/Not available for e-filing/Karnataka\",\"India/Strike off/Karnataka\",\"India/Under liquidation/Karnataka\",\"India/Under process of Striking Off/Karnataka\",\"India/Active/Kerala\",\"India/Amalgamated/Kerala\",\"India/Converted to LLP/Kerala\",\"India/Converted to LLP and Dissolved/Kerala\",\"India/Dissolved/Kerala\",\"India/Dormant/Kerala\",\"India/Dormant under section 455/Kerala\",\"India/Liquidated/Kerala\",\"India/Not available for e-filing/Kerala\",\"India/Strike off/Kerala\",\"India/Under liquidation/Kerala\",\"India/Under process of Striking Off/Kerala\",\"India/Active/Lakshadweep\",\"India/Strike off/Lakshadweep\",\"India/Under process of Striking Off/Lakshadweep\",\"India/Active/Madhya Pradesh\",\"India/Amalgamated/Madhya Pradesh\",\"India/Converted to LLP/Madhya Pradesh\",\"India/Converted to LLP and Dissolved/Madhya Pradesh\",\"India/Dissolved/Madhya Pradesh\",\"India/Dormant under section 455/Madhya Pradesh\",\"India/Liquidated/Madhya Pradesh\",\"India/Not available for e-filing/Madhya Pradesh\",\"India/Strike off/Madhya Pradesh\",\"India/Under liquidation/Madhya Pradesh\",\"India/Under process of Striking Off/Madhya Pradesh\",\"India/Active/Maharashtra\",\"India/Amalgamated/Maharashtra\",\"India/Converted to LLP/Maharashtra\",\"India/Converted to LLP and Dissolved/Maharashtra\",\"India/Dissolved/Maharashtra\",\"India/Dormant under section 455/Maharashtra\",\"India/Liquidated/Maharashtra\",\"India/Not available for e-filing/Maharashtra\",\"India/Strike off/Maharashtra\",\"India/Under liquidation/Maharashtra\",\"India/Under process of Striking Off/Maharashtra\",\"India/Active/Manipur\",\"India/Amalgamated/Manipur\",\"India/Converted to LLP/Manipur\",\"India/Converted to LLP and Dissolved/Manipur\",\"India/Dormant under section 455/Manipur\",\"India/Not available for e-filing/Manipur\",\"India/Strike off/Manipur\",\"India/Under process of Striking Off/Manipur\",\"India/Active/Meghalaya\",\"India/Amalgamated/Meghalaya\",\"India/Converted to LLP/Meghalaya\",\"India/Converted to LLP and Dissolved/Meghalaya\",\"India/Dormant under section 455/Meghalaya\",\"India/Not available for e-filing/Meghalaya\",\"India/Strike off/Meghalaya\",\"India/Under liquidation/Meghalaya\",\"India/Under process of Striking Off/Meghalaya\",\"India/Active/Mizoram\",\"India/Strike off/Mizoram\",\"India/Under process of Striking Off/Mizoram\",\"India/Active/Nagaland\",\"India/Amalgamated/Nagaland\",\"India/Converted to LLP/Nagaland\",\"India/Dormant under section 455/Nagaland\",\"India/Not available for e-filing/Nagaland\",\"India/Strike off/Nagaland\",\"India/Under liquidation/Nagaland\",\"India/Under process of Striking Off/Nagaland\",\"India/Active/Orissa\",\"India/Amalgamated/Orissa\",\"India/Converted to LLP/Orissa\",\"India/Converted to LLP and Dissolved/Orissa\",\"India/Dissolved/Orissa\",\"India/Dormant/Orissa\",\"India/Dormant under section 455/Orissa\",\"India/Liquidated/Orissa\",\"India/Not available for e-filing/Orissa\",\"India/Strike off/Orissa\",\"India/Under liquidation/Orissa\",\"India/Under process of Striking Off/Orissa\",\"India/Active/Pondicherry\",\"India/Amalgamated/Pondicherry\",\"India/Converted to LLP/Pondicherry\",\"India/Converted to LLP and Dissolved/Pondicherry\",\"India/Dissolved/Pondicherry\",\"India/Dormant under section 455/Pondicherry\",\"India/Not available for e-filing/Pondicherry\",\"India/Strike off/Pondicherry\",\"India/Under liquidation/Pondicherry\",\"India/Under process of Striking Off/Pondicherry\",\"India/Active/Punjab\",\"India/Amalgamated/Punjab\",\"India/Converted to LLP/Punjab\",\"India/Converted to LLP and Dissolved/Punjab\",\"India/Dissolved/Punjab\",\"India/Dormant under section 455/Punjab\",\"India/Liquidated/Punjab\",\"India/Not available for e-filing/Punjab\",\"India/Strike off/Punjab\",\"India/Under liquidation/Punjab\",\"India/Under process of Striking Off/Punjab\",\"India/Active/Rajasthan\",\"India/Amalgamated/Rajasthan\",\"India/Converted to LLP/Rajasthan\",\"India/Converted to LLP and Dissolved/Rajasthan\",\"India/Dissolved/Rajasthan\",\"India/Dormant under section 455/Rajasthan\",\"India/Liquidated/Rajasthan\",\"India/Not available for e-filing/Rajasthan\",\"India/Strike off/Rajasthan\",\"India/Under liquidation/Rajasthan\",\"India/Under process of Striking Off/Rajasthan\",\"India/Active/Sikkim\",\"India/Active/Tamil Nadu\",\"India/Amalgamated/Tamil Nadu\",\"India/Converted to LLP/Tamil Nadu\",\"India/Converted to LLP and Dissolved/Tamil Nadu\",\"India/Dissolved/Tamil Nadu\",\"India/Dormant under section 455/Tamil Nadu\",\"India/Liquidated/Tamil Nadu\",\"India/Not available for e-filing/Tamil Nadu\",\"India/Strike off/Tamil Nadu\",\"India/Under liquidation/Tamil Nadu\",\"India/Under process of Striking Off/Tamil Nadu\",\"India/Active/Telangana\",\"India/Amalgamated/Telangana\",\"India/Converted to LLP/Telangana\",\"India/Converted to LLP and Dissolved/Telangana\",\"India/Dissolved/Telangana\",\"India/Dormant under section 455/Telangana\",\"India/Liquidated/Telangana\",\"India/Not available for e-filing/Telangana\",\"India/Strike off/Telangana\",\"India/Under liquidation/Telangana\",\"India/Under process of Striking Off/Telangana\",\"India/Active/Tripura\",\"India/Amalgamated/Tripura\",\"India/Not available for e-filing/Tripura\",\"India/Strike off/Tripura\",\"India/Under process of Striking Off/Tripura\",\"India/Active/Uttar Pradesh\",\"India/Amalgamated/Uttar Pradesh\",\"India/Converted to LLP/Uttar Pradesh\",\"India/Converted to LLP and Dissolved/Uttar Pradesh\",\"India/Dissolved/Uttar Pradesh\",\"India/Dormant under section 455/Uttar Pradesh\",\"India/Liquidated/Uttar Pradesh\",\"India/Not available for e-filing/Uttar Pradesh\",\"India/Strike off/Uttar Pradesh\",\"India/Under liquidation/Uttar Pradesh\",\"India/Under process of Striking Off/Uttar Pradesh\",\"India/Active/Uttaranchal\",\"India/Amalgamated/Uttaranchal\",\"India/Converted to LLP/Uttaranchal\",\"India/Converted to LLP and Dissolved/Uttaranchal\",\"India/Dormant under section 455/Uttaranchal\",\"India/Liquidated/Uttaranchal\",\"India/Not available for e-filing/Uttaranchal\",\"India/Strike off/Uttaranchal\",\"India/Under liquidation/Uttaranchal\",\"India/Under process of Striking Off/Uttaranchal\",\"India/Active/West Bengal\",\"India/Amalgamated/West Bengal\",\"India/Converted to LLP/West Bengal\",\"India/Converted to LLP and Dissolved/West Bengal\",\"India/Dissolved/West Bengal\",\"India/Dormant under section 455/West Bengal\",\"India/Liquidated/West Bengal\",\"India/Not available for e-filing/West Bengal\",\"India/Strike off/West Bengal\",\"India/Under liquidation/West Bengal\",\"India/Under process of Striking Off/West Bengal\",\"India/Active\",\"India/Amalgamated\",\"India/Converted to LLP\",\"India/Converted to LLP and Dissolved\",\"India/Dissolved\",\"India/Dormant\",\"India/Dormant under section 455\",\"India/Liquidated\",\"India/Not available for e-filing\",\"India/Strike off\",\"India/Under liquidation\",\"India/Under process of Striking Off\",\"India/Vanished\",\"India\"],\"labels\":[\"Andaman and Nicobar Islands\",\"Andaman and Nicobar Islands\",\"Andaman and Nicobar Islands\",\"Andaman and Nicobar Islands\",\"Andhra Pradesh\",\"Andhra Pradesh\",\"Andhra Pradesh\",\"Andhra Pradesh\",\"Andhra Pradesh\",\"Andhra Pradesh\",\"Andhra Pradesh\",\"Andhra Pradesh\",\"Andhra Pradesh\",\"Andhra Pradesh\",\"Andhra Pradesh\",\"Andhra Pradesh\",\"Arunachal Pradesh\",\"Arunachal Pradesh\",\"Arunachal Pradesh\",\"Arunachal Pradesh\",\"Arunachal Pradesh\",\"Arunachal Pradesh\",\"Arunachal Pradesh\",\"Assam\",\"Assam\",\"Assam\",\"Assam\",\"Assam\",\"Assam\",\"Assam\",\"Assam\",\"Assam\",\"Assam\",\"Assam\",\"Bihar\",\"Bihar\",\"Bihar\",\"Bihar\",\"Bihar\",\"Bihar\",\"Bihar\",\"Bihar\",\"Bihar\",\"Bihar\",\"Bihar\",\"Chandigarh\",\"Chandigarh\",\"Chandigarh\",\"Chandigarh\",\"Chandigarh\",\"Chandigarh\",\"Chandigarh\",\"Chandigarh\",\"Chandigarh\",\"Chandigarh\",\"Chattisgarh\",\"Chattisgarh\",\"Chattisgarh\",\"Chattisgarh\",\"Chattisgarh\",\"Chattisgarh\",\"Chattisgarh\",\"Chattisgarh\",\"Chattisgarh\",\"Chattisgarh\",\"Dadra and Nagra Haveli\",\"Dadra and Nagra Haveli\",\"Dadra and Nagra Haveli\",\"Dadra and Nagra Haveli\",\"Dadra and Nagra Haveli\",\"Dadra and Nagra Haveli\",\"Dadra and Nagra Haveli\",\"Daman and Diu\",\"Daman and Diu\",\"Daman and Diu\",\"Daman and Diu\",\"Daman and Diu\",\"Daman and Diu\",\"Daman and Diu\",\"Daman and Diu\",\"Daman and Diu\",\"Daman and Diu\",\"Delhi\",\"Delhi\",\"Delhi\",\"Delhi\",\"Delhi\",\"Delhi\",\"Delhi\",\"Delhi\",\"Delhi\",\"Delhi\",\"Delhi\",\"Goa\",\"Goa\",\"Goa\",\"Goa\",\"Goa\",\"Goa\",\"Goa\",\"Goa\",\"Goa\",\"Goa\",\"Goa\",\"Gujarat\",\"Gujarat\",\"Gujarat\",\"Gujarat\",\"Gujarat\",\"Gujarat\",\"Gujarat\",\"Gujarat\",\"Gujarat\",\"Gujarat\",\"Haryana\",\"Haryana\",\"Haryana\",\"Haryana\",\"Haryana\",\"Haryana\",\"Haryana\",\"Haryana\",\"Haryana\",\"Haryana\",\"Haryana\",\"Himachal Pradesh\",\"Himachal Pradesh\",\"Himachal Pradesh\",\"Himachal Pradesh\",\"Himachal Pradesh\",\"Himachal Pradesh\",\"Himachal Pradesh\",\"Himachal Pradesh\",\"Himachal Pradesh\",\"Himachal Pradesh\",\"Jammu and Kashmir\",\"Jammu and Kashmir\",\"Jammu and Kashmir\",\"Jammu and Kashmir\",\"Jammu and Kashmir\",\"Jammu and Kashmir\",\"Jammu and Kashmir\",\"Jammu and Kashmir\",\"Jammu and Kashmir\",\"Jammu and Kashmir\",\"Jharkhand\",\"Jharkhand\",\"Jharkhand\",\"Jharkhand\",\"Jharkhand\",\"Jharkhand\",\"Jharkhand\",\"Jharkhand\",\"Jharkhand\",\"Jharkhand\",\"Jharkhand\",\"Karnataka\",\"Karnataka\",\"Karnataka\",\"Karnataka\",\"Karnataka\",\"Karnataka\",\"Karnataka\",\"Karnataka\",\"Karnataka\",\"Karnataka\",\"Karnataka\",\"Kerala\",\"Kerala\",\"Kerala\",\"Kerala\",\"Kerala\",\"Kerala\",\"Kerala\",\"Kerala\",\"Kerala\",\"Kerala\",\"Kerala\",\"Kerala\",\"Lakshadweep\",\"Lakshadweep\",\"Lakshadweep\",\"Madhya Pradesh\",\"Madhya Pradesh\",\"Madhya Pradesh\",\"Madhya Pradesh\",\"Madhya Pradesh\",\"Madhya Pradesh\",\"Madhya Pradesh\",\"Madhya Pradesh\",\"Madhya Pradesh\",\"Madhya Pradesh\",\"Madhya Pradesh\",\"Maharashtra\",\"Maharashtra\",\"Maharashtra\",\"Maharashtra\",\"Maharashtra\",\"Maharashtra\",\"Maharashtra\",\"Maharashtra\",\"Maharashtra\",\"Maharashtra\",\"Maharashtra\",\"Manipur\",\"Manipur\",\"Manipur\",\"Manipur\",\"Manipur\",\"Manipur\",\"Manipur\",\"Manipur\",\"Meghalaya\",\"Meghalaya\",\"Meghalaya\",\"Meghalaya\",\"Meghalaya\",\"Meghalaya\",\"Meghalaya\",\"Meghalaya\",\"Meghalaya\",\"Mizoram\",\"Mizoram\",\"Mizoram\",\"Nagaland\",\"Nagaland\",\"Nagaland\",\"Nagaland\",\"Nagaland\",\"Nagaland\",\"Nagaland\",\"Nagaland\",\"Orissa\",\"Orissa\",\"Orissa\",\"Orissa\",\"Orissa\",\"Orissa\",\"Orissa\",\"Orissa\",\"Orissa\",\"Orissa\",\"Orissa\",\"Orissa\",\"Pondicherry\",\"Pondicherry\",\"Pondicherry\",\"Pondicherry\",\"Pondicherry\",\"Pondicherry\",\"Pondicherry\",\"Pondicherry\",\"Pondicherry\",\"Pondicherry\",\"Punjab\",\"Punjab\",\"Punjab\",\"Punjab\",\"Punjab\",\"Punjab\",\"Punjab\",\"Punjab\",\"Punjab\",\"Punjab\",\"Punjab\",\"Rajasthan\",\"Rajasthan\",\"Rajasthan\",\"Rajasthan\",\"Rajasthan\",\"Rajasthan\",\"Rajasthan\",\"Rajasthan\",\"Rajasthan\",\"Rajasthan\",\"Rajasthan\",\"Sikkim\",\"Tamil Nadu\",\"Tamil Nadu\",\"Tamil Nadu\",\"Tamil Nadu\",\"Tamil Nadu\",\"Tamil Nadu\",\"Tamil Nadu\",\"Tamil Nadu\",\"Tamil Nadu\",\"Tamil Nadu\",\"Tamil Nadu\",\"Telangana\",\"Telangana\",\"Telangana\",\"Telangana\",\"Telangana\",\"Telangana\",\"Telangana\",\"Telangana\",\"Telangana\",\"Telangana\",\"Telangana\",\"Tripura\",\"Tripura\",\"Tripura\",\"Tripura\",\"Tripura\",\"Uttar Pradesh\",\"Uttar Pradesh\",\"Uttar Pradesh\",\"Uttar Pradesh\",\"Uttar Pradesh\",\"Uttar Pradesh\",\"Uttar Pradesh\",\"Uttar Pradesh\",\"Uttar Pradesh\",\"Uttar Pradesh\",\"Uttar Pradesh\",\"Uttaranchal\",\"Uttaranchal\",\"Uttaranchal\",\"Uttaranchal\",\"Uttaranchal\",\"Uttaranchal\",\"Uttaranchal\",\"Uttaranchal\",\"Uttaranchal\",\"Uttaranchal\",\"West Bengal\",\"West Bengal\",\"West Bengal\",\"West Bengal\",\"West Bengal\",\"West Bengal\",\"West Bengal\",\"West Bengal\",\"West Bengal\",\"West Bengal\",\"West Bengal\",\"Active\",\"Amalgamated\",\"Converted to LLP\",\"Converted to LLP and Dissolved\",\"Dissolved\",\"Dormant\",\"Dormant under section 455\",\"Liquidated\",\"Not available for e-filing\",\"Strike off\",\"Under liquidation\",\"Under process of Striking Off\",\"Vanished\",\"India\"],\"name\":\"\",\"parents\":[\"India/Active\",\"India/Dormant under section 455\",\"India/Strike off\",\"India/Under process of Striking Off\",\"India/Active\",\"India/Amalgamated\",\"India/Converted to LLP\",\"India/Converted to LLP and Dissolved\",\"India/Dissolved\",\"India/Dormant under section 455\",\"India/Liquidated\",\"India/Not available for e-filing\",\"India/Strike off\",\"India/Under liquidation\",\"India/Under process of Striking Off\",\"India/Vanished\",\"India/Active\",\"India/Converted to LLP\",\"India/Converted to LLP and Dissolved\",\"India/Not available for e-filing\",\"India/Strike off\",\"India/Under liquidation\",\"India/Under process of Striking Off\",\"India/Active\",\"India/Amalgamated\",\"India/Converted to LLP\",\"India/Converted to LLP and Dissolved\",\"India/Dissolved\",\"India/Dormant under section 455\",\"India/Liquidated\",\"India/Not available for e-filing\",\"India/Strike off\",\"India/Under liquidation\",\"India/Under process of Striking Off\",\"India/Active\",\"India/Amalgamated\",\"India/Converted to LLP\",\"India/Converted to LLP and Dissolved\",\"India/Dissolved\",\"India/Dormant under section 455\",\"India/Liquidated\",\"India/Not available for e-filing\",\"India/Strike off\",\"India/Under liquidation\",\"India/Under process of Striking Off\",\"India/Active\",\"India/Amalgamated\",\"India/Converted to LLP\",\"India/Converted to LLP and Dissolved\",\"India/Dissolved\",\"India/Dormant under section 455\",\"India/Not available for e-filing\",\"India/Strike off\",\"India/Under liquidation\",\"India/Under process of Striking Off\",\"India/Active\",\"India/Amalgamated\",\"India/Converted to LLP\",\"India/Converted to LLP and Dissolved\",\"India/Dissolved\",\"India/Dormant under section 455\",\"India/Not available for e-filing\",\"India/Strike off\",\"India/Under liquidation\",\"India/Under process of Striking Off\",\"India/Active\",\"India/Amalgamated\",\"India/Converted to LLP\",\"India/Converted to LLP and Dissolved\",\"India/Not available for e-filing\",\"India/Strike off\",\"India/Under process of Striking Off\",\"India/Active\",\"India/Amalgamated\",\"India/Converted to LLP\",\"India/Converted to LLP and Dissolved\",\"India/Dissolved\",\"India/Liquidated\",\"India/Not available for e-filing\",\"India/Strike off\",\"India/Under liquidation\",\"India/Under process of Striking Off\",\"India/Active\",\"India/Amalgamated\",\"India/Converted to LLP\",\"India/Converted to LLP and Dissolved\",\"India/Dissolved\",\"India/Dormant under section 455\",\"India/Liquidated\",\"India/Not available for e-filing\",\"India/Strike off\",\"India/Under liquidation\",\"India/Under process of Striking Off\",\"India/Active\",\"India/Amalgamated\",\"India/Converted to LLP\",\"India/Converted to LLP and Dissolved\",\"India/Dissolved\",\"India/Dormant under section 455\",\"India/Liquidated\",\"India/Not available for e-filing\",\"India/Strike off\",\"India/Under liquidation\",\"India/Under process of Striking Off\",\"India/Active\",\"India/Amalgamated\",\"India/Converted to LLP\",\"India/Converted to LLP and Dissolved\",\"India/Dissolved\",\"India/Dormant under section 455\",\"India/Not available for e-filing\",\"India/Strike off\",\"India/Under liquidation\",\"India/Under process of Striking Off\",\"India/Active\",\"India/Amalgamated\",\"India/Converted to LLP\",\"India/Converted to LLP and Dissolved\",\"India/Dissolved\",\"India/Dormant under section 455\",\"India/Liquidated\",\"India/Not available for e-filing\",\"India/Strike off\",\"India/Under liquidation\",\"India/Under process of Striking Off\",\"India/Active\",\"India/Amalgamated\",\"India/Converted to LLP\",\"India/Converted to LLP and Dissolved\",\"India/Dissolved\",\"India/Dormant under section 455\",\"India/Not available for e-filing\",\"India/Strike off\",\"India/Under liquidation\",\"India/Under process of Striking Off\",\"India/Active\",\"India/Amalgamated\",\"India/Converted to LLP\",\"India/Dissolved\",\"India/Dormant under section 455\",\"India/Liquidated\",\"India/Not available for e-filing\",\"India/Strike off\",\"India/Under liquidation\",\"India/Under process of Striking Off\",\"India/Active\",\"India/Amalgamated\",\"India/Converted to LLP\",\"India/Converted to LLP and Dissolved\",\"India/Dissolved\",\"India/Dormant under section 455\",\"India/Liquidated\",\"India/Not available for e-filing\",\"India/Strike off\",\"India/Under liquidation\",\"India/Under process of Striking Off\",\"India/Active\",\"India/Amalgamated\",\"India/Converted to LLP\",\"India/Converted to LLP and Dissolved\",\"India/Dissolved\",\"India/Dormant under section 455\",\"India/Liquidated\",\"India/Not available for e-filing\",\"India/Strike off\",\"India/Under liquidation\",\"India/Under process of Striking Off\",\"India/Active\",\"India/Amalgamated\",\"India/Converted to LLP\",\"India/Converted to LLP and Dissolved\",\"India/Dissolved\",\"India/Dormant\",\"India/Dormant under section 455\",\"India/Liquidated\",\"India/Not available for e-filing\",\"India/Strike off\",\"India/Under liquidation\",\"India/Under process of Striking Off\",\"India/Active\",\"India/Strike off\",\"India/Under process of Striking Off\",\"India/Active\",\"India/Amalgamated\",\"India/Converted to LLP\",\"India/Converted to LLP and Dissolved\",\"India/Dissolved\",\"India/Dormant under section 455\",\"India/Liquidated\",\"India/Not available for e-filing\",\"India/Strike off\",\"India/Under liquidation\",\"India/Under process of Striking Off\",\"India/Active\",\"India/Amalgamated\",\"India/Converted to LLP\",\"India/Converted to LLP and Dissolved\",\"India/Dissolved\",\"India/Dormant under section 455\",\"India/Liquidated\",\"India/Not available for e-filing\",\"India/Strike off\",\"India/Under liquidation\",\"India/Under process of Striking Off\",\"India/Active\",\"India/Amalgamated\",\"India/Converted to LLP\",\"India/Converted to LLP and Dissolved\",\"India/Dormant under section 455\",\"India/Not available for e-filing\",\"India/Strike off\",\"India/Under process of Striking Off\",\"India/Active\",\"India/Amalgamated\",\"India/Converted to LLP\",\"India/Converted to LLP and Dissolved\",\"India/Dormant under section 455\",\"India/Not available for e-filing\",\"India/Strike off\",\"India/Under liquidation\",\"India/Under process of Striking Off\",\"India/Active\",\"India/Strike off\",\"India/Under process of Striking Off\",\"India/Active\",\"India/Amalgamated\",\"India/Converted to LLP\",\"India/Dormant under section 455\",\"India/Not available for e-filing\",\"India/Strike off\",\"India/Under liquidation\",\"India/Under process of Striking Off\",\"India/Active\",\"India/Amalgamated\",\"India/Converted to LLP\",\"India/Converted to LLP and Dissolved\",\"India/Dissolved\",\"India/Dormant\",\"India/Dormant under section 455\",\"India/Liquidated\",\"India/Not available for e-filing\",\"India/Strike off\",\"India/Under liquidation\",\"India/Under process of Striking Off\",\"India/Active\",\"India/Amalgamated\",\"India/Converted to LLP\",\"India/Converted to LLP and Dissolved\",\"India/Dissolved\",\"India/Dormant under section 455\",\"India/Not available for e-filing\",\"India/Strike off\",\"India/Under liquidation\",\"India/Under process of Striking Off\",\"India/Active\",\"India/Amalgamated\",\"India/Converted to LLP\",\"India/Converted to LLP and Dissolved\",\"India/Dissolved\",\"India/Dormant under section 455\",\"India/Liquidated\",\"India/Not available for e-filing\",\"India/Strike off\",\"India/Under liquidation\",\"India/Under process of Striking Off\",\"India/Active\",\"India/Amalgamated\",\"India/Converted to LLP\",\"India/Converted to LLP and Dissolved\",\"India/Dissolved\",\"India/Dormant under section 455\",\"India/Liquidated\",\"India/Not available for e-filing\",\"India/Strike off\",\"India/Under liquidation\",\"India/Under process of Striking Off\",\"India/Active\",\"India/Active\",\"India/Amalgamated\",\"India/Converted to LLP\",\"India/Converted to LLP and Dissolved\",\"India/Dissolved\",\"India/Dormant under section 455\",\"India/Liquidated\",\"India/Not available for e-filing\",\"India/Strike off\",\"India/Under liquidation\",\"India/Under process of Striking Off\",\"India/Active\",\"India/Amalgamated\",\"India/Converted to LLP\",\"India/Converted to LLP and Dissolved\",\"India/Dissolved\",\"India/Dormant under section 455\",\"India/Liquidated\",\"India/Not available for e-filing\",\"India/Strike off\",\"India/Under liquidation\",\"India/Under process of Striking Off\",\"India/Active\",\"India/Amalgamated\",\"India/Not available for e-filing\",\"India/Strike off\",\"India/Under process of Striking Off\",\"India/Active\",\"India/Amalgamated\",\"India/Converted to LLP\",\"India/Converted to LLP and Dissolved\",\"India/Dissolved\",\"India/Dormant under section 455\",\"India/Liquidated\",\"India/Not available for e-filing\",\"India/Strike off\",\"India/Under liquidation\",\"India/Under process of Striking Off\",\"India/Active\",\"India/Amalgamated\",\"India/Converted to LLP\",\"India/Converted to LLP and Dissolved\",\"India/Dormant under section 455\",\"India/Liquidated\",\"India/Not available for e-filing\",\"India/Strike off\",\"India/Under liquidation\",\"India/Under process of Striking Off\",\"India/Active\",\"India/Amalgamated\",\"India/Converted to LLP\",\"India/Converted to LLP and Dissolved\",\"India/Dissolved\",\"India/Dormant under section 455\",\"India/Liquidated\",\"India/Not available for e-filing\",\"India/Strike off\",\"India/Under liquidation\",\"India/Under process of Striking Off\",\"India\",\"India\",\"India\",\"India\",\"India\",\"India\",\"India\",\"India\",\"India\",\"India\",\"India\",\"India\",\"India\",\"\"],\"values\":[703236090.0,200000.0,74338800.0,1700000.0,508472802698.32,11978856650.0,958575305.0,147043460.0,52839092.0,85016000.0,320000.0,15456200.0,3798587100.6,285182125.0,1294639157.3,0.0,6519347340.0,100000.0,11750000.0,6527000.0,122167150.0,9832660.0,30819000.0,125037552576.0,3130889030.0,494840900.0,55085570.0,28563600.0,150000.0,3000.0,570780617.0,1788797683.0,29960100.0,491161810.0,763080789103.19,492216500.0,24847700.0,7147000.0,12820059.0,7751500.0,25720.0,58096553.0,2916761928.0,1376461393.0,967003733.39,78677558480.17001,3956110983.0,108648240.0,35418240.0,37509500.0,10780230.0,1603794230.0,3326403886.3,1436182830.0,142830480.0,254412733111.0,11086783300.0,439645240.0,7104400.0,1151700.0,3375400.0,15317920.0,1515918427.0,119371640.0,20861020.0,43102076728.0,805450000.0,22506100.0,100000.0,0.0,38262322.0,1157144.0,13985667416.0,963064130.0,100000.0,22698900.0,1600000.0,0.0,0.0,56041631.0,74667500.0,32615400.0,6994449241720.278,512704632864.63,9278448750.25,2746627970.0,12778286242.6,3923415530.0,851254782.0,8896413160.0,82643319872.49,34329056246.0,4922025458.0,53781384675.0,5539356335.0,31260882.0,18038020.0,43614830.0,2520200.0,2500000.0,200000.0,2340903709.55,311406100.0,116312330.0,7723333516942.21,233704059991.5,19476800830.0,2069864751.0,856255463.0,120552660.0,226882740.0,16579586001.55,13697839113.0,8813171644.0,1659504051506.44,96341942060.0,597023147.0,87648200.0,1124207600.0,578956530.0,100000.0,1340742114.0,7352166953.0,7075677080.0,423554346.0,152464291109.0,36167535438.0,59185080.0,1975000.0,9020000.0,4989900.0,90651500.0,508863433.0,387963200.0,157639630.0,34515151088.0,461250520.0,10500000.0,20040.0,200000.0,2300.0,2070720.0,1052193515.0,213627100.0,32172720.0,216542935193.85,2649353100.0,35478400.0,53313250.0,10463700.0,2283000.0,5000.0,30347800.0,1441403305.0,117621200.0,512740940.0,2873913961152.9507,60746343235.0,3826520012.0,674055880.0,3234545199.0,282508410.0,100000.0,7529636020.0,24839568138.670002,24210396518.0,816679830.0,445926788244.21,8683514284.92,371300990.0,3150000.0,117522254.75,100000.0,478480200.0,600000.0,241775513.91,8177572760.240001,1877113073.0,757946780.0,68488500.0,600000.0,0.0,823218485817.11,5570055488.0,786239290.0,234184870.0,92197050.0,135490950.0,2000000.0,1358855914.0,5483622971.37,5019508311.0,116657530.0,10111722398983.83,1523380446419.0,17012632394.0,5438418119.0,5216840749.0,5245553250.0,967500.0,7757425577.0,106771217462.09999,87009495899.8,5774311385.0,4267052920.0,37237000.0,4237000.0,2100000.0,100000.0,6495000.0,393977880.0,15410000.0,91993226595.8,675687990.0,5035000.0,1443000.0,500000.0,14232000.0,549831159.0,386870.0,118164170.0,993612207.0,10595600.0,2450000.0,3239068875.0,0.0,7005000.0,100000.0,10678000.0,135620890.0,525000.0,7900400.0,316769665302.0,5033126320.0,27005000.0,5048200.0,3006487870.0,100000.0,174651200.0,353000.0,16304000.0,4185810702.45,5840767550.0,259885660.0,27198003530.0,394464660.0,100000.0,200000.0,19271025.0,300000.0,800300.0,792848446.0,221084350.0,13979300.0,426875406138.25,14450008705.0,180242460.0,93375400.0,1999357020.0,13388500.0,605000.0,5139864870.0,6665588858.0,4455546385.0,428947490.0,788544218990.44,5043164074.0,1414157810.0,334352960.0,88053160.0,68099430.0,2208470.0,3383165028.0,7387011053.5,6348899424.0,83542380.0,200000.0,3084761764605.76,330176470622.0,2509655607.0,2346065110.0,10971410673.0,553773625.0,988892400.0,1913143186.0,39525219058.25,36356225262.0,3416957408.0,1865364661156.69,42206707394.8,24496363045.0,397035289.0,756154850.0,157101000.0,337820717.0,1063158600.0,23164707793.36,12043777432.0,2502661237.14,26453843404.0,100000.0,150000.0,72508783.0,16054900.0,2408818997335.3604,27474898433.0,932735450.0,307954720.0,769548850.0,39936050.0,55063500.0,2501213248.0,10550982364.500002,10352508627.0,7497043669.0,111141672543.0,435716350.0,25387400.0,2200000.0,1900000.0,19000.0,37905900.0,676498842.0,214894770.0,250897394.0,1771712365327.6199,238612690193.99002,6329401429.0,1840007323.0,2843460230.0,3033439363.4,31837520.0,139595111771.0,442900897777.12006,48922719886.0,5986406136.0,43811566217406.47,3182902132071.84,89465978461.25,16943405632.0,44071200757.35,200000.0,14925512928.4,2274677909.0,183427195481.91,807840396257.0499,302338697644.8,46026300481.83,0.0,48501781915031.914],\"type\":\"sunburst\"}],                        {\"template\":{\"data\":{\"histogram2dcontour\":[{\"type\":\"histogram2dcontour\",\"colorbar\":{\"outlinewidth\":0,\"ticks\":\"\"},\"colorscale\":[[0.0,\"#0d0887\"],[0.1111111111111111,\"#46039f\"],[0.2222222222222222,\"#7201a8\"],[0.3333333333333333,\"#9c179e\"],[0.4444444444444444,\"#bd3786\"],[0.5555555555555556,\"#d8576b\"],[0.6666666666666666,\"#ed7953\"],[0.7777777777777778,\"#fb9f3a\"],[0.8888888888888888,\"#fdca26\"],[1.0,\"#f0f921\"]]}],\"choropleth\":[{\"type\":\"choropleth\",\"colorbar\":{\"outlinewidth\":0,\"ticks\":\"\"}}],\"histogram2d\":[{\"type\":\"histogram2d\",\"colorbar\":{\"outlinewidth\":0,\"ticks\":\"\"},\"colorscale\":[[0.0,\"#0d0887\"],[0.1111111111111111,\"#46039f\"],[0.2222222222222222,\"#7201a8\"],[0.3333333333333333,\"#9c179e\"],[0.4444444444444444,\"#bd3786\"],[0.5555555555555556,\"#d8576b\"],[0.6666666666666666,\"#ed7953\"],[0.7777777777777778,\"#fb9f3a\"],[0.8888888888888888,\"#fdca26\"],[1.0,\"#f0f921\"]]}],\"heatmap\":[{\"type\":\"heatmap\",\"colorbar\":{\"outlinewidth\":0,\"ticks\":\"\"},\"colorscale\":[[0.0,\"#0d0887\"],[0.1111111111111111,\"#46039f\"],[0.2222222222222222,\"#7201a8\"],[0.3333333333333333,\"#9c179e\"],[0.4444444444444444,\"#bd3786\"],[0.5555555555555556,\"#d8576b\"],[0.6666666666666666,\"#ed7953\"],[0.7777777777777778,\"#fb9f3a\"],[0.8888888888888888,\"#fdca26\"],[1.0,\"#f0f921\"]]}],\"heatmapgl\":[{\"type\":\"heatmapgl\",\"colorbar\":{\"outlinewidth\":0,\"ticks\":\"\"},\"colorscale\":[[0.0,\"#0d0887\"],[0.1111111111111111,\"#46039f\"],[0.2222222222222222,\"#7201a8\"],[0.3333333333333333,\"#9c179e\"],[0.4444444444444444,\"#bd3786\"],[0.5555555555555556,\"#d8576b\"],[0.6666666666666666,\"#ed7953\"],[0.7777777777777778,\"#fb9f3a\"],[0.8888888888888888,\"#fdca26\"],[1.0,\"#f0f921\"]]}],\"contourcarpet\":[{\"type\":\"contourcarpet\",\"colorbar\":{\"outlinewidth\":0,\"ticks\":\"\"}}],\"contour\":[{\"type\":\"contour\",\"colorbar\":{\"outlinewidth\":0,\"ticks\":\"\"},\"colorscale\":[[0.0,\"#0d0887\"],[0.1111111111111111,\"#46039f\"],[0.2222222222222222,\"#7201a8\"],[0.3333333333333333,\"#9c179e\"],[0.4444444444444444,\"#bd3786\"],[0.5555555555555556,\"#d8576b\"],[0.6666666666666666,\"#ed7953\"],[0.7777777777777778,\"#fb9f3a\"],[0.8888888888888888,\"#fdca26\"],[1.0,\"#f0f921\"]]}],\"surface\":[{\"type\":\"surface\",\"colorbar\":{\"outlinewidth\":0,\"ticks\":\"\"},\"colorscale\":[[0.0,\"#0d0887\"],[0.1111111111111111,\"#46039f\"],[0.2222222222222222,\"#7201a8\"],[0.3333333333333333,\"#9c179e\"],[0.4444444444444444,\"#bd3786\"],[0.5555555555555556,\"#d8576b\"],[0.6666666666666666,\"#ed7953\"],[0.7777777777777778,\"#fb9f3a\"],[0.8888888888888888,\"#fdca26\"],[1.0,\"#f0f921\"]]}],\"mesh3d\":[{\"type\":\"mesh3d\",\"colorbar\":{\"outlinewidth\":0,\"ticks\":\"\"}}],\"scatter\":[{\"fillpattern\":{\"fillmode\":\"overlay\",\"size\":10,\"solidity\":0.2},\"type\":\"scatter\"}],\"parcoords\":[{\"type\":\"parcoords\",\"line\":{\"colorbar\":{\"outlinewidth\":0,\"ticks\":\"\"}}}],\"scatterpolargl\":[{\"type\":\"scatterpolargl\",\"marker\":{\"colorbar\":{\"outlinewidth\":0,\"ticks\":\"\"}}}],\"bar\":[{\"error_x\":{\"color\":\"#2a3f5f\"},\"error_y\":{\"color\":\"#2a3f5f\"},\"marker\":{\"line\":{\"color\":\"#E5ECF6\",\"width\":0.5},\"pattern\":{\"fillmode\":\"overlay\",\"size\":10,\"solidity\":0.2}},\"type\":\"bar\"}],\"scattergeo\":[{\"type\":\"scattergeo\",\"marker\":{\"colorbar\":{\"outlinewidth\":0,\"ticks\":\"\"}}}],\"scatterpolar\":[{\"type\":\"scatterpolar\",\"marker\":{\"colorbar\":{\"outlinewidth\":0,\"ticks\":\"\"}}}],\"histogram\":[{\"marker\":{\"pattern\":{\"fillmode\":\"overlay\",\"size\":10,\"solidity\":0.2}},\"type\":\"histogram\"}],\"scattergl\":[{\"type\":\"scattergl\",\"marker\":{\"colorbar\":{\"outlinewidth\":0,\"ticks\":\"\"}}}],\"scatter3d\":[{\"type\":\"scatter3d\",\"line\":{\"colorbar\":{\"outlinewidth\":0,\"ticks\":\"\"}},\"marker\":{\"colorbar\":{\"outlinewidth\":0,\"ticks\":\"\"}}}],\"scattermapbox\":[{\"type\":\"scattermapbox\",\"marker\":{\"colorbar\":{\"outlinewidth\":0,\"ticks\":\"\"}}}],\"scatterternary\":[{\"type\":\"scatterternary\",\"marker\":{\"colorbar\":{\"outlinewidth\":0,\"ticks\":\"\"}}}],\"scattercarpet\":[{\"type\":\"scattercarpet\",\"marker\":{\"colorbar\":{\"outlinewidth\":0,\"ticks\":\"\"}}}],\"carpet\":[{\"aaxis\":{\"endlinecolor\":\"#2a3f5f\",\"gridcolor\":\"white\",\"linecolor\":\"white\",\"minorgridcolor\":\"white\",\"startlinecolor\":\"#2a3f5f\"},\"baxis\":{\"endlinecolor\":\"#2a3f5f\",\"gridcolor\":\"white\",\"linecolor\":\"white\",\"minorgridcolor\":\"white\",\"startlinecolor\":\"#2a3f5f\"},\"type\":\"carpet\"}],\"table\":[{\"cells\":{\"fill\":{\"color\":\"#EBF0F8\"},\"line\":{\"color\":\"white\"}},\"header\":{\"fill\":{\"color\":\"#C8D4E3\"},\"line\":{\"color\":\"white\"}},\"type\":\"table\"}],\"barpolar\":[{\"marker\":{\"line\":{\"color\":\"#E5ECF6\",\"width\":0.5},\"pattern\":{\"fillmode\":\"overlay\",\"size\":10,\"solidity\":0.2}},\"type\":\"barpolar\"}],\"pie\":[{\"automargin\":true,\"type\":\"pie\"}]},\"layout\":{\"autotypenumbers\":\"strict\",\"colorway\":[\"#636efa\",\"#EF553B\",\"#00cc96\",\"#ab63fa\",\"#FFA15A\",\"#19d3f3\",\"#FF6692\",\"#B6E880\",\"#FF97FF\",\"#FECB52\"],\"font\":{\"color\":\"#2a3f5f\"},\"hovermode\":\"closest\",\"hoverlabel\":{\"align\":\"left\"},\"paper_bgcolor\":\"white\",\"plot_bgcolor\":\"#E5ECF6\",\"polar\":{\"bgcolor\":\"#E5ECF6\",\"angularaxis\":{\"gridcolor\":\"white\",\"linecolor\":\"white\",\"ticks\":\"\"},\"radialaxis\":{\"gridcolor\":\"white\",\"linecolor\":\"white\",\"ticks\":\"\"}},\"ternary\":{\"bgcolor\":\"#E5ECF6\",\"aaxis\":{\"gridcolor\":\"white\",\"linecolor\":\"white\",\"ticks\":\"\"},\"baxis\":{\"gridcolor\":\"white\",\"linecolor\":\"white\",\"ticks\":\"\"},\"caxis\":{\"gridcolor\":\"white\",\"linecolor\":\"white\",\"ticks\":\"\"}},\"coloraxis\":{\"colorbar\":{\"outlinewidth\":0,\"ticks\":\"\"}},\"colorscale\":{\"sequential\":[[0.0,\"#0d0887\"],[0.1111111111111111,\"#46039f\"],[0.2222222222222222,\"#7201a8\"],[0.3333333333333333,\"#9c179e\"],[0.4444444444444444,\"#bd3786\"],[0.5555555555555556,\"#d8576b\"],[0.6666666666666666,\"#ed7953\"],[0.7777777777777778,\"#fb9f3a\"],[0.8888888888888888,\"#fdca26\"],[1.0,\"#f0f921\"]],\"sequentialminus\":[[0.0,\"#0d0887\"],[0.1111111111111111,\"#46039f\"],[0.2222222222222222,\"#7201a8\"],[0.3333333333333333,\"#9c179e\"],[0.4444444444444444,\"#bd3786\"],[0.5555555555555556,\"#d8576b\"],[0.6666666666666666,\"#ed7953\"],[0.7777777777777778,\"#fb9f3a\"],[0.8888888888888888,\"#fdca26\"],[1.0,\"#f0f921\"]],\"diverging\":[[0,\"#8e0152\"],[0.1,\"#c51b7d\"],[0.2,\"#de77ae\"],[0.3,\"#f1b6da\"],[0.4,\"#fde0ef\"],[0.5,\"#f7f7f7\"],[0.6,\"#e6f5d0\"],[0.7,\"#b8e186\"],[0.8,\"#7fbc41\"],[0.9,\"#4d9221\"],[1,\"#276419\"]]},\"xaxis\":{\"gridcolor\":\"white\",\"linecolor\":\"white\",\"ticks\":\"\",\"title\":{\"standoff\":15},\"zerolinecolor\":\"white\",\"automargin\":true,\"zerolinewidth\":2},\"yaxis\":{\"gridcolor\":\"white\",\"linecolor\":\"white\",\"ticks\":\"\",\"title\":{\"standoff\":15},\"zerolinecolor\":\"white\",\"automargin\":true,\"zerolinewidth\":2},\"scene\":{\"xaxis\":{\"backgroundcolor\":\"#E5ECF6\",\"gridcolor\":\"white\",\"linecolor\":\"white\",\"showbackground\":true,\"ticks\":\"\",\"zerolinecolor\":\"white\",\"gridwidth\":2},\"yaxis\":{\"backgroundcolor\":\"#E5ECF6\",\"gridcolor\":\"white\",\"linecolor\":\"white\",\"showbackground\":true,\"ticks\":\"\",\"zerolinecolor\":\"white\",\"gridwidth\":2},\"zaxis\":{\"backgroundcolor\":\"#E5ECF6\",\"gridcolor\":\"white\",\"linecolor\":\"white\",\"showbackground\":true,\"ticks\":\"\",\"zerolinecolor\":\"white\",\"gridwidth\":2}},\"shapedefaults\":{\"line\":{\"color\":\"#2a3f5f\"}},\"annotationdefaults\":{\"arrowcolor\":\"#2a3f5f\",\"arrowhead\":0,\"arrowwidth\":1},\"geo\":{\"bgcolor\":\"white\",\"landcolor\":\"#E5ECF6\",\"subunitcolor\":\"white\",\"showland\":true,\"showlakes\":true,\"lakecolor\":\"white\"},\"title\":{\"x\":0.05},\"mapbox\":{\"style\":\"light\"}}},\"legend\":{\"tracegroupgap\":0},\"margin\":{\"t\":60},\"sunburstcolorway\":[\"#0d0887\",\"#46039f\",\"#7201a8\",\"#9c179e\",\"#bd3786\",\"#d8576b\",\"#ed7953\",\"#fb9f3a\",\"#fdca26\",\"#f0f921\"]},                        {\"responsive\": true}                    ).then(function(){\n",
       "                            \n",
       "var gd = document.getElementById('5707dbcf-5eb4-4789-b1ba-aafb99f8a63b');\n",
       "var x = new MutationObserver(function (mutations, observer) {{\n",
       "        var display = window.getComputedStyle(gd).display;\n",
       "        if (!display || display === 'none') {{\n",
       "            console.log([gd, 'removed!']);\n",
       "            Plotly.purge(gd);\n",
       "            observer.disconnect();\n",
       "        }}\n",
       "}});\n",
       "\n",
       "// Listen for the removal of the full notebook cells\n",
       "var notebookContainer = gd.closest('#notebook-container');\n",
       "if (notebookContainer) {{\n",
       "    x.observe(notebookContainer, {childList: true});\n",
       "}}\n",
       "\n",
       "// Listen for the clearing of the current output cell\n",
       "var outputEl = gd.closest('.output');\n",
       "if (outputEl) {{\n",
       "    x.observe(outputEl, {childList: true});\n",
       "}}\n",
       "\n",
       "                        })                };                            </script>        </div>\n",
       "</body>\n",
       "</html>"
      ]
     },
     "metadata": {},
     "output_type": "display_data"
    }
   ],
   "source": [
    "fig=px.sunburst(new_df,\n",
    "            path=['COUNTRY','COMPANY_STATUS','REGISTERED_STATE'],\n",
    "            values='PAIDUP_CAPITAL', \n",
    "            color_discrete_sequence=px.colors.sequential.Plasma\n",
    "            )\n",
    "fig"
   ]
  },
  {
   "cell_type": "markdown",
   "metadata": {
    "id": "ekQyHopWgDJt"
   },
   "source": [
    "Hence, most of the companies are active according to highest paidup capital. The top states having highest number of active companies acccording to highest paidup capital are Maharashtra, Gujarat, Delhi, Tamil Nadu, Karnataka. "
   ]
  },
  {
   "cell_type": "markdown",
   "metadata": {
    "id": "922Kjhlyhsnx"
   },
   "source": [
    "`Insight`:\n",
    "* By clicking on the strike-off status, it is clear that most of the companies from West Bengal have been striked off. This could be the reason of West Bengal doesn't hold position in top 5 states having highest number of active companies while it hold position in top 5 states having highest registration of companies."
   ]
  },
  {
   "cell_type": "markdown",
   "metadata": {
    "id": "vSpUtPYu-wgu"
   },
   "source": [
    "#### 5. Are the most companies Private or Public having highest paidup capital? Which are the top 5 states having Public companies? Which are the top 5 states having Private companies? "
   ]
  },
  {
   "cell_type": "markdown",
   "metadata": {
    "id": "iZOesx3RjJwS"
   },
   "source": [
    "We will answer this question using treemap. But to visualize this the data shouldn't have missing values. So, to handle this we will fill missing values with 'NA'."
   ]
  },
  {
   "cell_type": "code",
   "execution_count": null,
   "metadata": {
    "id": "xHeGwPhS0uuL"
   },
   "outputs": [],
   "source": [
    "df=df.fillna('NA')"
   ]
  },
  {
   "cell_type": "code",
   "execution_count": null,
   "metadata": {
    "colab": {
     "base_uri": "https://localhost:8080/",
     "height": 542
    },
    "executionInfo": {
     "elapsed": 29850,
     "status": "ok",
     "timestamp": 1664268433629,
     "user": {
      "displayName": "Kshama Singhal",
      "userId": "01290402449884306325"
     },
     "user_tz": -330
    },
    "id": "hYDe-MAgz8vv",
    "outputId": "d252c87c-40ea-4fdd-da0e-319ae27341fd"
   },
   "outputs": [
    {
     "data": {
      "text/html": [
       "<html>\n",
       "<head><meta charset=\"utf-8\" /></head>\n",
       "<body>\n",
       "    <div>            <script src=\"https://cdnjs.cloudflare.com/ajax/libs/mathjax/2.7.5/MathJax.js?config=TeX-AMS-MML_SVG\"></script><script type=\"text/javascript\">if (window.MathJax && window.MathJax.Hub && window.MathJax.Hub.Config) {window.MathJax.Hub.Config({SVG: {font: \"STIX-Web\"}});}</script>                <script type=\"text/javascript\">window.PlotlyConfig = {MathJaxConfig: 'local'};</script>\n",
       "        <script src=\"https://cdn.plot.ly/plotly-2.14.0.min.js\"></script>                <div id=\"5859fe7d-68bc-4d1f-ae49-55ace3bab6e3\" class=\"plotly-graph-div\" style=\"height:525px; width:100%;\"></div>            <script type=\"text/javascript\">                                    window.PLOTLYENV=window.PLOTLYENV || {};                                    if (document.getElementById(\"5859fe7d-68bc-4d1f-ae49-55ace3bab6e3\")) {                    Plotly.newPlot(                        \"5859fe7d-68bc-4d1f-ae49-55ace3bab6e3\",                        [{\"branchvalues\":\"total\",\"domain\":{\"x\":[0.0,1.0],\"y\":[0.0,1.0]},\"hovertemplate\":\"labels=%{label}<br>PAIDUP_CAPITAL=%{value}<br>parent=%{parent}<br>id=%{id}<extra></extra>\",\"ids\":[\"India/Private/Andaman and Nicobar Islands\",\"India/Private(One Person Company)/Andaman and Nicobar Islands\",\"India/Public/Andaman and Nicobar Islands\",\"India/NA/Andhra Pradesh\",\"India/Private/Andhra Pradesh\",\"India/Private(One Person Company)/Andhra Pradesh\",\"India/Public/Andhra Pradesh\",\"India/Private/Arunachal Pradesh\",\"India/Private(One Person Company)/Arunachal Pradesh\",\"India/Public/Arunachal Pradesh\",\"India/NA/Assam\",\"India/Private/Assam\",\"India/Private(One Person Company)/Assam\",\"India/Public/Assam\",\"India/NA/Bihar\",\"India/Private/Bihar\",\"India/Private(One Person Company)/Bihar\",\"India/Public/Bihar\",\"India/NA/Chandigarh\",\"India/Private/Chandigarh\",\"India/Private(One Person Company)/Chandigarh\",\"India/Public/Chandigarh\",\"India/NA/Chattisgarh\",\"India/Private/Chattisgarh\",\"India/Private(One Person Company)/Chattisgarh\",\"India/Public/Chattisgarh\",\"India/Private/Dadra and Nagra Haveli\",\"India/Private(One Person Company)/Dadra and Nagra Haveli\",\"India/Public/Dadra and Nagra Haveli\",\"India/Private/Daman and Diu\",\"India/Private(One Person Company)/Daman and Diu\",\"India/Public/Daman and Diu\",\"India/NA/Delhi\",\"India/Private/Delhi\",\"India/Private(One Person Company)/Delhi\",\"India/Public/Delhi\",\"India/NA/Goa\",\"India/Private/Goa\",\"India/Private(One Person Company)/Goa\",\"India/Public/Goa\",\"India/NA/Gujarat\",\"India/Private/Gujarat\",\"India/Private(One Person Company)/Gujarat\",\"India/Public/Gujarat\",\"India/NA/Haryana\",\"India/Private/Haryana\",\"India/Private(One Person Company)/Haryana\",\"India/Public/Haryana\",\"India/NA/Himachal Pradesh\",\"India/Private/Himachal Pradesh\",\"India/Private(One Person Company)/Himachal Pradesh\",\"India/Public/Himachal Pradesh\",\"India/NA/Jammu and Kashmir\",\"India/Private/Jammu and Kashmir\",\"India/Private(One Person Company)/Jammu and Kashmir\",\"India/Public/Jammu and Kashmir\",\"India/NA/Jharkhand\",\"India/Private/Jharkhand\",\"India/Private(One Person Company)/Jharkhand\",\"India/Public/Jharkhand\",\"India/NA/Karnataka\",\"India/Private/Karnataka\",\"India/Private(One Person Company)/Karnataka\",\"India/Public/Karnataka\",\"India/NA/Kerala\",\"India/Private/Kerala\",\"India/Private(One Person Company)/Kerala\",\"India/Public/Kerala\",\"India/Private/Lakshadweep\",\"India/Public/Lakshadweep\",\"India/NA/Madhya Pradesh\",\"India/Private/Madhya Pradesh\",\"India/Private(One Person Company)/Madhya Pradesh\",\"India/Public/Madhya Pradesh\",\"India/NA/Maharashtra\",\"India/Private/Maharashtra\",\"India/Private(One Person Company)/Maharashtra\",\"India/Public/Maharashtra\",\"India/NA/Manipur\",\"India/Private/Manipur\",\"India/Private(One Person Company)/Manipur\",\"India/Public/Manipur\",\"India/Private/Meghalaya\",\"India/Private(One Person Company)/Meghalaya\",\"India/Public/Meghalaya\",\"India/Private/Mizoram\",\"India/Private(One Person Company)/Mizoram\",\"India/Public/Mizoram\",\"India/Private/Nagaland\",\"India/Private(One Person Company)/Nagaland\",\"India/Public/Nagaland\",\"India/NA/Orissa\",\"India/Private/Orissa\",\"India/Private(One Person Company)/Orissa\",\"India/Public/Orissa\",\"India/NA/Pondicherry\",\"India/Private/Pondicherry\",\"India/Private(One Person Company)/Pondicherry\",\"India/Public/Pondicherry\",\"India/NA/Punjab\",\"India/Private/Punjab\",\"India/Private(One Person Company)/Punjab\",\"India/Public/Punjab\",\"India/NA/Rajasthan\",\"India/Private/Rajasthan\",\"India/Private(One Person Company)/Rajasthan\",\"India/Public/Rajasthan\",\"India/Private/Sikkim\",\"India/NA/Tamil Nadu\",\"India/Private/Tamil Nadu\",\"India/Private(One Person Company)/Tamil Nadu\",\"India/Public/Tamil Nadu\",\"India/NA/Telangana\",\"India/Private/Telangana\",\"India/Private(One Person Company)/Telangana\",\"India/Public/Telangana\",\"India/Private/Tripura\",\"India/Private(One Person Company)/Tripura\",\"India/Public/Tripura\",\"India/NA/Uttar Pradesh\",\"India/Private/Uttar Pradesh\",\"India/Private(One Person Company)/Uttar Pradesh\",\"India/Public/Uttar Pradesh\",\"India/NA/Uttaranchal\",\"India/Private/Uttaranchal\",\"India/Private(One Person Company)/Uttaranchal\",\"India/Public/Uttaranchal\",\"India/NA/West Bengal\",\"India/Private/West Bengal\",\"India/Private(One Person Company)/West Bengal\",\"India/Public/West Bengal\",\"India/NA\",\"India/Private\",\"India/Private(One Person Company)\",\"India/Public\",\"India\"],\"labels\":[\"Andaman and Nicobar Islands\",\"Andaman and Nicobar Islands\",\"Andaman and Nicobar Islands\",\"Andhra Pradesh\",\"Andhra Pradesh\",\"Andhra Pradesh\",\"Andhra Pradesh\",\"Arunachal Pradesh\",\"Arunachal Pradesh\",\"Arunachal Pradesh\",\"Assam\",\"Assam\",\"Assam\",\"Assam\",\"Bihar\",\"Bihar\",\"Bihar\",\"Bihar\",\"Chandigarh\",\"Chandigarh\",\"Chandigarh\",\"Chandigarh\",\"Chattisgarh\",\"Chattisgarh\",\"Chattisgarh\",\"Chattisgarh\",\"Dadra and Nagra Haveli\",\"Dadra and Nagra Haveli\",\"Dadra and Nagra Haveli\",\"Daman and Diu\",\"Daman and Diu\",\"Daman and Diu\",\"Delhi\",\"Delhi\",\"Delhi\",\"Delhi\",\"Goa\",\"Goa\",\"Goa\",\"Goa\",\"Gujarat\",\"Gujarat\",\"Gujarat\",\"Gujarat\",\"Haryana\",\"Haryana\",\"Haryana\",\"Haryana\",\"Himachal Pradesh\",\"Himachal Pradesh\",\"Himachal Pradesh\",\"Himachal Pradesh\",\"Jammu and Kashmir\",\"Jammu and Kashmir\",\"Jammu and Kashmir\",\"Jammu and Kashmir\",\"Jharkhand\",\"Jharkhand\",\"Jharkhand\",\"Jharkhand\",\"Karnataka\",\"Karnataka\",\"Karnataka\",\"Karnataka\",\"Kerala\",\"Kerala\",\"Kerala\",\"Kerala\",\"Lakshadweep\",\"Lakshadweep\",\"Madhya Pradesh\",\"Madhya Pradesh\",\"Madhya Pradesh\",\"Madhya Pradesh\",\"Maharashtra\",\"Maharashtra\",\"Maharashtra\",\"Maharashtra\",\"Manipur\",\"Manipur\",\"Manipur\",\"Manipur\",\"Meghalaya\",\"Meghalaya\",\"Meghalaya\",\"Mizoram\",\"Mizoram\",\"Mizoram\",\"Nagaland\",\"Nagaland\",\"Nagaland\",\"Orissa\",\"Orissa\",\"Orissa\",\"Orissa\",\"Pondicherry\",\"Pondicherry\",\"Pondicherry\",\"Pondicherry\",\"Punjab\",\"Punjab\",\"Punjab\",\"Punjab\",\"Rajasthan\",\"Rajasthan\",\"Rajasthan\",\"Rajasthan\",\"Sikkim\",\"Tamil Nadu\",\"Tamil Nadu\",\"Tamil Nadu\",\"Tamil Nadu\",\"Telangana\",\"Telangana\",\"Telangana\",\"Telangana\",\"Tripura\",\"Tripura\",\"Tripura\",\"Uttar Pradesh\",\"Uttar Pradesh\",\"Uttar Pradesh\",\"Uttar Pradesh\",\"Uttaranchal\",\"Uttaranchal\",\"Uttaranchal\",\"Uttaranchal\",\"West Bengal\",\"West Bengal\",\"West Bengal\",\"West Bengal\",\"NA\",\"Private\",\"Private(One Person Company)\",\"Public\",\"India\"],\"name\":\"\",\"parents\":[\"India/Private\",\"India/Private(One Person Company)\",\"India/Public\",\"India/NA\",\"India/Private\",\"India/Private(One Person Company)\",\"India/Public\",\"India/Private\",\"India/Private(One Person Company)\",\"India/Public\",\"India/NA\",\"India/Private\",\"India/Private(One Person Company)\",\"India/Public\",\"India/NA\",\"India/Private\",\"India/Private(One Person Company)\",\"India/Public\",\"India/NA\",\"India/Private\",\"India/Private(One Person Company)\",\"India/Public\",\"India/NA\",\"India/Private\",\"India/Private(One Person Company)\",\"India/Public\",\"India/Private\",\"India/Private(One Person Company)\",\"India/Public\",\"India/Private\",\"India/Private(One Person Company)\",\"India/Public\",\"India/NA\",\"India/Private\",\"India/Private(One Person Company)\",\"India/Public\",\"India/NA\",\"India/Private\",\"India/Private(One Person Company)\",\"India/Public\",\"India/NA\",\"India/Private\",\"India/Private(One Person Company)\",\"India/Public\",\"India/NA\",\"India/Private\",\"India/Private(One Person Company)\",\"India/Public\",\"India/NA\",\"India/Private\",\"India/Private(One Person Company)\",\"India/Public\",\"India/NA\",\"India/Private\",\"India/Private(One Person Company)\",\"India/Public\",\"India/NA\",\"India/Private\",\"India/Private(One Person Company)\",\"India/Public\",\"India/NA\",\"India/Private\",\"India/Private(One Person Company)\",\"India/Public\",\"India/NA\",\"India/Private\",\"India/Private(One Person Company)\",\"India/Public\",\"India/Private\",\"India/Public\",\"India/NA\",\"India/Private\",\"India/Private(One Person Company)\",\"India/Public\",\"India/NA\",\"India/Private\",\"India/Private(One Person Company)\",\"India/Public\",\"India/NA\",\"India/Private\",\"India/Private(One Person Company)\",\"India/Public\",\"India/Private\",\"India/Private(One Person Company)\",\"India/Public\",\"India/Private\",\"India/Private(One Person Company)\",\"India/Public\",\"India/Private\",\"India/Private(One Person Company)\",\"India/Public\",\"India/NA\",\"India/Private\",\"India/Private(One Person Company)\",\"India/Public\",\"India/NA\",\"India/Private\",\"India/Private(One Person Company)\",\"India/Public\",\"India/NA\",\"India/Private\",\"India/Private(One Person Company)\",\"India/Public\",\"India/NA\",\"India/Private\",\"India/Private(One Person Company)\",\"India/Public\",\"India/Private\",\"India/NA\",\"India/Private\",\"India/Private(One Person Company)\",\"India/Public\",\"India/NA\",\"India/Private\",\"India/Private(One Person Company)\",\"India/Public\",\"India/Private\",\"India/Private(One Person Company)\",\"India/Public\",\"India/NA\",\"India/Private\",\"India/Private(One Person Company)\",\"India/Public\",\"India/NA\",\"India/Private\",\"India/Private(One Person Company)\",\"India/Public\",\"India/NA\",\"India/Private\",\"India/Private(One Person Company)\",\"India/Public\",\"India\",\"India\",\"India\",\"India\",\"\"],\"values\":[720326890.0,1050000.0,58098000.0,400000.0,318093204564.69995,139300401.0,208856412822.52002,4289210960.0,900000.0,2410432190.0,0.0,47196212698.0,40866410.0,84390705778.0,5000.0,56516797773.47,274036990.0,712153081426.11,5000000.0,43515759037.22,19933210.0,45794544852.25,300.0,58176864118.0,41890000.0,209403507740.0,4143972930.0,414000.0,39825165364.0,9010922367.0,855000.0,6124677610.0,25837758.0,3398440259219.5503,523943401.0,4268532682217.7,4000000.0,38465132089.55,21674000.0,23696690992.0,4886000.0,1903335545403.8298,120488301.0,6115417610431.43,3000.0,896349502677.44,156664000.0,877919899859.0,0.0,62758726405.0,23596000.0,127069791885.0,0.0,30082096181.0,31483000.0,6173608822.0,0.0,72195681643.0,89783707.0,149110479538.85,3117617.0,1562228215424.8997,397772211.0,1437445209142.7202,1356865.0,246836652075.81,107262000.0,219690593160.22003,69088500.0,0.0,152020.0,125766290232.85,104584000.0,716146271938.6301,2000.0,3903162482480.421,600639533.0,7971566583725.31,0.0,2119308760.0,5680100.0,2601620940.0,7969217188.8,1590000.0,85387699596.0,634992870.0,4800000.0,366864937.0,2692274015.0,1020000.0,707604150.0,60000.0,103458785793.45,143896010.0,231716463001.0,0.0,24626865174.0,6218030.0,4007968407.0,3251100.0,106353666743.75,60275000.0,353885137982.5,150000.0,171957342283.5,97569101.0,640641811395.44,200000.0,466100.0,1735125708064.5503,375758941.0,1778017644451.46,320000.0,775883070694.6901,268291100.0,1196338466720.2998,2132256944.0,3821000.0,24406579143.0,239000.0,312883840757.37006,439578296.0,2155977224193.49,3670000.0,25449562788.0,43198000.0,87290661411.0,600200.0,1379188800115.93,191715000.0,1282427221641.2,53516960.0,17431828835864.775,4340546742.0,31065559015465.13,48501781915031.914],\"type\":\"treemap\"}],                        {\"template\":{\"data\":{\"histogram2dcontour\":[{\"type\":\"histogram2dcontour\",\"colorbar\":{\"outlinewidth\":0,\"ticks\":\"\"},\"colorscale\":[[0.0,\"#0d0887\"],[0.1111111111111111,\"#46039f\"],[0.2222222222222222,\"#7201a8\"],[0.3333333333333333,\"#9c179e\"],[0.4444444444444444,\"#bd3786\"],[0.5555555555555556,\"#d8576b\"],[0.6666666666666666,\"#ed7953\"],[0.7777777777777778,\"#fb9f3a\"],[0.8888888888888888,\"#fdca26\"],[1.0,\"#f0f921\"]]}],\"choropleth\":[{\"type\":\"choropleth\",\"colorbar\":{\"outlinewidth\":0,\"ticks\":\"\"}}],\"histogram2d\":[{\"type\":\"histogram2d\",\"colorbar\":{\"outlinewidth\":0,\"ticks\":\"\"},\"colorscale\":[[0.0,\"#0d0887\"],[0.1111111111111111,\"#46039f\"],[0.2222222222222222,\"#7201a8\"],[0.3333333333333333,\"#9c179e\"],[0.4444444444444444,\"#bd3786\"],[0.5555555555555556,\"#d8576b\"],[0.6666666666666666,\"#ed7953\"],[0.7777777777777778,\"#fb9f3a\"],[0.8888888888888888,\"#fdca26\"],[1.0,\"#f0f921\"]]}],\"heatmap\":[{\"type\":\"heatmap\",\"colorbar\":{\"outlinewidth\":0,\"ticks\":\"\"},\"colorscale\":[[0.0,\"#0d0887\"],[0.1111111111111111,\"#46039f\"],[0.2222222222222222,\"#7201a8\"],[0.3333333333333333,\"#9c179e\"],[0.4444444444444444,\"#bd3786\"],[0.5555555555555556,\"#d8576b\"],[0.6666666666666666,\"#ed7953\"],[0.7777777777777778,\"#fb9f3a\"],[0.8888888888888888,\"#fdca26\"],[1.0,\"#f0f921\"]]}],\"heatmapgl\":[{\"type\":\"heatmapgl\",\"colorbar\":{\"outlinewidth\":0,\"ticks\":\"\"},\"colorscale\":[[0.0,\"#0d0887\"],[0.1111111111111111,\"#46039f\"],[0.2222222222222222,\"#7201a8\"],[0.3333333333333333,\"#9c179e\"],[0.4444444444444444,\"#bd3786\"],[0.5555555555555556,\"#d8576b\"],[0.6666666666666666,\"#ed7953\"],[0.7777777777777778,\"#fb9f3a\"],[0.8888888888888888,\"#fdca26\"],[1.0,\"#f0f921\"]]}],\"contourcarpet\":[{\"type\":\"contourcarpet\",\"colorbar\":{\"outlinewidth\":0,\"ticks\":\"\"}}],\"contour\":[{\"type\":\"contour\",\"colorbar\":{\"outlinewidth\":0,\"ticks\":\"\"},\"colorscale\":[[0.0,\"#0d0887\"],[0.1111111111111111,\"#46039f\"],[0.2222222222222222,\"#7201a8\"],[0.3333333333333333,\"#9c179e\"],[0.4444444444444444,\"#bd3786\"],[0.5555555555555556,\"#d8576b\"],[0.6666666666666666,\"#ed7953\"],[0.7777777777777778,\"#fb9f3a\"],[0.8888888888888888,\"#fdca26\"],[1.0,\"#f0f921\"]]}],\"surface\":[{\"type\":\"surface\",\"colorbar\":{\"outlinewidth\":0,\"ticks\":\"\"},\"colorscale\":[[0.0,\"#0d0887\"],[0.1111111111111111,\"#46039f\"],[0.2222222222222222,\"#7201a8\"],[0.3333333333333333,\"#9c179e\"],[0.4444444444444444,\"#bd3786\"],[0.5555555555555556,\"#d8576b\"],[0.6666666666666666,\"#ed7953\"],[0.7777777777777778,\"#fb9f3a\"],[0.8888888888888888,\"#fdca26\"],[1.0,\"#f0f921\"]]}],\"mesh3d\":[{\"type\":\"mesh3d\",\"colorbar\":{\"outlinewidth\":0,\"ticks\":\"\"}}],\"scatter\":[{\"fillpattern\":{\"fillmode\":\"overlay\",\"size\":10,\"solidity\":0.2},\"type\":\"scatter\"}],\"parcoords\":[{\"type\":\"parcoords\",\"line\":{\"colorbar\":{\"outlinewidth\":0,\"ticks\":\"\"}}}],\"scatterpolargl\":[{\"type\":\"scatterpolargl\",\"marker\":{\"colorbar\":{\"outlinewidth\":0,\"ticks\":\"\"}}}],\"bar\":[{\"error_x\":{\"color\":\"#2a3f5f\"},\"error_y\":{\"color\":\"#2a3f5f\"},\"marker\":{\"line\":{\"color\":\"#E5ECF6\",\"width\":0.5},\"pattern\":{\"fillmode\":\"overlay\",\"size\":10,\"solidity\":0.2}},\"type\":\"bar\"}],\"scattergeo\":[{\"type\":\"scattergeo\",\"marker\":{\"colorbar\":{\"outlinewidth\":0,\"ticks\":\"\"}}}],\"scatterpolar\":[{\"type\":\"scatterpolar\",\"marker\":{\"colorbar\":{\"outlinewidth\":0,\"ticks\":\"\"}}}],\"histogram\":[{\"marker\":{\"pattern\":{\"fillmode\":\"overlay\",\"size\":10,\"solidity\":0.2}},\"type\":\"histogram\"}],\"scattergl\":[{\"type\":\"scattergl\",\"marker\":{\"colorbar\":{\"outlinewidth\":0,\"ticks\":\"\"}}}],\"scatter3d\":[{\"type\":\"scatter3d\",\"line\":{\"colorbar\":{\"outlinewidth\":0,\"ticks\":\"\"}},\"marker\":{\"colorbar\":{\"outlinewidth\":0,\"ticks\":\"\"}}}],\"scattermapbox\":[{\"type\":\"scattermapbox\",\"marker\":{\"colorbar\":{\"outlinewidth\":0,\"ticks\":\"\"}}}],\"scatterternary\":[{\"type\":\"scatterternary\",\"marker\":{\"colorbar\":{\"outlinewidth\":0,\"ticks\":\"\"}}}],\"scattercarpet\":[{\"type\":\"scattercarpet\",\"marker\":{\"colorbar\":{\"outlinewidth\":0,\"ticks\":\"\"}}}],\"carpet\":[{\"aaxis\":{\"endlinecolor\":\"#2a3f5f\",\"gridcolor\":\"white\",\"linecolor\":\"white\",\"minorgridcolor\":\"white\",\"startlinecolor\":\"#2a3f5f\"},\"baxis\":{\"endlinecolor\":\"#2a3f5f\",\"gridcolor\":\"white\",\"linecolor\":\"white\",\"minorgridcolor\":\"white\",\"startlinecolor\":\"#2a3f5f\"},\"type\":\"carpet\"}],\"table\":[{\"cells\":{\"fill\":{\"color\":\"#EBF0F8\"},\"line\":{\"color\":\"white\"}},\"header\":{\"fill\":{\"color\":\"#C8D4E3\"},\"line\":{\"color\":\"white\"}},\"type\":\"table\"}],\"barpolar\":[{\"marker\":{\"line\":{\"color\":\"#E5ECF6\",\"width\":0.5},\"pattern\":{\"fillmode\":\"overlay\",\"size\":10,\"solidity\":0.2}},\"type\":\"barpolar\"}],\"pie\":[{\"automargin\":true,\"type\":\"pie\"}]},\"layout\":{\"autotypenumbers\":\"strict\",\"colorway\":[\"#636efa\",\"#EF553B\",\"#00cc96\",\"#ab63fa\",\"#FFA15A\",\"#19d3f3\",\"#FF6692\",\"#B6E880\",\"#FF97FF\",\"#FECB52\"],\"font\":{\"color\":\"#2a3f5f\"},\"hovermode\":\"closest\",\"hoverlabel\":{\"align\":\"left\"},\"paper_bgcolor\":\"white\",\"plot_bgcolor\":\"#E5ECF6\",\"polar\":{\"bgcolor\":\"#E5ECF6\",\"angularaxis\":{\"gridcolor\":\"white\",\"linecolor\":\"white\",\"ticks\":\"\"},\"radialaxis\":{\"gridcolor\":\"white\",\"linecolor\":\"white\",\"ticks\":\"\"}},\"ternary\":{\"bgcolor\":\"#E5ECF6\",\"aaxis\":{\"gridcolor\":\"white\",\"linecolor\":\"white\",\"ticks\":\"\"},\"baxis\":{\"gridcolor\":\"white\",\"linecolor\":\"white\",\"ticks\":\"\"},\"caxis\":{\"gridcolor\":\"white\",\"linecolor\":\"white\",\"ticks\":\"\"}},\"coloraxis\":{\"colorbar\":{\"outlinewidth\":0,\"ticks\":\"\"}},\"colorscale\":{\"sequential\":[[0.0,\"#0d0887\"],[0.1111111111111111,\"#46039f\"],[0.2222222222222222,\"#7201a8\"],[0.3333333333333333,\"#9c179e\"],[0.4444444444444444,\"#bd3786\"],[0.5555555555555556,\"#d8576b\"],[0.6666666666666666,\"#ed7953\"],[0.7777777777777778,\"#fb9f3a\"],[0.8888888888888888,\"#fdca26\"],[1.0,\"#f0f921\"]],\"sequentialminus\":[[0.0,\"#0d0887\"],[0.1111111111111111,\"#46039f\"],[0.2222222222222222,\"#7201a8\"],[0.3333333333333333,\"#9c179e\"],[0.4444444444444444,\"#bd3786\"],[0.5555555555555556,\"#d8576b\"],[0.6666666666666666,\"#ed7953\"],[0.7777777777777778,\"#fb9f3a\"],[0.8888888888888888,\"#fdca26\"],[1.0,\"#f0f921\"]],\"diverging\":[[0,\"#8e0152\"],[0.1,\"#c51b7d\"],[0.2,\"#de77ae\"],[0.3,\"#f1b6da\"],[0.4,\"#fde0ef\"],[0.5,\"#f7f7f7\"],[0.6,\"#e6f5d0\"],[0.7,\"#b8e186\"],[0.8,\"#7fbc41\"],[0.9,\"#4d9221\"],[1,\"#276419\"]]},\"xaxis\":{\"gridcolor\":\"white\",\"linecolor\":\"white\",\"ticks\":\"\",\"title\":{\"standoff\":15},\"zerolinecolor\":\"white\",\"automargin\":true,\"zerolinewidth\":2},\"yaxis\":{\"gridcolor\":\"white\",\"linecolor\":\"white\",\"ticks\":\"\",\"title\":{\"standoff\":15},\"zerolinecolor\":\"white\",\"automargin\":true,\"zerolinewidth\":2},\"scene\":{\"xaxis\":{\"backgroundcolor\":\"#E5ECF6\",\"gridcolor\":\"white\",\"linecolor\":\"white\",\"showbackground\":true,\"ticks\":\"\",\"zerolinecolor\":\"white\",\"gridwidth\":2},\"yaxis\":{\"backgroundcolor\":\"#E5ECF6\",\"gridcolor\":\"white\",\"linecolor\":\"white\",\"showbackground\":true,\"ticks\":\"\",\"zerolinecolor\":\"white\",\"gridwidth\":2},\"zaxis\":{\"backgroundcolor\":\"#E5ECF6\",\"gridcolor\":\"white\",\"linecolor\":\"white\",\"showbackground\":true,\"ticks\":\"\",\"zerolinecolor\":\"white\",\"gridwidth\":2}},\"shapedefaults\":{\"line\":{\"color\":\"#2a3f5f\"}},\"annotationdefaults\":{\"arrowcolor\":\"#2a3f5f\",\"arrowhead\":0,\"arrowwidth\":1},\"geo\":{\"bgcolor\":\"white\",\"landcolor\":\"#E5ECF6\",\"subunitcolor\":\"white\",\"showland\":true,\"showlakes\":true,\"lakecolor\":\"white\"},\"title\":{\"x\":0.05},\"mapbox\":{\"style\":\"light\"}}},\"legend\":{\"tracegroupgap\":0},\"margin\":{\"t\":60},\"treemapcolorway\":[\"#0d0887\",\"#46039f\",\"#7201a8\",\"#9c179e\",\"#bd3786\",\"#d8576b\",\"#ed7953\",\"#fb9f3a\",\"#fdca26\",\"#f0f921\"]},                        {\"responsive\": true}                    ).then(function(){\n",
       "                            \n",
       "var gd = document.getElementById('5859fe7d-68bc-4d1f-ae49-55ace3bab6e3');\n",
       "var x = new MutationObserver(function (mutations, observer) {{\n",
       "        var display = window.getComputedStyle(gd).display;\n",
       "        if (!display || display === 'none') {{\n",
       "            console.log([gd, 'removed!']);\n",
       "            Plotly.purge(gd);\n",
       "            observer.disconnect();\n",
       "        }}\n",
       "}});\n",
       "\n",
       "// Listen for the removal of the full notebook cells\n",
       "var notebookContainer = gd.closest('#notebook-container');\n",
       "if (notebookContainer) {{\n",
       "    x.observe(notebookContainer, {childList: true});\n",
       "}}\n",
       "\n",
       "// Listen for the clearing of the current output cell\n",
       "var outputEl = gd.closest('.output');\n",
       "if (outputEl) {{\n",
       "    x.observe(outputEl, {childList: true});\n",
       "}}\n",
       "\n",
       "                        })                };                            </script>        </div>\n",
       "</body>\n",
       "</html>"
      ]
     },
     "metadata": {},
     "output_type": "display_data"
    }
   ],
   "source": [
    "fig=px.treemap(df,\n",
    "            path=['COUNTRY','COMPANY_CLASS','REGISTERED_STATE'],\n",
    "            values='PAIDUP_CAPITAL',\n",
    "            color_discrete_sequence=px.colors.sequential.Plasma\n",
    "            )\n",
    "fig"
   ]
  },
  {
   "cell_type": "markdown",
   "metadata": {
    "id": "Z7CBEQRcjhNg"
   },
   "source": [
    "Most of the companies are Public with highest paidup capital.\n",
    "\n",
    "Maharashtra, Gujarat, Delhi, Uttar Pradesh, Tamil Nadu are the top 5 states having highest number of Public companies with highest paidup capital.\n",
    "\n",
    "Maharashtra, Delhi, Gujarat, Tamil Nadu, Karnataka are the top 5 states having highest number of Private companies with highest paidup capital."
   ]
  },
  {
   "cell_type": "markdown",
   "metadata": {
    "id": "kLfOyRvCI07V"
   },
   "source": [
    "#### 6. Which are the top 5 companies according to authorized cap? Are the same companies among top 5 according to paidup capital also?"
   ]
  },
  {
   "cell_type": "markdown",
   "metadata": {
    "id": "ivIX4woKVxYJ"
   },
   "source": [
    "To answer this question first we will make two different dataframes with 5 top companies with highest authorized cap and paidup capital respectively. Then, will visualize this."
   ]
  },
  {
   "cell_type": "code",
   "execution_count": null,
   "metadata": {
    "id": "wwyOBS4xJ-9Q"
   },
   "outputs": [],
   "source": [
    "new_df1=df[['COMPANY_NAME','PAIDUP_CAPITAL']].sort_values(by='PAIDUP_CAPITAL',ascending=False).head(5)\n",
    "new_df2=df[['COMPANY_NAME','AUTHORIZED_CAP']].sort_values(by='AUTHORIZED_CAP',ascending=False).head(5)"
   ]
  },
  {
   "cell_type": "code",
   "execution_count": null,
   "metadata": {
    "colab": {
     "base_uri": "https://localhost:8080/",
     "height": 542
    },
    "executionInfo": {
     "elapsed": 744,
     "status": "ok",
     "timestamp": 1664271953591,
     "user": {
      "displayName": "Kshama Singhal",
      "userId": "01290402449884306325"
     },
     "user_tz": -330
    },
    "id": "XzYLVxl-Vepg",
    "outputId": "48093139-ed63-4d57-af67-5afe52705fa9"
   },
   "outputs": [
    {
     "data": {
      "text/html": [
       "<html>\n",
       "<head><meta charset=\"utf-8\" /></head>\n",
       "<body>\n",
       "    <div>            <script src=\"https://cdnjs.cloudflare.com/ajax/libs/mathjax/2.7.5/MathJax.js?config=TeX-AMS-MML_SVG\"></script><script type=\"text/javascript\">if (window.MathJax && window.MathJax.Hub && window.MathJax.Hub.Config) {window.MathJax.Hub.Config({SVG: {font: \"STIX-Web\"}});}</script>                <script type=\"text/javascript\">window.PlotlyConfig = {MathJaxConfig: 'local'};</script>\n",
       "        <script src=\"https://cdn.plot.ly/plotly-2.14.0.min.js\"></script>                <div id=\"222cffcb-07dd-4016-8eb7-a92cc3b609e4\" class=\"plotly-graph-div\" style=\"height:525px; width:100%;\"></div>            <script type=\"text/javascript\">                                    window.PLOTLYENV=window.PLOTLYENV || {};                                    if (document.getElementById(\"222cffcb-07dd-4016-8eb7-a92cc3b609e4\")) {                    Plotly.newPlot(                        \"222cffcb-07dd-4016-8eb7-a92cc3b609e4\",                        [{\"alignmentgroup\":\"True\",\"hovertemplate\":\"AUTHORIZED_CAP=%{x}<br>COMPANY_NAME=%{y}<extra></extra>\",\"legendgroup\":\"\",\"marker\":{\"color\":\"#0d0887\",\"pattern\":{\"shape\":\"\"}},\"name\":\"\",\"offsetgroup\":\"\",\"orientation\":\"h\",\"showlegend\":false,\"textposition\":\"auto\",\"x\":[1850000000000.0,1600000000000.0,1250000000000.0,999999999990.0,990000000000.0],\"xaxis\":\"x\",\"y\":[\"JIO PLATFORMS LIMITED   \",\"RELIANCE JIO INFOCOMM LIMITED   \",\"U. P. POWER CORPORATION LIMITED   \",\"TATA TELESERVICES LIMITED   \",\"MSEB HOLDING COMPANY LIMITED   \"],\"yaxis\":\"y\",\"type\":\"bar\"}],                        {\"template\":{\"data\":{\"histogram2dcontour\":[{\"type\":\"histogram2dcontour\",\"colorbar\":{\"outlinewidth\":0,\"ticks\":\"\"},\"colorscale\":[[0.0,\"#0d0887\"],[0.1111111111111111,\"#46039f\"],[0.2222222222222222,\"#7201a8\"],[0.3333333333333333,\"#9c179e\"],[0.4444444444444444,\"#bd3786\"],[0.5555555555555556,\"#d8576b\"],[0.6666666666666666,\"#ed7953\"],[0.7777777777777778,\"#fb9f3a\"],[0.8888888888888888,\"#fdca26\"],[1.0,\"#f0f921\"]]}],\"choropleth\":[{\"type\":\"choropleth\",\"colorbar\":{\"outlinewidth\":0,\"ticks\":\"\"}}],\"histogram2d\":[{\"type\":\"histogram2d\",\"colorbar\":{\"outlinewidth\":0,\"ticks\":\"\"},\"colorscale\":[[0.0,\"#0d0887\"],[0.1111111111111111,\"#46039f\"],[0.2222222222222222,\"#7201a8\"],[0.3333333333333333,\"#9c179e\"],[0.4444444444444444,\"#bd3786\"],[0.5555555555555556,\"#d8576b\"],[0.6666666666666666,\"#ed7953\"],[0.7777777777777778,\"#fb9f3a\"],[0.8888888888888888,\"#fdca26\"],[1.0,\"#f0f921\"]]}],\"heatmap\":[{\"type\":\"heatmap\",\"colorbar\":{\"outlinewidth\":0,\"ticks\":\"\"},\"colorscale\":[[0.0,\"#0d0887\"],[0.1111111111111111,\"#46039f\"],[0.2222222222222222,\"#7201a8\"],[0.3333333333333333,\"#9c179e\"],[0.4444444444444444,\"#bd3786\"],[0.5555555555555556,\"#d8576b\"],[0.6666666666666666,\"#ed7953\"],[0.7777777777777778,\"#fb9f3a\"],[0.8888888888888888,\"#fdca26\"],[1.0,\"#f0f921\"]]}],\"heatmapgl\":[{\"type\":\"heatmapgl\",\"colorbar\":{\"outlinewidth\":0,\"ticks\":\"\"},\"colorscale\":[[0.0,\"#0d0887\"],[0.1111111111111111,\"#46039f\"],[0.2222222222222222,\"#7201a8\"],[0.3333333333333333,\"#9c179e\"],[0.4444444444444444,\"#bd3786\"],[0.5555555555555556,\"#d8576b\"],[0.6666666666666666,\"#ed7953\"],[0.7777777777777778,\"#fb9f3a\"],[0.8888888888888888,\"#fdca26\"],[1.0,\"#f0f921\"]]}],\"contourcarpet\":[{\"type\":\"contourcarpet\",\"colorbar\":{\"outlinewidth\":0,\"ticks\":\"\"}}],\"contour\":[{\"type\":\"contour\",\"colorbar\":{\"outlinewidth\":0,\"ticks\":\"\"},\"colorscale\":[[0.0,\"#0d0887\"],[0.1111111111111111,\"#46039f\"],[0.2222222222222222,\"#7201a8\"],[0.3333333333333333,\"#9c179e\"],[0.4444444444444444,\"#bd3786\"],[0.5555555555555556,\"#d8576b\"],[0.6666666666666666,\"#ed7953\"],[0.7777777777777778,\"#fb9f3a\"],[0.8888888888888888,\"#fdca26\"],[1.0,\"#f0f921\"]]}],\"surface\":[{\"type\":\"surface\",\"colorbar\":{\"outlinewidth\":0,\"ticks\":\"\"},\"colorscale\":[[0.0,\"#0d0887\"],[0.1111111111111111,\"#46039f\"],[0.2222222222222222,\"#7201a8\"],[0.3333333333333333,\"#9c179e\"],[0.4444444444444444,\"#bd3786\"],[0.5555555555555556,\"#d8576b\"],[0.6666666666666666,\"#ed7953\"],[0.7777777777777778,\"#fb9f3a\"],[0.8888888888888888,\"#fdca26\"],[1.0,\"#f0f921\"]]}],\"mesh3d\":[{\"type\":\"mesh3d\",\"colorbar\":{\"outlinewidth\":0,\"ticks\":\"\"}}],\"scatter\":[{\"fillpattern\":{\"fillmode\":\"overlay\",\"size\":10,\"solidity\":0.2},\"type\":\"scatter\"}],\"parcoords\":[{\"type\":\"parcoords\",\"line\":{\"colorbar\":{\"outlinewidth\":0,\"ticks\":\"\"}}}],\"scatterpolargl\":[{\"type\":\"scatterpolargl\",\"marker\":{\"colorbar\":{\"outlinewidth\":0,\"ticks\":\"\"}}}],\"bar\":[{\"error_x\":{\"color\":\"#2a3f5f\"},\"error_y\":{\"color\":\"#2a3f5f\"},\"marker\":{\"line\":{\"color\":\"#E5ECF6\",\"width\":0.5},\"pattern\":{\"fillmode\":\"overlay\",\"size\":10,\"solidity\":0.2}},\"type\":\"bar\"}],\"scattergeo\":[{\"type\":\"scattergeo\",\"marker\":{\"colorbar\":{\"outlinewidth\":0,\"ticks\":\"\"}}}],\"scatterpolar\":[{\"type\":\"scatterpolar\",\"marker\":{\"colorbar\":{\"outlinewidth\":0,\"ticks\":\"\"}}}],\"histogram\":[{\"marker\":{\"pattern\":{\"fillmode\":\"overlay\",\"size\":10,\"solidity\":0.2}},\"type\":\"histogram\"}],\"scattergl\":[{\"type\":\"scattergl\",\"marker\":{\"colorbar\":{\"outlinewidth\":0,\"ticks\":\"\"}}}],\"scatter3d\":[{\"type\":\"scatter3d\",\"line\":{\"colorbar\":{\"outlinewidth\":0,\"ticks\":\"\"}},\"marker\":{\"colorbar\":{\"outlinewidth\":0,\"ticks\":\"\"}}}],\"scattermapbox\":[{\"type\":\"scattermapbox\",\"marker\":{\"colorbar\":{\"outlinewidth\":0,\"ticks\":\"\"}}}],\"scatterternary\":[{\"type\":\"scatterternary\",\"marker\":{\"colorbar\":{\"outlinewidth\":0,\"ticks\":\"\"}}}],\"scattercarpet\":[{\"type\":\"scattercarpet\",\"marker\":{\"colorbar\":{\"outlinewidth\":0,\"ticks\":\"\"}}}],\"carpet\":[{\"aaxis\":{\"endlinecolor\":\"#2a3f5f\",\"gridcolor\":\"white\",\"linecolor\":\"white\",\"minorgridcolor\":\"white\",\"startlinecolor\":\"#2a3f5f\"},\"baxis\":{\"endlinecolor\":\"#2a3f5f\",\"gridcolor\":\"white\",\"linecolor\":\"white\",\"minorgridcolor\":\"white\",\"startlinecolor\":\"#2a3f5f\"},\"type\":\"carpet\"}],\"table\":[{\"cells\":{\"fill\":{\"color\":\"#EBF0F8\"},\"line\":{\"color\":\"white\"}},\"header\":{\"fill\":{\"color\":\"#C8D4E3\"},\"line\":{\"color\":\"white\"}},\"type\":\"table\"}],\"barpolar\":[{\"marker\":{\"line\":{\"color\":\"#E5ECF6\",\"width\":0.5},\"pattern\":{\"fillmode\":\"overlay\",\"size\":10,\"solidity\":0.2}},\"type\":\"barpolar\"}],\"pie\":[{\"automargin\":true,\"type\":\"pie\"}]},\"layout\":{\"autotypenumbers\":\"strict\",\"colorway\":[\"#636efa\",\"#EF553B\",\"#00cc96\",\"#ab63fa\",\"#FFA15A\",\"#19d3f3\",\"#FF6692\",\"#B6E880\",\"#FF97FF\",\"#FECB52\"],\"font\":{\"color\":\"#2a3f5f\"},\"hovermode\":\"closest\",\"hoverlabel\":{\"align\":\"left\"},\"paper_bgcolor\":\"white\",\"plot_bgcolor\":\"#E5ECF6\",\"polar\":{\"bgcolor\":\"#E5ECF6\",\"angularaxis\":{\"gridcolor\":\"white\",\"linecolor\":\"white\",\"ticks\":\"\"},\"radialaxis\":{\"gridcolor\":\"white\",\"linecolor\":\"white\",\"ticks\":\"\"}},\"ternary\":{\"bgcolor\":\"#E5ECF6\",\"aaxis\":{\"gridcolor\":\"white\",\"linecolor\":\"white\",\"ticks\":\"\"},\"baxis\":{\"gridcolor\":\"white\",\"linecolor\":\"white\",\"ticks\":\"\"},\"caxis\":{\"gridcolor\":\"white\",\"linecolor\":\"white\",\"ticks\":\"\"}},\"coloraxis\":{\"colorbar\":{\"outlinewidth\":0,\"ticks\":\"\"}},\"colorscale\":{\"sequential\":[[0.0,\"#0d0887\"],[0.1111111111111111,\"#46039f\"],[0.2222222222222222,\"#7201a8\"],[0.3333333333333333,\"#9c179e\"],[0.4444444444444444,\"#bd3786\"],[0.5555555555555556,\"#d8576b\"],[0.6666666666666666,\"#ed7953\"],[0.7777777777777778,\"#fb9f3a\"],[0.8888888888888888,\"#fdca26\"],[1.0,\"#f0f921\"]],\"sequentialminus\":[[0.0,\"#0d0887\"],[0.1111111111111111,\"#46039f\"],[0.2222222222222222,\"#7201a8\"],[0.3333333333333333,\"#9c179e\"],[0.4444444444444444,\"#bd3786\"],[0.5555555555555556,\"#d8576b\"],[0.6666666666666666,\"#ed7953\"],[0.7777777777777778,\"#fb9f3a\"],[0.8888888888888888,\"#fdca26\"],[1.0,\"#f0f921\"]],\"diverging\":[[0,\"#8e0152\"],[0.1,\"#c51b7d\"],[0.2,\"#de77ae\"],[0.3,\"#f1b6da\"],[0.4,\"#fde0ef\"],[0.5,\"#f7f7f7\"],[0.6,\"#e6f5d0\"],[0.7,\"#b8e186\"],[0.8,\"#7fbc41\"],[0.9,\"#4d9221\"],[1,\"#276419\"]]},\"xaxis\":{\"gridcolor\":\"white\",\"linecolor\":\"white\",\"ticks\":\"\",\"title\":{\"standoff\":15},\"zerolinecolor\":\"white\",\"automargin\":true,\"zerolinewidth\":2},\"yaxis\":{\"gridcolor\":\"white\",\"linecolor\":\"white\",\"ticks\":\"\",\"title\":{\"standoff\":15},\"zerolinecolor\":\"white\",\"automargin\":true,\"zerolinewidth\":2},\"scene\":{\"xaxis\":{\"backgroundcolor\":\"#E5ECF6\",\"gridcolor\":\"white\",\"linecolor\":\"white\",\"showbackground\":true,\"ticks\":\"\",\"zerolinecolor\":\"white\",\"gridwidth\":2},\"yaxis\":{\"backgroundcolor\":\"#E5ECF6\",\"gridcolor\":\"white\",\"linecolor\":\"white\",\"showbackground\":true,\"ticks\":\"\",\"zerolinecolor\":\"white\",\"gridwidth\":2},\"zaxis\":{\"backgroundcolor\":\"#E5ECF6\",\"gridcolor\":\"white\",\"linecolor\":\"white\",\"showbackground\":true,\"ticks\":\"\",\"zerolinecolor\":\"white\",\"gridwidth\":2}},\"shapedefaults\":{\"line\":{\"color\":\"#2a3f5f\"}},\"annotationdefaults\":{\"arrowcolor\":\"#2a3f5f\",\"arrowhead\":0,\"arrowwidth\":1},\"geo\":{\"bgcolor\":\"white\",\"landcolor\":\"#E5ECF6\",\"subunitcolor\":\"white\",\"showland\":true,\"showlakes\":true,\"lakecolor\":\"white\"},\"title\":{\"x\":0.05},\"mapbox\":{\"style\":\"light\"}}},\"xaxis\":{\"anchor\":\"y\",\"domain\":[0.0,1.0],\"title\":{\"text\":\"AUTHORIZED_CAP\"}},\"yaxis\":{\"anchor\":\"x\",\"domain\":[0.0,1.0],\"title\":{\"text\":\"COMPANY_NAME\"}},\"legend\":{\"tracegroupgap\":0},\"title\":{\"text\":\"Company With Authorized Cap\"},\"barmode\":\"relative\"},                        {\"responsive\": true}                    ).then(function(){\n",
       "                            \n",
       "var gd = document.getElementById('222cffcb-07dd-4016-8eb7-a92cc3b609e4');\n",
       "var x = new MutationObserver(function (mutations, observer) {{\n",
       "        var display = window.getComputedStyle(gd).display;\n",
       "        if (!display || display === 'none') {{\n",
       "            console.log([gd, 'removed!']);\n",
       "            Plotly.purge(gd);\n",
       "            observer.disconnect();\n",
       "        }}\n",
       "}});\n",
       "\n",
       "// Listen for the removal of the full notebook cells\n",
       "var notebookContainer = gd.closest('#notebook-container');\n",
       "if (notebookContainer) {{\n",
       "    x.observe(notebookContainer, {childList: true});\n",
       "}}\n",
       "\n",
       "// Listen for the clearing of the current output cell\n",
       "var outputEl = gd.closest('.output');\n",
       "if (outputEl) {{\n",
       "    x.observe(outputEl, {childList: true});\n",
       "}}\n",
       "\n",
       "                        })                };                            </script>        </div>\n",
       "</body>\n",
       "</html>"
      ]
     },
     "metadata": {},
     "output_type": "display_data"
    }
   ],
   "source": [
    "fig=px.bar(new_df2,y='COMPANY_NAME',x='AUTHORIZED_CAP',color_discrete_sequence=px.colors.sequential.Plasma\n",
    "           ,title='Company With Authorized Cap')\n",
    "fig"
   ]
  },
  {
   "cell_type": "code",
   "execution_count": null,
   "metadata": {
    "colab": {
     "base_uri": "https://localhost:8080/",
     "height": 542
    },
    "executionInfo": {
     "elapsed": 375,
     "status": "ok",
     "timestamp": 1664271882001,
     "user": {
      "displayName": "Kshama Singhal",
      "userId": "01290402449884306325"
     },
     "user_tz": -330
    },
    "id": "Yc0Q6dyRJB7l",
    "outputId": "870738cb-8b5e-4971-c3db-f40438776092"
   },
   "outputs": [
    {
     "data": {
      "text/html": [
       "<html>\n",
       "<head><meta charset=\"utf-8\" /></head>\n",
       "<body>\n",
       "    <div>            <script src=\"https://cdnjs.cloudflare.com/ajax/libs/mathjax/2.7.5/MathJax.js?config=TeX-AMS-MML_SVG\"></script><script type=\"text/javascript\">if (window.MathJax && window.MathJax.Hub && window.MathJax.Hub.Config) {window.MathJax.Hub.Config({SVG: {font: \"STIX-Web\"}});}</script>                <script type=\"text/javascript\">window.PlotlyConfig = {MathJaxConfig: 'local'};</script>\n",
       "        <script src=\"https://cdn.plot.ly/plotly-2.14.0.min.js\"></script>                <div id=\"83522bb4-a909-43ed-acc7-c848e97c7ac9\" class=\"plotly-graph-div\" style=\"height:525px; width:100%;\"></div>            <script type=\"text/javascript\">                                    window.PLOTLYENV=window.PLOTLYENV || {};                                    if (document.getElementById(\"83522bb4-a909-43ed-acc7-c848e97c7ac9\")) {                    Plotly.newPlot(                        \"83522bb4-a909-43ed-acc7-c848e97c7ac9\",                        [{\"alignmentgroup\":\"True\",\"hovertemplate\":\"PAIDUP_CAPITAL=%{x}<br>COMPANY_NAME=%{y}<extra></extra>\",\"legendgroup\":\"\",\"marker\":{\"color\":\"#0d0887\",\"pattern\":{\"shape\":\"\"}},\"name\":\"\",\"offsetgroup\":\"\",\"orientation\":\"h\",\"showlegend\":false,\"textposition\":\"auto\",\"x\":[1699613000000.0,1541250000000.0,939052294000.0,891097115020.0,786559160929.0],\"xaxis\":\"x\",\"y\":[\"JIO PLATFORMS LIMITED   \",\"RELIANCE JIO INFOCOMM LIMITED   \",\"U. P. POWER CORPORATION LIMITED   \",\"MSEB HOLDING COMPANY LIMITED   \",\"JIO DIGITAL FIBRE PRIVATE LIMITED   \"],\"yaxis\":\"y\",\"type\":\"bar\"}],                        {\"template\":{\"data\":{\"histogram2dcontour\":[{\"type\":\"histogram2dcontour\",\"colorbar\":{\"outlinewidth\":0,\"ticks\":\"\"},\"colorscale\":[[0.0,\"#0d0887\"],[0.1111111111111111,\"#46039f\"],[0.2222222222222222,\"#7201a8\"],[0.3333333333333333,\"#9c179e\"],[0.4444444444444444,\"#bd3786\"],[0.5555555555555556,\"#d8576b\"],[0.6666666666666666,\"#ed7953\"],[0.7777777777777778,\"#fb9f3a\"],[0.8888888888888888,\"#fdca26\"],[1.0,\"#f0f921\"]]}],\"choropleth\":[{\"type\":\"choropleth\",\"colorbar\":{\"outlinewidth\":0,\"ticks\":\"\"}}],\"histogram2d\":[{\"type\":\"histogram2d\",\"colorbar\":{\"outlinewidth\":0,\"ticks\":\"\"},\"colorscale\":[[0.0,\"#0d0887\"],[0.1111111111111111,\"#46039f\"],[0.2222222222222222,\"#7201a8\"],[0.3333333333333333,\"#9c179e\"],[0.4444444444444444,\"#bd3786\"],[0.5555555555555556,\"#d8576b\"],[0.6666666666666666,\"#ed7953\"],[0.7777777777777778,\"#fb9f3a\"],[0.8888888888888888,\"#fdca26\"],[1.0,\"#f0f921\"]]}],\"heatmap\":[{\"type\":\"heatmap\",\"colorbar\":{\"outlinewidth\":0,\"ticks\":\"\"},\"colorscale\":[[0.0,\"#0d0887\"],[0.1111111111111111,\"#46039f\"],[0.2222222222222222,\"#7201a8\"],[0.3333333333333333,\"#9c179e\"],[0.4444444444444444,\"#bd3786\"],[0.5555555555555556,\"#d8576b\"],[0.6666666666666666,\"#ed7953\"],[0.7777777777777778,\"#fb9f3a\"],[0.8888888888888888,\"#fdca26\"],[1.0,\"#f0f921\"]]}],\"heatmapgl\":[{\"type\":\"heatmapgl\",\"colorbar\":{\"outlinewidth\":0,\"ticks\":\"\"},\"colorscale\":[[0.0,\"#0d0887\"],[0.1111111111111111,\"#46039f\"],[0.2222222222222222,\"#7201a8\"],[0.3333333333333333,\"#9c179e\"],[0.4444444444444444,\"#bd3786\"],[0.5555555555555556,\"#d8576b\"],[0.6666666666666666,\"#ed7953\"],[0.7777777777777778,\"#fb9f3a\"],[0.8888888888888888,\"#fdca26\"],[1.0,\"#f0f921\"]]}],\"contourcarpet\":[{\"type\":\"contourcarpet\",\"colorbar\":{\"outlinewidth\":0,\"ticks\":\"\"}}],\"contour\":[{\"type\":\"contour\",\"colorbar\":{\"outlinewidth\":0,\"ticks\":\"\"},\"colorscale\":[[0.0,\"#0d0887\"],[0.1111111111111111,\"#46039f\"],[0.2222222222222222,\"#7201a8\"],[0.3333333333333333,\"#9c179e\"],[0.4444444444444444,\"#bd3786\"],[0.5555555555555556,\"#d8576b\"],[0.6666666666666666,\"#ed7953\"],[0.7777777777777778,\"#fb9f3a\"],[0.8888888888888888,\"#fdca26\"],[1.0,\"#f0f921\"]]}],\"surface\":[{\"type\":\"surface\",\"colorbar\":{\"outlinewidth\":0,\"ticks\":\"\"},\"colorscale\":[[0.0,\"#0d0887\"],[0.1111111111111111,\"#46039f\"],[0.2222222222222222,\"#7201a8\"],[0.3333333333333333,\"#9c179e\"],[0.4444444444444444,\"#bd3786\"],[0.5555555555555556,\"#d8576b\"],[0.6666666666666666,\"#ed7953\"],[0.7777777777777778,\"#fb9f3a\"],[0.8888888888888888,\"#fdca26\"],[1.0,\"#f0f921\"]]}],\"mesh3d\":[{\"type\":\"mesh3d\",\"colorbar\":{\"outlinewidth\":0,\"ticks\":\"\"}}],\"scatter\":[{\"fillpattern\":{\"fillmode\":\"overlay\",\"size\":10,\"solidity\":0.2},\"type\":\"scatter\"}],\"parcoords\":[{\"type\":\"parcoords\",\"line\":{\"colorbar\":{\"outlinewidth\":0,\"ticks\":\"\"}}}],\"scatterpolargl\":[{\"type\":\"scatterpolargl\",\"marker\":{\"colorbar\":{\"outlinewidth\":0,\"ticks\":\"\"}}}],\"bar\":[{\"error_x\":{\"color\":\"#2a3f5f\"},\"error_y\":{\"color\":\"#2a3f5f\"},\"marker\":{\"line\":{\"color\":\"#E5ECF6\",\"width\":0.5},\"pattern\":{\"fillmode\":\"overlay\",\"size\":10,\"solidity\":0.2}},\"type\":\"bar\"}],\"scattergeo\":[{\"type\":\"scattergeo\",\"marker\":{\"colorbar\":{\"outlinewidth\":0,\"ticks\":\"\"}}}],\"scatterpolar\":[{\"type\":\"scatterpolar\",\"marker\":{\"colorbar\":{\"outlinewidth\":0,\"ticks\":\"\"}}}],\"histogram\":[{\"marker\":{\"pattern\":{\"fillmode\":\"overlay\",\"size\":10,\"solidity\":0.2}},\"type\":\"histogram\"}],\"scattergl\":[{\"type\":\"scattergl\",\"marker\":{\"colorbar\":{\"outlinewidth\":0,\"ticks\":\"\"}}}],\"scatter3d\":[{\"type\":\"scatter3d\",\"line\":{\"colorbar\":{\"outlinewidth\":0,\"ticks\":\"\"}},\"marker\":{\"colorbar\":{\"outlinewidth\":0,\"ticks\":\"\"}}}],\"scattermapbox\":[{\"type\":\"scattermapbox\",\"marker\":{\"colorbar\":{\"outlinewidth\":0,\"ticks\":\"\"}}}],\"scatterternary\":[{\"type\":\"scatterternary\",\"marker\":{\"colorbar\":{\"outlinewidth\":0,\"ticks\":\"\"}}}],\"scattercarpet\":[{\"type\":\"scattercarpet\",\"marker\":{\"colorbar\":{\"outlinewidth\":0,\"ticks\":\"\"}}}],\"carpet\":[{\"aaxis\":{\"endlinecolor\":\"#2a3f5f\",\"gridcolor\":\"white\",\"linecolor\":\"white\",\"minorgridcolor\":\"white\",\"startlinecolor\":\"#2a3f5f\"},\"baxis\":{\"endlinecolor\":\"#2a3f5f\",\"gridcolor\":\"white\",\"linecolor\":\"white\",\"minorgridcolor\":\"white\",\"startlinecolor\":\"#2a3f5f\"},\"type\":\"carpet\"}],\"table\":[{\"cells\":{\"fill\":{\"color\":\"#EBF0F8\"},\"line\":{\"color\":\"white\"}},\"header\":{\"fill\":{\"color\":\"#C8D4E3\"},\"line\":{\"color\":\"white\"}},\"type\":\"table\"}],\"barpolar\":[{\"marker\":{\"line\":{\"color\":\"#E5ECF6\",\"width\":0.5},\"pattern\":{\"fillmode\":\"overlay\",\"size\":10,\"solidity\":0.2}},\"type\":\"barpolar\"}],\"pie\":[{\"automargin\":true,\"type\":\"pie\"}]},\"layout\":{\"autotypenumbers\":\"strict\",\"colorway\":[\"#636efa\",\"#EF553B\",\"#00cc96\",\"#ab63fa\",\"#FFA15A\",\"#19d3f3\",\"#FF6692\",\"#B6E880\",\"#FF97FF\",\"#FECB52\"],\"font\":{\"color\":\"#2a3f5f\"},\"hovermode\":\"closest\",\"hoverlabel\":{\"align\":\"left\"},\"paper_bgcolor\":\"white\",\"plot_bgcolor\":\"#E5ECF6\",\"polar\":{\"bgcolor\":\"#E5ECF6\",\"angularaxis\":{\"gridcolor\":\"white\",\"linecolor\":\"white\",\"ticks\":\"\"},\"radialaxis\":{\"gridcolor\":\"white\",\"linecolor\":\"white\",\"ticks\":\"\"}},\"ternary\":{\"bgcolor\":\"#E5ECF6\",\"aaxis\":{\"gridcolor\":\"white\",\"linecolor\":\"white\",\"ticks\":\"\"},\"baxis\":{\"gridcolor\":\"white\",\"linecolor\":\"white\",\"ticks\":\"\"},\"caxis\":{\"gridcolor\":\"white\",\"linecolor\":\"white\",\"ticks\":\"\"}},\"coloraxis\":{\"colorbar\":{\"outlinewidth\":0,\"ticks\":\"\"}},\"colorscale\":{\"sequential\":[[0.0,\"#0d0887\"],[0.1111111111111111,\"#46039f\"],[0.2222222222222222,\"#7201a8\"],[0.3333333333333333,\"#9c179e\"],[0.4444444444444444,\"#bd3786\"],[0.5555555555555556,\"#d8576b\"],[0.6666666666666666,\"#ed7953\"],[0.7777777777777778,\"#fb9f3a\"],[0.8888888888888888,\"#fdca26\"],[1.0,\"#f0f921\"]],\"sequentialminus\":[[0.0,\"#0d0887\"],[0.1111111111111111,\"#46039f\"],[0.2222222222222222,\"#7201a8\"],[0.3333333333333333,\"#9c179e\"],[0.4444444444444444,\"#bd3786\"],[0.5555555555555556,\"#d8576b\"],[0.6666666666666666,\"#ed7953\"],[0.7777777777777778,\"#fb9f3a\"],[0.8888888888888888,\"#fdca26\"],[1.0,\"#f0f921\"]],\"diverging\":[[0,\"#8e0152\"],[0.1,\"#c51b7d\"],[0.2,\"#de77ae\"],[0.3,\"#f1b6da\"],[0.4,\"#fde0ef\"],[0.5,\"#f7f7f7\"],[0.6,\"#e6f5d0\"],[0.7,\"#b8e186\"],[0.8,\"#7fbc41\"],[0.9,\"#4d9221\"],[1,\"#276419\"]]},\"xaxis\":{\"gridcolor\":\"white\",\"linecolor\":\"white\",\"ticks\":\"\",\"title\":{\"standoff\":15},\"zerolinecolor\":\"white\",\"automargin\":true,\"zerolinewidth\":2},\"yaxis\":{\"gridcolor\":\"white\",\"linecolor\":\"white\",\"ticks\":\"\",\"title\":{\"standoff\":15},\"zerolinecolor\":\"white\",\"automargin\":true,\"zerolinewidth\":2},\"scene\":{\"xaxis\":{\"backgroundcolor\":\"#E5ECF6\",\"gridcolor\":\"white\",\"linecolor\":\"white\",\"showbackground\":true,\"ticks\":\"\",\"zerolinecolor\":\"white\",\"gridwidth\":2},\"yaxis\":{\"backgroundcolor\":\"#E5ECF6\",\"gridcolor\":\"white\",\"linecolor\":\"white\",\"showbackground\":true,\"ticks\":\"\",\"zerolinecolor\":\"white\",\"gridwidth\":2},\"zaxis\":{\"backgroundcolor\":\"#E5ECF6\",\"gridcolor\":\"white\",\"linecolor\":\"white\",\"showbackground\":true,\"ticks\":\"\",\"zerolinecolor\":\"white\",\"gridwidth\":2}},\"shapedefaults\":{\"line\":{\"color\":\"#2a3f5f\"}},\"annotationdefaults\":{\"arrowcolor\":\"#2a3f5f\",\"arrowhead\":0,\"arrowwidth\":1},\"geo\":{\"bgcolor\":\"white\",\"landcolor\":\"#E5ECF6\",\"subunitcolor\":\"white\",\"showland\":true,\"showlakes\":true,\"lakecolor\":\"white\"},\"title\":{\"x\":0.05},\"mapbox\":{\"style\":\"light\"}}},\"xaxis\":{\"anchor\":\"y\",\"domain\":[0.0,1.0],\"title\":{\"text\":\"PAIDUP_CAPITAL\"}},\"yaxis\":{\"anchor\":\"x\",\"domain\":[0.0,1.0],\"title\":{\"text\":\"COMPANY_NAME\"}},\"legend\":{\"tracegroupgap\":0},\"title\":{\"text\":\"Company with Paidup Capital\"},\"barmode\":\"relative\"},                        {\"responsive\": true}                    ).then(function(){\n",
       "                            \n",
       "var gd = document.getElementById('83522bb4-a909-43ed-acc7-c848e97c7ac9');\n",
       "var x = new MutationObserver(function (mutations, observer) {{\n",
       "        var display = window.getComputedStyle(gd).display;\n",
       "        if (!display || display === 'none') {{\n",
       "            console.log([gd, 'removed!']);\n",
       "            Plotly.purge(gd);\n",
       "            observer.disconnect();\n",
       "        }}\n",
       "}});\n",
       "\n",
       "// Listen for the removal of the full notebook cells\n",
       "var notebookContainer = gd.closest('#notebook-container');\n",
       "if (notebookContainer) {{\n",
       "    x.observe(notebookContainer, {childList: true});\n",
       "}}\n",
       "\n",
       "// Listen for the clearing of the current output cell\n",
       "var outputEl = gd.closest('.output');\n",
       "if (outputEl) {{\n",
       "    x.observe(outputEl, {childList: true});\n",
       "}}\n",
       "\n",
       "                        })                };                            </script>        </div>\n",
       "</body>\n",
       "</html>"
      ]
     },
     "metadata": {},
     "output_type": "display_data"
    }
   ],
   "source": [
    "px.bar(new_df1,y='COMPANY_NAME',x='PAIDUP_CAPITAL',color_discrete_sequence=px.colors.sequential.Plasma,\n",
    "       title='Company with Paidup Capital')"
   ]
  },
  {
   "cell_type": "markdown",
   "metadata": {
    "id": "LgKLMWF-qvx3"
   },
   "source": [
    "Therefore, Jio Platforms Limited is the company having highest authorized cap followed by Reliance Jio infocomm Limited, U.P. Power Corporation Limited, Tata Teleservices Limited, MSEB Company Holding Limited. Not all these 5 companies among top 5 companies having higest paidup capital except Jio Platforms Limited, Reliance Jio infocomm Limited, U.P. Power Corporation Limited and MSEB Company Holding Limited."
   ]
  },
  {
   "cell_type": "markdown",
   "metadata": {
    "id": "pbKbiBN7k2bJ"
   },
   "source": [
    "#### 7. Is there any trend monthwise registration? Which month has the highest number of registration and which month has the lowest number of registration? What can be the reason of the highest registration for the month?"
   ]
  },
  {
   "cell_type": "markdown",
   "metadata": {
    "id": "LHaYteVvZsgw"
   },
   "source": [
    "To answer this question, first we will find out number of companies registered monthly by using `dt.month_name().value_counts()` function from Pandas library. Then we will arrange according to month then will visulize it to get more insights. "
   ]
  },
  {
   "cell_type": "code",
   "execution_count": null,
   "metadata": {
    "id": "w-H7gfDyEYqH"
   },
   "outputs": [],
   "source": [
    "months=['January','February','March','April','May','June','July','August','September','October','November','December']"
   ]
  },
  {
   "cell_type": "code",
   "execution_count": null,
   "metadata": {
    "id": "OnJVC8Hmk1tm"
   },
   "outputs": [],
   "source": [
    "from calendar import month_name\n",
    "registration_month=df['DATE_OF_REGISTRATION'].dt.month_name().value_counts()\n",
    "registration_month_df=registration_month.to_frame().reset_index().rename(columns={'index':'name'})\n",
    "registration_month_df.name=pd.Categorical(registration_month_df.name,categories=months,ordered=True)"
   ]
  },
  {
   "cell_type": "code",
   "execution_count": null,
   "metadata": {
    "id": "xfs3Do_IEM79"
   },
   "outputs": [],
   "source": [
    "registration_month_df=registration_month_df.sort_values(by='name')"
   ]
  },
  {
   "cell_type": "code",
   "execution_count": null,
   "metadata": {
    "colab": {
     "base_uri": "https://localhost:8080/",
     "height": 542
    },
    "executionInfo": {
     "elapsed": 381,
     "status": "ok",
     "timestamp": 1664272984634,
     "user": {
      "displayName": "Kshama Singhal",
      "userId": "01290402449884306325"
     },
     "user_tz": -330
    },
    "id": "D6iJOBumFLZw",
    "outputId": "d40277c1-df9f-43c8-f19e-eab106484e59"
   },
   "outputs": [
    {
     "data": {
      "text/html": [
       "<html>\n",
       "<head><meta charset=\"utf-8\" /></head>\n",
       "<body>\n",
       "    <div>            <script src=\"https://cdnjs.cloudflare.com/ajax/libs/mathjax/2.7.5/MathJax.js?config=TeX-AMS-MML_SVG\"></script><script type=\"text/javascript\">if (window.MathJax && window.MathJax.Hub && window.MathJax.Hub.Config) {window.MathJax.Hub.Config({SVG: {font: \"STIX-Web\"}});}</script>                <script type=\"text/javascript\">window.PlotlyConfig = {MathJaxConfig: 'local'};</script>\n",
       "        <script src=\"https://cdn.plot.ly/plotly-2.14.0.min.js\"></script>                <div id=\"61ec7763-8902-4f09-8a67-277b837b7af3\" class=\"plotly-graph-div\" style=\"height:525px; width:100%;\"></div>            <script type=\"text/javascript\">                                    window.PLOTLYENV=window.PLOTLYENV || {};                                    if (document.getElementById(\"61ec7763-8902-4f09-8a67-277b837b7af3\")) {                    Plotly.newPlot(                        \"61ec7763-8902-4f09-8a67-277b837b7af3\",                        [{\"hovertemplate\":\"Registration Month: %{x} <br>No. of Companies: %{y}\",\"legendgroup\":\"\",\"line\":{\"color\":\"#636efa\",\"dash\":\"solid\"},\"marker\":{\"symbol\":\"circle\"},\"mode\":\"lines\",\"name\":\"\",\"orientation\":\"v\",\"showlegend\":false,\"x\":[\"January\",\"February\",\"March\",\"April\",\"May\",\"June\",\"July\",\"August\",\"September\",\"October\",\"November\",\"December\"],\"xaxis\":\"x\",\"y\":[173806,166790,193772,155916,173904,165602,167115,161130,167528,147886,147407,168787],\"yaxis\":\"y\",\"type\":\"scatter\"}],                        {\"template\":{\"data\":{\"histogram2dcontour\":[{\"type\":\"histogram2dcontour\",\"colorbar\":{\"outlinewidth\":0,\"ticks\":\"\"},\"colorscale\":[[0.0,\"#0d0887\"],[0.1111111111111111,\"#46039f\"],[0.2222222222222222,\"#7201a8\"],[0.3333333333333333,\"#9c179e\"],[0.4444444444444444,\"#bd3786\"],[0.5555555555555556,\"#d8576b\"],[0.6666666666666666,\"#ed7953\"],[0.7777777777777778,\"#fb9f3a\"],[0.8888888888888888,\"#fdca26\"],[1.0,\"#f0f921\"]]}],\"choropleth\":[{\"type\":\"choropleth\",\"colorbar\":{\"outlinewidth\":0,\"ticks\":\"\"}}],\"histogram2d\":[{\"type\":\"histogram2d\",\"colorbar\":{\"outlinewidth\":0,\"ticks\":\"\"},\"colorscale\":[[0.0,\"#0d0887\"],[0.1111111111111111,\"#46039f\"],[0.2222222222222222,\"#7201a8\"],[0.3333333333333333,\"#9c179e\"],[0.4444444444444444,\"#bd3786\"],[0.5555555555555556,\"#d8576b\"],[0.6666666666666666,\"#ed7953\"],[0.7777777777777778,\"#fb9f3a\"],[0.8888888888888888,\"#fdca26\"],[1.0,\"#f0f921\"]]}],\"heatmap\":[{\"type\":\"heatmap\",\"colorbar\":{\"outlinewidth\":0,\"ticks\":\"\"},\"colorscale\":[[0.0,\"#0d0887\"],[0.1111111111111111,\"#46039f\"],[0.2222222222222222,\"#7201a8\"],[0.3333333333333333,\"#9c179e\"],[0.4444444444444444,\"#bd3786\"],[0.5555555555555556,\"#d8576b\"],[0.6666666666666666,\"#ed7953\"],[0.7777777777777778,\"#fb9f3a\"],[0.8888888888888888,\"#fdca26\"],[1.0,\"#f0f921\"]]}],\"heatmapgl\":[{\"type\":\"heatmapgl\",\"colorbar\":{\"outlinewidth\":0,\"ticks\":\"\"},\"colorscale\":[[0.0,\"#0d0887\"],[0.1111111111111111,\"#46039f\"],[0.2222222222222222,\"#7201a8\"],[0.3333333333333333,\"#9c179e\"],[0.4444444444444444,\"#bd3786\"],[0.5555555555555556,\"#d8576b\"],[0.6666666666666666,\"#ed7953\"],[0.7777777777777778,\"#fb9f3a\"],[0.8888888888888888,\"#fdca26\"],[1.0,\"#f0f921\"]]}],\"contourcarpet\":[{\"type\":\"contourcarpet\",\"colorbar\":{\"outlinewidth\":0,\"ticks\":\"\"}}],\"contour\":[{\"type\":\"contour\",\"colorbar\":{\"outlinewidth\":0,\"ticks\":\"\"},\"colorscale\":[[0.0,\"#0d0887\"],[0.1111111111111111,\"#46039f\"],[0.2222222222222222,\"#7201a8\"],[0.3333333333333333,\"#9c179e\"],[0.4444444444444444,\"#bd3786\"],[0.5555555555555556,\"#d8576b\"],[0.6666666666666666,\"#ed7953\"],[0.7777777777777778,\"#fb9f3a\"],[0.8888888888888888,\"#fdca26\"],[1.0,\"#f0f921\"]]}],\"surface\":[{\"type\":\"surface\",\"colorbar\":{\"outlinewidth\":0,\"ticks\":\"\"},\"colorscale\":[[0.0,\"#0d0887\"],[0.1111111111111111,\"#46039f\"],[0.2222222222222222,\"#7201a8\"],[0.3333333333333333,\"#9c179e\"],[0.4444444444444444,\"#bd3786\"],[0.5555555555555556,\"#d8576b\"],[0.6666666666666666,\"#ed7953\"],[0.7777777777777778,\"#fb9f3a\"],[0.8888888888888888,\"#fdca26\"],[1.0,\"#f0f921\"]]}],\"mesh3d\":[{\"type\":\"mesh3d\",\"colorbar\":{\"outlinewidth\":0,\"ticks\":\"\"}}],\"scatter\":[{\"fillpattern\":{\"fillmode\":\"overlay\",\"size\":10,\"solidity\":0.2},\"type\":\"scatter\"}],\"parcoords\":[{\"type\":\"parcoords\",\"line\":{\"colorbar\":{\"outlinewidth\":0,\"ticks\":\"\"}}}],\"scatterpolargl\":[{\"type\":\"scatterpolargl\",\"marker\":{\"colorbar\":{\"outlinewidth\":0,\"ticks\":\"\"}}}],\"bar\":[{\"error_x\":{\"color\":\"#2a3f5f\"},\"error_y\":{\"color\":\"#2a3f5f\"},\"marker\":{\"line\":{\"color\":\"#E5ECF6\",\"width\":0.5},\"pattern\":{\"fillmode\":\"overlay\",\"size\":10,\"solidity\":0.2}},\"type\":\"bar\"}],\"scattergeo\":[{\"type\":\"scattergeo\",\"marker\":{\"colorbar\":{\"outlinewidth\":0,\"ticks\":\"\"}}}],\"scatterpolar\":[{\"type\":\"scatterpolar\",\"marker\":{\"colorbar\":{\"outlinewidth\":0,\"ticks\":\"\"}}}],\"histogram\":[{\"marker\":{\"pattern\":{\"fillmode\":\"overlay\",\"size\":10,\"solidity\":0.2}},\"type\":\"histogram\"}],\"scattergl\":[{\"type\":\"scattergl\",\"marker\":{\"colorbar\":{\"outlinewidth\":0,\"ticks\":\"\"}}}],\"scatter3d\":[{\"type\":\"scatter3d\",\"line\":{\"colorbar\":{\"outlinewidth\":0,\"ticks\":\"\"}},\"marker\":{\"colorbar\":{\"outlinewidth\":0,\"ticks\":\"\"}}}],\"scattermapbox\":[{\"type\":\"scattermapbox\",\"marker\":{\"colorbar\":{\"outlinewidth\":0,\"ticks\":\"\"}}}],\"scatterternary\":[{\"type\":\"scatterternary\",\"marker\":{\"colorbar\":{\"outlinewidth\":0,\"ticks\":\"\"}}}],\"scattercarpet\":[{\"type\":\"scattercarpet\",\"marker\":{\"colorbar\":{\"outlinewidth\":0,\"ticks\":\"\"}}}],\"carpet\":[{\"aaxis\":{\"endlinecolor\":\"#2a3f5f\",\"gridcolor\":\"white\",\"linecolor\":\"white\",\"minorgridcolor\":\"white\",\"startlinecolor\":\"#2a3f5f\"},\"baxis\":{\"endlinecolor\":\"#2a3f5f\",\"gridcolor\":\"white\",\"linecolor\":\"white\",\"minorgridcolor\":\"white\",\"startlinecolor\":\"#2a3f5f\"},\"type\":\"carpet\"}],\"table\":[{\"cells\":{\"fill\":{\"color\":\"#EBF0F8\"},\"line\":{\"color\":\"white\"}},\"header\":{\"fill\":{\"color\":\"#C8D4E3\"},\"line\":{\"color\":\"white\"}},\"type\":\"table\"}],\"barpolar\":[{\"marker\":{\"line\":{\"color\":\"#E5ECF6\",\"width\":0.5},\"pattern\":{\"fillmode\":\"overlay\",\"size\":10,\"solidity\":0.2}},\"type\":\"barpolar\"}],\"pie\":[{\"automargin\":true,\"type\":\"pie\"}]},\"layout\":{\"autotypenumbers\":\"strict\",\"colorway\":[\"#636efa\",\"#EF553B\",\"#00cc96\",\"#ab63fa\",\"#FFA15A\",\"#19d3f3\",\"#FF6692\",\"#B6E880\",\"#FF97FF\",\"#FECB52\"],\"font\":{\"color\":\"#2a3f5f\"},\"hovermode\":\"closest\",\"hoverlabel\":{\"align\":\"left\"},\"paper_bgcolor\":\"white\",\"plot_bgcolor\":\"#E5ECF6\",\"polar\":{\"bgcolor\":\"#E5ECF6\",\"angularaxis\":{\"gridcolor\":\"white\",\"linecolor\":\"white\",\"ticks\":\"\"},\"radialaxis\":{\"gridcolor\":\"white\",\"linecolor\":\"white\",\"ticks\":\"\"}},\"ternary\":{\"bgcolor\":\"#E5ECF6\",\"aaxis\":{\"gridcolor\":\"white\",\"linecolor\":\"white\",\"ticks\":\"\"},\"baxis\":{\"gridcolor\":\"white\",\"linecolor\":\"white\",\"ticks\":\"\"},\"caxis\":{\"gridcolor\":\"white\",\"linecolor\":\"white\",\"ticks\":\"\"}},\"coloraxis\":{\"colorbar\":{\"outlinewidth\":0,\"ticks\":\"\"}},\"colorscale\":{\"sequential\":[[0.0,\"#0d0887\"],[0.1111111111111111,\"#46039f\"],[0.2222222222222222,\"#7201a8\"],[0.3333333333333333,\"#9c179e\"],[0.4444444444444444,\"#bd3786\"],[0.5555555555555556,\"#d8576b\"],[0.6666666666666666,\"#ed7953\"],[0.7777777777777778,\"#fb9f3a\"],[0.8888888888888888,\"#fdca26\"],[1.0,\"#f0f921\"]],\"sequentialminus\":[[0.0,\"#0d0887\"],[0.1111111111111111,\"#46039f\"],[0.2222222222222222,\"#7201a8\"],[0.3333333333333333,\"#9c179e\"],[0.4444444444444444,\"#bd3786\"],[0.5555555555555556,\"#d8576b\"],[0.6666666666666666,\"#ed7953\"],[0.7777777777777778,\"#fb9f3a\"],[0.8888888888888888,\"#fdca26\"],[1.0,\"#f0f921\"]],\"diverging\":[[0,\"#8e0152\"],[0.1,\"#c51b7d\"],[0.2,\"#de77ae\"],[0.3,\"#f1b6da\"],[0.4,\"#fde0ef\"],[0.5,\"#f7f7f7\"],[0.6,\"#e6f5d0\"],[0.7,\"#b8e186\"],[0.8,\"#7fbc41\"],[0.9,\"#4d9221\"],[1,\"#276419\"]]},\"xaxis\":{\"gridcolor\":\"white\",\"linecolor\":\"white\",\"ticks\":\"\",\"title\":{\"standoff\":15},\"zerolinecolor\":\"white\",\"automargin\":true,\"zerolinewidth\":2},\"yaxis\":{\"gridcolor\":\"white\",\"linecolor\":\"white\",\"ticks\":\"\",\"title\":{\"standoff\":15},\"zerolinecolor\":\"white\",\"automargin\":true,\"zerolinewidth\":2},\"scene\":{\"xaxis\":{\"backgroundcolor\":\"#E5ECF6\",\"gridcolor\":\"white\",\"linecolor\":\"white\",\"showbackground\":true,\"ticks\":\"\",\"zerolinecolor\":\"white\",\"gridwidth\":2},\"yaxis\":{\"backgroundcolor\":\"#E5ECF6\",\"gridcolor\":\"white\",\"linecolor\":\"white\",\"showbackground\":true,\"ticks\":\"\",\"zerolinecolor\":\"white\",\"gridwidth\":2},\"zaxis\":{\"backgroundcolor\":\"#E5ECF6\",\"gridcolor\":\"white\",\"linecolor\":\"white\",\"showbackground\":true,\"ticks\":\"\",\"zerolinecolor\":\"white\",\"gridwidth\":2}},\"shapedefaults\":{\"line\":{\"color\":\"#2a3f5f\"}},\"annotationdefaults\":{\"arrowcolor\":\"#2a3f5f\",\"arrowhead\":0,\"arrowwidth\":1},\"geo\":{\"bgcolor\":\"white\",\"landcolor\":\"#E5ECF6\",\"subunitcolor\":\"white\",\"showland\":true,\"showlakes\":true,\"lakecolor\":\"white\"},\"title\":{\"x\":0.05},\"mapbox\":{\"style\":\"light\"}}},\"xaxis\":{\"anchor\":\"y\",\"domain\":[0.0,1.0],\"title\":{\"text\":\"Month\"}},\"yaxis\":{\"anchor\":\"x\",\"domain\":[0.0,1.0],\"title\":{\"text\":\"Number of Companies Registered\"}},\"legend\":{\"tracegroupgap\":0},\"margin\":{\"t\":60}},                        {\"responsive\": true}                    ).then(function(){\n",
       "                            \n",
       "var gd = document.getElementById('61ec7763-8902-4f09-8a67-277b837b7af3');\n",
       "var x = new MutationObserver(function (mutations, observer) {{\n",
       "        var display = window.getComputedStyle(gd).display;\n",
       "        if (!display || display === 'none') {{\n",
       "            console.log([gd, 'removed!']);\n",
       "            Plotly.purge(gd);\n",
       "            observer.disconnect();\n",
       "        }}\n",
       "}});\n",
       "\n",
       "// Listen for the removal of the full notebook cells\n",
       "var notebookContainer = gd.closest('#notebook-container');\n",
       "if (notebookContainer) {{\n",
       "    x.observe(notebookContainer, {childList: true});\n",
       "}}\n",
       "\n",
       "// Listen for the clearing of the current output cell\n",
       "var outputEl = gd.closest('.output');\n",
       "if (outputEl) {{\n",
       "    x.observe(outputEl, {childList: true});\n",
       "}}\n",
       "\n",
       "                        })                };                            </script>        </div>\n",
       "</body>\n",
       "</html>"
      ]
     },
     "metadata": {},
     "output_type": "display_data"
    }
   ],
   "source": [
    "fig=px.line(x=registration_month_df.name,y=registration_month_df.DATE_OF_REGISTRATION)\n",
    "fig.update_layout(xaxis_title='Month',yaxis_title='Number of Companies Registered')\n",
    "fig.update_traces(hovertemplate='Registration Month: %{x} <br>No. of Companies: %{y}')\n",
    "fig"
   ]
  },
  {
   "cell_type": "markdown",
   "metadata": {
    "id": "QAXI_6EuvanA"
   },
   "source": [
    "There is no particular trend in monthwise registration. March has the highest number of companies registration while November has the least number of companies registration. March is the last month of the financial year this could be the reason of highest registration in March."
   ]
  },
  {
   "cell_type": "markdown",
   "metadata": {
    "id": "YRcjYZJMl_ss"
   },
   "source": [
    "#### 8. What are the top 5 business activities in Meghalaya?"
   ]
  },
  {
   "cell_type": "code",
   "execution_count": null,
   "metadata": {
    "id": "s4cWT5D9-3tv"
   },
   "outputs": [],
   "source": [
    "companies_business_activity_meghalaya=df[df.REGISTERED_STATE=='Meghalaya'].PRINCIPAL_BUSINESS_ACTIVITY_AS_PER_CIN.value_counts()\n",
    "companies_business_activity_meghalaya_df=companies_business_activity_meghalaya.to_frame().reset_index().rename(columns={'index':'Business Activity','PRINCIPAL_BUSINESS_ACTIVITY_AS_PER_CIN':'No. of Companies'})"
   ]
  },
  {
   "cell_type": "code",
   "execution_count": null,
   "metadata": {
    "colab": {
     "base_uri": "https://localhost:8080/",
     "height": 542
    },
    "executionInfo": {
     "elapsed": 10,
     "status": "ok",
     "timestamp": 1664273137227,
     "user": {
      "displayName": "Kshama Singhal",
      "userId": "01290402449884306325"
     },
     "user_tz": -330
    },
    "id": "863KG04DnNpH",
    "outputId": "caedd265-6e1f-4b71-8f6b-bdea21012c04"
   },
   "outputs": [
    {
     "data": {
      "text/html": [
       "<html>\n",
       "<head><meta charset=\"utf-8\" /></head>\n",
       "<body>\n",
       "    <div>            <script src=\"https://cdnjs.cloudflare.com/ajax/libs/mathjax/2.7.5/MathJax.js?config=TeX-AMS-MML_SVG\"></script><script type=\"text/javascript\">if (window.MathJax && window.MathJax.Hub && window.MathJax.Hub.Config) {window.MathJax.Hub.Config({SVG: {font: \"STIX-Web\"}});}</script>                <script type=\"text/javascript\">window.PlotlyConfig = {MathJaxConfig: 'local'};</script>\n",
       "        <script src=\"https://cdn.plot.ly/plotly-2.14.0.min.js\"></script>                <div id=\"49bee6a5-de93-4cce-855c-0298e1f1dc97\" class=\"plotly-graph-div\" style=\"height:525px; width:100%;\"></div>            <script type=\"text/javascript\">                                    window.PLOTLYENV=window.PLOTLYENV || {};                                    if (document.getElementById(\"49bee6a5-de93-4cce-855c-0298e1f1dc97\")) {                    Plotly.newPlot(                        \"49bee6a5-de93-4cce-855c-0298e1f1dc97\",                        [{\"domain\":{\"x\":[0.0,1.0],\"y\":[0.0,1.0]},\"hole\":0.4,\"hovertemplate\":\"Business Activity=%{label}<br>No. of Companies=%{value}<extra></extra>\",\"labels\":[\"Manufacturing\",\"Real estate renting and business activities\",\"Mining and quarrying\",\"Wholesale and retail trade repair of motor vehicles motorcycles and personal and household goods\",\"Construction\",\"Agriculture & allied\",\"Extraterritorial organizations and bodies\",\"Hotels and restaurants\",\"Financial intermediation\",\"Other community social and personal service activities\",\"Electricity gas and water supply\",\"Transport storage and communications\",\"Health and social work\",\"Education\",\"Public administration and defence compulsory social security\"],\"legendgroup\":\"\",\"name\":\"\",\"showlegend\":true,\"values\":[411,149,110,100,58,56,44,43,30,30,27,25,21,9,2],\"type\":\"pie\",\"textposition\":\"inside\"}],                        {\"template\":{\"data\":{\"histogram2dcontour\":[{\"type\":\"histogram2dcontour\",\"colorbar\":{\"outlinewidth\":0,\"ticks\":\"\"},\"colorscale\":[[0.0,\"#0d0887\"],[0.1111111111111111,\"#46039f\"],[0.2222222222222222,\"#7201a8\"],[0.3333333333333333,\"#9c179e\"],[0.4444444444444444,\"#bd3786\"],[0.5555555555555556,\"#d8576b\"],[0.6666666666666666,\"#ed7953\"],[0.7777777777777778,\"#fb9f3a\"],[0.8888888888888888,\"#fdca26\"],[1.0,\"#f0f921\"]]}],\"choropleth\":[{\"type\":\"choropleth\",\"colorbar\":{\"outlinewidth\":0,\"ticks\":\"\"}}],\"histogram2d\":[{\"type\":\"histogram2d\",\"colorbar\":{\"outlinewidth\":0,\"ticks\":\"\"},\"colorscale\":[[0.0,\"#0d0887\"],[0.1111111111111111,\"#46039f\"],[0.2222222222222222,\"#7201a8\"],[0.3333333333333333,\"#9c179e\"],[0.4444444444444444,\"#bd3786\"],[0.5555555555555556,\"#d8576b\"],[0.6666666666666666,\"#ed7953\"],[0.7777777777777778,\"#fb9f3a\"],[0.8888888888888888,\"#fdca26\"],[1.0,\"#f0f921\"]]}],\"heatmap\":[{\"type\":\"heatmap\",\"colorbar\":{\"outlinewidth\":0,\"ticks\":\"\"},\"colorscale\":[[0.0,\"#0d0887\"],[0.1111111111111111,\"#46039f\"],[0.2222222222222222,\"#7201a8\"],[0.3333333333333333,\"#9c179e\"],[0.4444444444444444,\"#bd3786\"],[0.5555555555555556,\"#d8576b\"],[0.6666666666666666,\"#ed7953\"],[0.7777777777777778,\"#fb9f3a\"],[0.8888888888888888,\"#fdca26\"],[1.0,\"#f0f921\"]]}],\"heatmapgl\":[{\"type\":\"heatmapgl\",\"colorbar\":{\"outlinewidth\":0,\"ticks\":\"\"},\"colorscale\":[[0.0,\"#0d0887\"],[0.1111111111111111,\"#46039f\"],[0.2222222222222222,\"#7201a8\"],[0.3333333333333333,\"#9c179e\"],[0.4444444444444444,\"#bd3786\"],[0.5555555555555556,\"#d8576b\"],[0.6666666666666666,\"#ed7953\"],[0.7777777777777778,\"#fb9f3a\"],[0.8888888888888888,\"#fdca26\"],[1.0,\"#f0f921\"]]}],\"contourcarpet\":[{\"type\":\"contourcarpet\",\"colorbar\":{\"outlinewidth\":0,\"ticks\":\"\"}}],\"contour\":[{\"type\":\"contour\",\"colorbar\":{\"outlinewidth\":0,\"ticks\":\"\"},\"colorscale\":[[0.0,\"#0d0887\"],[0.1111111111111111,\"#46039f\"],[0.2222222222222222,\"#7201a8\"],[0.3333333333333333,\"#9c179e\"],[0.4444444444444444,\"#bd3786\"],[0.5555555555555556,\"#d8576b\"],[0.6666666666666666,\"#ed7953\"],[0.7777777777777778,\"#fb9f3a\"],[0.8888888888888888,\"#fdca26\"],[1.0,\"#f0f921\"]]}],\"surface\":[{\"type\":\"surface\",\"colorbar\":{\"outlinewidth\":0,\"ticks\":\"\"},\"colorscale\":[[0.0,\"#0d0887\"],[0.1111111111111111,\"#46039f\"],[0.2222222222222222,\"#7201a8\"],[0.3333333333333333,\"#9c179e\"],[0.4444444444444444,\"#bd3786\"],[0.5555555555555556,\"#d8576b\"],[0.6666666666666666,\"#ed7953\"],[0.7777777777777778,\"#fb9f3a\"],[0.8888888888888888,\"#fdca26\"],[1.0,\"#f0f921\"]]}],\"mesh3d\":[{\"type\":\"mesh3d\",\"colorbar\":{\"outlinewidth\":0,\"ticks\":\"\"}}],\"scatter\":[{\"fillpattern\":{\"fillmode\":\"overlay\",\"size\":10,\"solidity\":0.2},\"type\":\"scatter\"}],\"parcoords\":[{\"type\":\"parcoords\",\"line\":{\"colorbar\":{\"outlinewidth\":0,\"ticks\":\"\"}}}],\"scatterpolargl\":[{\"type\":\"scatterpolargl\",\"marker\":{\"colorbar\":{\"outlinewidth\":0,\"ticks\":\"\"}}}],\"bar\":[{\"error_x\":{\"color\":\"#2a3f5f\"},\"error_y\":{\"color\":\"#2a3f5f\"},\"marker\":{\"line\":{\"color\":\"#E5ECF6\",\"width\":0.5},\"pattern\":{\"fillmode\":\"overlay\",\"size\":10,\"solidity\":0.2}},\"type\":\"bar\"}],\"scattergeo\":[{\"type\":\"scattergeo\",\"marker\":{\"colorbar\":{\"outlinewidth\":0,\"ticks\":\"\"}}}],\"scatterpolar\":[{\"type\":\"scatterpolar\",\"marker\":{\"colorbar\":{\"outlinewidth\":0,\"ticks\":\"\"}}}],\"histogram\":[{\"marker\":{\"pattern\":{\"fillmode\":\"overlay\",\"size\":10,\"solidity\":0.2}},\"type\":\"histogram\"}],\"scattergl\":[{\"type\":\"scattergl\",\"marker\":{\"colorbar\":{\"outlinewidth\":0,\"ticks\":\"\"}}}],\"scatter3d\":[{\"type\":\"scatter3d\",\"line\":{\"colorbar\":{\"outlinewidth\":0,\"ticks\":\"\"}},\"marker\":{\"colorbar\":{\"outlinewidth\":0,\"ticks\":\"\"}}}],\"scattermapbox\":[{\"type\":\"scattermapbox\",\"marker\":{\"colorbar\":{\"outlinewidth\":0,\"ticks\":\"\"}}}],\"scatterternary\":[{\"type\":\"scatterternary\",\"marker\":{\"colorbar\":{\"outlinewidth\":0,\"ticks\":\"\"}}}],\"scattercarpet\":[{\"type\":\"scattercarpet\",\"marker\":{\"colorbar\":{\"outlinewidth\":0,\"ticks\":\"\"}}}],\"carpet\":[{\"aaxis\":{\"endlinecolor\":\"#2a3f5f\",\"gridcolor\":\"white\",\"linecolor\":\"white\",\"minorgridcolor\":\"white\",\"startlinecolor\":\"#2a3f5f\"},\"baxis\":{\"endlinecolor\":\"#2a3f5f\",\"gridcolor\":\"white\",\"linecolor\":\"white\",\"minorgridcolor\":\"white\",\"startlinecolor\":\"#2a3f5f\"},\"type\":\"carpet\"}],\"table\":[{\"cells\":{\"fill\":{\"color\":\"#EBF0F8\"},\"line\":{\"color\":\"white\"}},\"header\":{\"fill\":{\"color\":\"#C8D4E3\"},\"line\":{\"color\":\"white\"}},\"type\":\"table\"}],\"barpolar\":[{\"marker\":{\"line\":{\"color\":\"#E5ECF6\",\"width\":0.5},\"pattern\":{\"fillmode\":\"overlay\",\"size\":10,\"solidity\":0.2}},\"type\":\"barpolar\"}],\"pie\":[{\"automargin\":true,\"type\":\"pie\"}]},\"layout\":{\"autotypenumbers\":\"strict\",\"colorway\":[\"#636efa\",\"#EF553B\",\"#00cc96\",\"#ab63fa\",\"#FFA15A\",\"#19d3f3\",\"#FF6692\",\"#B6E880\",\"#FF97FF\",\"#FECB52\"],\"font\":{\"color\":\"#2a3f5f\"},\"hovermode\":\"closest\",\"hoverlabel\":{\"align\":\"left\"},\"paper_bgcolor\":\"white\",\"plot_bgcolor\":\"#E5ECF6\",\"polar\":{\"bgcolor\":\"#E5ECF6\",\"angularaxis\":{\"gridcolor\":\"white\",\"linecolor\":\"white\",\"ticks\":\"\"},\"radialaxis\":{\"gridcolor\":\"white\",\"linecolor\":\"white\",\"ticks\":\"\"}},\"ternary\":{\"bgcolor\":\"#E5ECF6\",\"aaxis\":{\"gridcolor\":\"white\",\"linecolor\":\"white\",\"ticks\":\"\"},\"baxis\":{\"gridcolor\":\"white\",\"linecolor\":\"white\",\"ticks\":\"\"},\"caxis\":{\"gridcolor\":\"white\",\"linecolor\":\"white\",\"ticks\":\"\"}},\"coloraxis\":{\"colorbar\":{\"outlinewidth\":0,\"ticks\":\"\"}},\"colorscale\":{\"sequential\":[[0.0,\"#0d0887\"],[0.1111111111111111,\"#46039f\"],[0.2222222222222222,\"#7201a8\"],[0.3333333333333333,\"#9c179e\"],[0.4444444444444444,\"#bd3786\"],[0.5555555555555556,\"#d8576b\"],[0.6666666666666666,\"#ed7953\"],[0.7777777777777778,\"#fb9f3a\"],[0.8888888888888888,\"#fdca26\"],[1.0,\"#f0f921\"]],\"sequentialminus\":[[0.0,\"#0d0887\"],[0.1111111111111111,\"#46039f\"],[0.2222222222222222,\"#7201a8\"],[0.3333333333333333,\"#9c179e\"],[0.4444444444444444,\"#bd3786\"],[0.5555555555555556,\"#d8576b\"],[0.6666666666666666,\"#ed7953\"],[0.7777777777777778,\"#fb9f3a\"],[0.8888888888888888,\"#fdca26\"],[1.0,\"#f0f921\"]],\"diverging\":[[0,\"#8e0152\"],[0.1,\"#c51b7d\"],[0.2,\"#de77ae\"],[0.3,\"#f1b6da\"],[0.4,\"#fde0ef\"],[0.5,\"#f7f7f7\"],[0.6,\"#e6f5d0\"],[0.7,\"#b8e186\"],[0.8,\"#7fbc41\"],[0.9,\"#4d9221\"],[1,\"#276419\"]]},\"xaxis\":{\"gridcolor\":\"white\",\"linecolor\":\"white\",\"ticks\":\"\",\"title\":{\"standoff\":15},\"zerolinecolor\":\"white\",\"automargin\":true,\"zerolinewidth\":2},\"yaxis\":{\"gridcolor\":\"white\",\"linecolor\":\"white\",\"ticks\":\"\",\"title\":{\"standoff\":15},\"zerolinecolor\":\"white\",\"automargin\":true,\"zerolinewidth\":2},\"scene\":{\"xaxis\":{\"backgroundcolor\":\"#E5ECF6\",\"gridcolor\":\"white\",\"linecolor\":\"white\",\"showbackground\":true,\"ticks\":\"\",\"zerolinecolor\":\"white\",\"gridwidth\":2},\"yaxis\":{\"backgroundcolor\":\"#E5ECF6\",\"gridcolor\":\"white\",\"linecolor\":\"white\",\"showbackground\":true,\"ticks\":\"\",\"zerolinecolor\":\"white\",\"gridwidth\":2},\"zaxis\":{\"backgroundcolor\":\"#E5ECF6\",\"gridcolor\":\"white\",\"linecolor\":\"white\",\"showbackground\":true,\"ticks\":\"\",\"zerolinecolor\":\"white\",\"gridwidth\":2}},\"shapedefaults\":{\"line\":{\"color\":\"#2a3f5f\"}},\"annotationdefaults\":{\"arrowcolor\":\"#2a3f5f\",\"arrowhead\":0,\"arrowwidth\":1},\"geo\":{\"bgcolor\":\"white\",\"landcolor\":\"#E5ECF6\",\"subunitcolor\":\"white\",\"showland\":true,\"showlakes\":true,\"lakecolor\":\"white\"},\"title\":{\"x\":0.05},\"mapbox\":{\"style\":\"light\"}}},\"legend\":{\"tracegroupgap\":0},\"title\":{\"text\":\"Business Activities in Meghalaya (Hover the chart to get more information)\"},\"piecolorway\":[\"#0d0887\",\"#46039f\",\"#7201a8\",\"#9c179e\",\"#bd3786\",\"#d8576b\",\"#ed7953\",\"#fb9f3a\",\"#fdca26\",\"#f0f921\"],\"showlegend\":false},                        {\"responsive\": true}                    ).then(function(){\n",
       "                            \n",
       "var gd = document.getElementById('49bee6a5-de93-4cce-855c-0298e1f1dc97');\n",
       "var x = new MutationObserver(function (mutations, observer) {{\n",
       "        var display = window.getComputedStyle(gd).display;\n",
       "        if (!display || display === 'none') {{\n",
       "            console.log([gd, 'removed!']);\n",
       "            Plotly.purge(gd);\n",
       "            observer.disconnect();\n",
       "        }}\n",
       "}});\n",
       "\n",
       "// Listen for the removal of the full notebook cells\n",
       "var notebookContainer = gd.closest('#notebook-container');\n",
       "if (notebookContainer) {{\n",
       "    x.observe(notebookContainer, {childList: true});\n",
       "}}\n",
       "\n",
       "// Listen for the clearing of the current output cell\n",
       "var outputEl = gd.closest('.output');\n",
       "if (outputEl) {{\n",
       "    x.observe(outputEl, {childList: true});\n",
       "}}\n",
       "\n",
       "                        })                };                            </script>        </div>\n",
       "</body>\n",
       "</html>"
      ]
     },
     "metadata": {},
     "output_type": "display_data"
    }
   ],
   "source": [
    "fig=px.pie(companies_business_activity_meghalaya_df,names='Business Activity',values='No. of Companies',\n",
    "       color_discrete_sequence=px.colors.sequential.Plasma,hole=0.4,title='Business Activities in Meghalaya (Hover the chart to get more information)')\n",
    "fig.update_layout(showlegend=False)\n",
    "fig.update_traces(textposition='inside')\n",
    "fig"
   ]
  },
  {
   "cell_type": "markdown",
   "metadata": {
    "id": "W8Pox3vdxEYf"
   },
   "source": [
    "The top principal business activity in Meghalaya is Manufacturing (411) followed by Real estate renting and business activities (149), Mining and quarrying (110), Wholesale and retail trade repair of motor vechicles motorcycles and personal household goods (100), Construction (58)."
   ]
  },
  {
   "cell_type": "markdown",
   "metadata": {
    "id": "q5bohAkO01oR"
   },
   "source": [
    "`Insight`:\n",
    "* For Meghalaya, Mininig and quarrying hold position in top 5 business activities while the overall companies registration Mining and quarrying doesn't hold position in top 5 principal business activities, not in top 10 also."
   ]
  },
  {
   "cell_type": "markdown",
   "metadata": {
    "id": "DZbddOq2aIVC"
   },
   "source": [
    "## Summary and Conclusion\n",
    "1. Uttar Pradesh has the highest population in India but doesn't hold position in top 5 states having highest number of companies registered.\n",
    "2. Approx 60% of the companies are active as of the year 2020.\n",
    "3. Maharastra is the leading state in terms of having highest number of registered companies as well as highest number of active companies with high paidup capital.\n",
    "4. Real estate and rental business activities is the growing industry.\n",
    "5. There is drastic decrease in number of companies registration from 2019 to 2020 but the number of companies registration is higher in Education sector. As the demand for online classes had increased due to covid-19, this could be the reason for the same.\n",
    "6. Approx 92% of the companies are Private.\n",
    "7. The highest number of companies(128.658 k) registered in 2019.Then there is drastically decrease in number of companies registration. In March 2020, government announced the lockdown due to covid-19. This could be reason for decrease in companies registration.\n",
    "8. West Bengal doesn't hold position in top 5 states having highest number of active companies while it hold position in top 5 states having highest registration of companies.\n",
    "9. For Meghalaya, Mininig and quarrying hold position in top 5 business activities while the overall companies registration Mining and quarrying doesn't hold position in top 5 principal business activities, not in top 10 also.\n"
   ]
  },
  {
   "cell_type": "code",
   "execution_count": null,
   "metadata": {
    "colab": {
     "base_uri": "https://localhost:8080/",
     "height": 87
    },
    "executionInfo": {
     "elapsed": 3646,
     "status": "ok",
     "timestamp": 1663929504634,
     "user": {
      "displayName": "Kshama Singhal",
      "userId": "01290402449884306325"
     },
     "user_tz": -330
    },
    "id": "I1N2uQwZaL27",
    "outputId": "ec50b06d-a642-4c71-f4a8-ea3b72d65687"
   },
   "outputs": [
    {
     "name": "stdout",
     "output_type": "stream",
     "text": [
      "[jovian] Detected Colab notebook...\u001b[0m\n",
      "[jovian] Uploading colab notebook to Jovian...\u001b[0m\n",
      "Committed successfully! https://jovian.ai/singhalkshama4343/exploratory-data-analysis-project\n"
     ]
    },
    {
     "data": {
      "application/vnd.google.colaboratory.intrinsic+json": {
       "type": "string"
      },
      "text/plain": [
       "'https://jovian.ai/singhalkshama4343/exploratory-data-analysis-project'"
      ]
     },
     "execution_count": 208,
     "metadata": {},
     "output_type": "execute_result"
    }
   ],
   "source": [
    "jovian.commit()"
   ]
  },
  {
   "cell_type": "markdown",
   "metadata": {
    "id": "1e4lmkolnQVb"
   },
   "source": [
    "## Future Work Ideas\n",
    "We can answer the following questions:\n",
    "- What are the top 5 business activities in Mumbai?\n",
    "- What is the status of most of the companies currently (2020) having highest authorized cap? Which are the top 5 states having highest number of active companies? \n",
    "- What is the average paid up capital by the companies?\n",
    "\n",
    "We can combine this data with different datasets having information like total revenue, profit, loss and other information about the company to get more insights."
   ]
  },
  {
   "cell_type": "markdown",
   "metadata": {
    "id": "1u18_lCh4pnQ"
   },
   "source": [
    "## References:\n",
    "\n",
    "* Tutorial for Pandas available at https://jovian.ai/learn/zero-to-data-analyst-bootcamp/lesson/analyzing-tabular-data-with-pandas\n",
    "* Tutorial for Matplotlib and Seaborn available at https://jovian.ai/learn/zero-to-data-analyst-bootcamp/lesson/visualization-with-matplotlib-and-seaborn\n",
    "* Tutorial for Plotly available at https://jovian.ai/learn/zero-to-data-analyst-bootcamp/lesson/interactive-visualization-with-plotly-and-folium\n",
    "* Build an Exploratory Data Analysis Project from Scratch with Python, Numpy, and Pandas available at https://www.youtube.com/watch?v=kLDTbavcmd0&t=7401s\n",
    "* To change the hover data in Plotly available at\n",
    "https://plotly.com/python/hover-text-and-formatting/\n",
    "\n",
    "* Choropleth Map in Plotly available at https://plotly.com/python/mapbox-county-choropleth/"
   ]
  },
  {
   "cell_type": "code",
   "execution_count": 3,
   "metadata": {
    "colab": {
     "base_uri": "https://localhost:8080/",
     "height": 122
    },
    "executionInfo": {
     "elapsed": 11753,
     "status": "ok",
     "timestamp": 1664442965080,
     "user": {
      "displayName": "Kshama Singhal",
      "userId": "01290402449884306325"
     },
     "user_tz": -330
    },
    "id": "Oaot9TqMaLz6",
    "outputId": "ac46fad3-cd7c-4b8f-9be8-f7806d58cd9a"
   },
   "outputs": [
    {
     "name": "stdout",
     "output_type": "stream",
     "text": [
      "[jovian] Detected Colab notebook...\u001b[0m\n",
      "[jovian] Please enter your API key ( from https://jovian.ai/ ):\u001b[0m\n",
      "API KEY: ··········\n",
      "[jovian] Uploading colab notebook to Jovian...\u001b[0m\n",
      "Committed successfully! https://jovian.ai/singhalkshama4343/exploratory-data-analysis-project\n"
     ]
    },
    {
     "data": {
      "application/vnd.google.colaboratory.intrinsic+json": {
       "type": "string"
      },
      "text/plain": [
       "'https://jovian.ai/singhalkshama4343/exploratory-data-analysis-project'"
      ]
     },
     "execution_count": 3,
     "metadata": {},
     "output_type": "execute_result"
    }
   ],
   "source": [
    "jovian.commit()"
   ]
  }
 ],
 "metadata": {
  "colab": {
   "collapsed_sections": [
    "hnO_6vw0I7h0",
    "kLfOyRvCI07V"
   ],
   "provenance": []
  },
  "kernelspec": {
   "display_name": "Python 3",
   "language": "python",
   "name": "python3"
  },
  "language_info": {
   "codemirror_mode": {
    "name": "ipython",
    "version": 3
   },
   "file_extension": ".py",
   "mimetype": "text/x-python",
   "name": "python",
   "nbconvert_exporter": "python",
   "pygments_lexer": "ipython3",
   "version": "3.7.6"
  }
 },
 "nbformat": 4,
 "nbformat_minor": 0
}